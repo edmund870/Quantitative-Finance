{
 "cells": [
  {
   "cell_type": "markdown",
   "metadata": {},
   "source": [
    "# Part III Static Replication"
   ]
  },
  {
   "cell_type": "code",
   "execution_count": 32,
   "metadata": {},
   "outputs": [],
   "source": [
    "import numpy as np\n",
    "import pandas as pd\n",
    "import datetime  as dt\n",
    "from scipy.stats import norm\n",
    "from scipy import interpolate\n",
    "from scipy.optimize import brentq\n",
    "from scipy.integrate import quad"
   ]
  },
  {
   "cell_type": "code",
   "execution_count": 33,
   "metadata": {},
   "outputs": [
    {
     "name": "stdout",
     "output_type": "stream",
     "text": [
      "The integral is: 8.666666667\n"
     ]
    }
   ],
   "source": [
    "# Payoff Function\n",
    "\n",
    "def integrand(x):\n",
    "    return x **  1/3 + 1.5 * np.log(x) + 10.0\n",
    "\n",
    "\n",
    "I = quad(integrand, 0.0, 1.0)\n",
    "print('The integral is: %.9f' % I[0])\n"
   ]
  },
  {
   "cell_type": "markdown",
   "metadata": {},
   "source": [
    "# Import Data"
   ]
  },
  {
   "cell_type": "code",
   "execution_count": 34,
   "metadata": {},
   "outputs": [],
   "source": [
    "rates = pd.read_csv('zero_rates_20201201.csv')\n",
    "spx_df = pd.read_csv('SPX_options.csv')\n",
    "spy_df = pd.read_csv('SPY_options.csv')\n",
    "\n",
    "spx_df['best_mid_price'] = (spx_df['best_bid'] + spx_df['best_offer']) / 2\n",
    "spx_df['strike_price'] = spx_df['strike_price'] / 1000\n",
    "\n",
    "spy_df['best_mid_price'] = (spy_df['best_bid'] + spy_df['best_offer']) / 2\n",
    "spy_df['strike_price'] = spy_df['strike_price'] / 1000\n",
    "\n",
    "#Interpolation interest rate\n",
    "days = rates['days']\n",
    "rate = rates['rate']\n",
    "interpolated = interpolate.interp1d(days,rate)"
   ]
  },
  {
   "cell_type": "markdown",
   "metadata": {},
   "source": [
    "## Compute Payoff For Black-Scholes (1)"
   ]
  },
  {
   "cell_type": "code",
   "execution_count": 35,
   "metadata": {},
   "outputs": [],
   "source": [
    "#Pay-off function using Black Scholes Model\n",
    "def black_scholes_payoff(S, K, r, sigma, T):\n",
    "\n",
    "    first_term = (S ** (1/3) * np.exp((1 / 3) * r * T - (1 / 9) * sigma ** 2 * T))\n",
    "\n",
    "    second_term = 1.5 * (np.log(S) + (r - 0.5 * sigma ** 2) * T)\n",
    "\n",
    "    return np.exp(-r * T) * (first_term + second_term + 10.0)\n",
    "\n",
    "#Pay-off function using Bachelier Model\n",
    "def Bach_Payoff(S, K, r, sigma, T):\n",
    "    \n",
    "    def f(x):\n",
    "        return (S + sigma * np.sqrt(T) * x) ** (1/3) * np.exp(-0.5 * x ** 2)\n",
    "    def s(x):\n",
    "        return np.log(S + sigma * np.sqrt(T) * x) * np.exp(-0.5 * x ** 2)\n",
    "\n",
    "    bounds = float('inf')\n",
    "    \n",
    "    first_term = (1 / np.sqrt(2 * np.pi)) * quad(f, -bounds, bounds)[0]\n",
    "\n",
    "    second_term = 1.5 * (1 / np.sqrt(2 * np.pi)) * quad(s, -bounds, bounds)[0]\n",
    "\n",
    "    return (first_term + second_term + 10) * np.exp(-r * T)"
   ]
  },
  {
   "cell_type": "markdown",
   "metadata": {},
   "source": [
    "# Define Models"
   ]
  },
  {
   "cell_type": "code",
   "execution_count": 36,
   "metadata": {},
   "outputs": [],
   "source": [
    "#Black-Scholes Model\n",
    "\n",
    "def BlackScholesCall(S, K, r, sigma, T):\n",
    "    d1 = (np.log(S / K) + (r + sigma ** 2 / 2) * T) / (sigma * np.sqrt(T))\n",
    "    d2 = d1 - sigma * np.sqrt(T)\n",
    "\n",
    "    return S * norm.cdf(d1) - K * np.exp(-r * T) * norm.cdf(d2)\n",
    "\n",
    "def BlackScholesPut(S, K, r, sigma, T):\n",
    "    d1 = (np.log(S / K) + (r + sigma **2 / 2) * T) / (sigma * np.sqrt(T))\n",
    "    d2 = d1 - sigma * np.sqrt(T)\n",
    "\n",
    "    return K * np.exp(-r * T) * norm.cdf(-d2) - S * norm.cdf(-d1)\n",
    "\n",
    "#Implied Call & Put Volatility\n",
    "def bs_impliedCallVolatility(S, K, r, price, T):\n",
    "    impliedVol = brentq(lambda x: price -\n",
    "                        BlackScholesCall(S, K, r, x, T),\n",
    "                        1e-6, 1)\n",
    "\n",
    "    return impliedVol\n",
    "\n",
    "def bs_impliedPutVolatility(S, K, r, price, T):\n",
    "    impliedVol = brentq(lambda x: price -\n",
    "                        BlackScholesPut(S, K, r, x, T),\n",
    "                        1e-6, 1)\n",
    "                        \n",
    "    return impliedVol\n",
    "\n",
    "\n",
    "# Bachelier Model\n",
    "def BachelierCall(S, K, r, sigma, T):\n",
    "    d = (S - K) / (S * sigma * np.sqrt(T))\n",
    "\n",
    "    return np.exp(-r * T) * ((S-K) * norm.cdf(d) + S * sigma * np.sqrt(T) * norm.pdf(d))\n",
    "\n",
    "def BachelierPut(S, K, r, sigma, T):\n",
    "    d = (S - K) / (S * sigma * np.sqrt(T))\n",
    "\n",
    "    return np.exp(-r * T) * ((K - S) * norm.cdf(-d) + S * sigma * np.sqrt(T) * norm.pdf(-d))\n",
    "\n",
    "#Implied Call & Put Volatility\n",
    "def bach_impliedCallVolatility(S, K, r, price, T):\n",
    "    impliedVol = brentq(lambda x: price -\n",
    "                        BachelierCall(S, K, r, x, T),\n",
    "                        1e-6, 1)\n",
    "\n",
    "    return impliedVol\n",
    "\n",
    "def bach_impliedPutVolatility(S, K, r, price, T):\n",
    "    impliedVol = brentq(lambda x: price -\n",
    "                        BachelierPut(S, K, r, x, T),\n",
    "                        1e-6, 1)\n",
    "                        \n",
    "    return impliedVol\n"
   ]
  },
  {
   "cell_type": "code",
   "execution_count": 37,
   "metadata": {
    "scrolled": false
   },
   "outputs": [
    {
     "name": "stdout",
     "output_type": "stream",
     "text": [
      "SPX ATM sigma using blackscholes:  0.1853718842874737\n",
      "SPY ATM sigma using blackscholes:  0.1848115441954425\n"
     ]
    }
   ],
   "source": [
    "start = dt.date(2020, 12, 1)\n",
    "expiry = dt.date(2021, 1, 15)\n",
    "\n",
    "#Calculate at SPX money sigma\n",
    "T = (expiry - start).days/365\n",
    "spx_S = 3662.45\n",
    "spy_S = 366.02\n",
    "r = interpolated(T * 365) / 100\n",
    "spx_K = 3660\n",
    "spy_K = 366\n",
    "\n",
    "def calc_atm_sigma(df, T, S, r, K, dataset, model):\n",
    "    # dataset = 'SPY' or 'SPX'\n",
    "    # model = 'blackscholes' or 'bachelier'\n",
    "\n",
    "    atm_call = \\\n",
    "        df[\n",
    "            (df.strike_price >= K) & \n",
    "            (df.exdate == int(expiry.strftime('%Y%m%d'))) & \n",
    "            (df.cp_flag == 'C')\n",
    "        ] \\\n",
    "            .best_mid_price.iloc[0, ]\n",
    "\n",
    "    atm_put = \\\n",
    "        df[\n",
    "            (df.strike_price >= K) & \n",
    "            (df.exdate == int(expiry.strftime('%Y%m%d'))) & \n",
    "            (df.cp_flag == 'P')\n",
    "        ] \\\n",
    "            .best_mid_price.iloc[0, ]\n",
    "    \n",
    "    if model == 'blackscholes':\n",
    "        sigma_call = bs_impliedCallVolatility(S, K, r, atm_call, T)\n",
    "        sigma_put = bs_impliedPutVolatility(S, K, r, atm_put, T)\n",
    "    else:\n",
    "        sigma_call = bach_impliedCallVolatility(S, K, r, atm_call, T)\n",
    "        sigma_put = bach_impliedPutVolatility(S, K, r, atm_put, T)\n",
    "        \n",
    "    sigma = (sigma_call + sigma_put)/2\n",
    "\n",
    "    print(dataset + ' ATM sigma using ' + model + ': ', sigma)\n",
    "    return sigma\n",
    "\n",
    "spx_bs_sigma = calc_atm_sigma(spx_df, T, spx_S, r, spx_K, 'SPX', 'blackscholes')\n",
    "spy_bs_sigma = calc_atm_sigma(spy_df, T, spy_S, r, spy_K, 'SPY', 'blackscholes')"
   ]
  },
  {
   "cell_type": "markdown",
   "metadata": {},
   "source": [
    "## Compute Black-Scholes Price (1)"
   ]
  },
  {
   "cell_type": "code",
   "execution_count": 38,
   "metadata": {},
   "outputs": [
    {
     "name": "stdout",
     "output_type": "stream",
     "text": [
      "SPX Black-Scholes Model Price: 37.70484553986259\n",
      "SPY Black-Scholes Model Price: 25.995155797750314\n"
     ]
    }
   ],
   "source": [
    "#Calculate SPX Pricing\n",
    "spx_BS_Price = black_scholes_payoff(spx_S, spx_K, r, spx_bs_sigma, T)\n",
    "print('SPX Black-Scholes Model Price:', spx_BS_Price)\n",
    "\n",
    "#Calculate SPY Pricing\n",
    "spy_BS_Price = black_scholes_payoff(spy_S, spy_K, r, spy_bs_sigma, T)\n",
    "\n",
    "print('SPY Black-Scholes Model Price:', spy_BS_Price)"
   ]
  },
  {
   "cell_type": "markdown",
   "metadata": {},
   "source": [
    "## Compute Bachelier Price (2)"
   ]
  },
  {
   "cell_type": "code",
   "execution_count": 39,
   "metadata": {
    "scrolled": true
   },
   "outputs": [
    {
     "name": "stdout",
     "output_type": "stream",
     "text": [
      "SPX ATM sigma using bachelier:  0.1853093750058496\n",
      "SPY ATM sigma using bachelier:  0.18479898144523038\n"
     ]
    }
   ],
   "source": [
    "bach_spx_sigma = calc_atm_sigma(spx_df, T, spx_S, r, spx_K, 'SPX', 'bachelier')\n",
    "bach_spy_sigma = calc_atm_sigma(spy_df, T, spy_S, r, spy_K, 'SPY', 'bachelier')"
   ]
  },
  {
   "cell_type": "code",
   "execution_count": 40,
   "metadata": {},
   "outputs": [
    {
     "name": "stdout",
     "output_type": "stream",
     "text": [
      "SPX Bachelier Model Price: 37.71359681715785\n",
      "SPY Bachelier Model Price: 26.000676619258684\n"
     ]
    }
   ],
   "source": [
    "spx_Bach_Price = Bach_Payoff(spx_S, spx_K, r, bach_spx_sigma, T)\n",
    "print('SPX Bachelier Model Price:', spx_Bach_Price)\n",
    "\n",
    "spy_Bach_Price = Bach_Payoff(spy_S, spy_K, r, bach_spy_sigma, T)\n",
    "print('SPY Bachelier Model Price:', spy_Bach_Price)"
   ]
  },
  {
   "cell_type": "markdown",
   "metadata": {},
   "source": [
    "### Static Replication (SABR)"
   ]
  },
  {
   "cell_type": "code",
   "execution_count": 41,
   "metadata": {},
   "outputs": [
    {
     "name": "stdout",
     "output_type": "stream",
     "text": [
      "SPX Static Replication Price: 37.700414693\n",
      "SPY Static Replication Price: 25.992666574\n"
     ]
    }
   ],
   "source": [
    "def SABR(F, K, T, alpha, beta, rho, nu):\n",
    "    X = K\n",
    "    # if K is at-the-money-forward\n",
    "    if abs(F - K) < 1e-12:\n",
    "        numer1 = (((1 - beta) ** 2) / 24) * alpha * alpha / (F ** (2 - 2 * beta))\n",
    "        numer2 = 0.25 * rho * beta * nu * alpha / (F ** (1 - beta))\n",
    "        numer3 = ((2 - 3 * rho * rho) / 24) * nu * nu\n",
    "        VolAtm = alpha * (1 + (numer1 + numer2 + numer3) * T) / (F ** (1 - beta))\n",
    "        sabrsigma = VolAtm\n",
    "    else:\n",
    "        z = (nu / alpha) * ((F * X) ** (0.5 * (1 - beta))) * np.log(F / X)\n",
    "        zhi = np.log((((1 - 2 * rho * z + z * z) ** 0.5) + z - rho) / (1 - rho))\n",
    "        numer1 = (((1 - beta) ** 2) / 24) * ((alpha * alpha) / ((F * X) ** (1 - beta)))\n",
    "        numer2 = 0.25 * rho * beta * nu * alpha / ((F * X) ** ((1 - beta) / 2))\n",
    "        numer3 = ((2 - 3 * rho * rho) / 24) * nu * nu\n",
    "        numer = alpha * (1 + (numer1 + numer2 + numer3) * T) * z\n",
    "        denom1 = ((1 - beta) ** 2 / 24) * (np.log(F / X)) ** 2\n",
    "        denom2 = (((1 - beta) ** 4) / 1920) * ((np.log(F / X)) ** 4)\n",
    "        denom = ((F * X) ** ((1 - beta) / 2)) * (1 + denom1 + denom2) * zhi\n",
    "        sabrsigma = numer / denom\n",
    "\n",
    "    return sabrsigma\n",
    "\n",
    "def SABRCall(S, K, r, alpha, beta, rho, nu, T):\n",
    "    sabr_vol = SABR(S * np.exp(r * T), K, T, alpha, beta, rho, nu)\n",
    "    return BlackScholesCall(S, K, r, sabr_vol, T)\n",
    "\n",
    "\n",
    "def SABRPut(S, K, r, alpha, beta, rho, nu, T):\n",
    "    sabr_vol = SABR(S * np.exp(r * T), K, T, alpha, beta, rho, nu)\n",
    "    return BlackScholesPut(S, K, r, sabr_vol, T)\n",
    "\n",
    "\n",
    "def sabrcallintegrand(K, S, r, T, alpha, beta, rho, nu):\n",
    "    price = SABRCall(S, K, r, alpha, beta, rho, nu, T) * ((- 2 / 9) * K ** (-5 / 3) - 1.5 / (K ** 2))\n",
    "    return price\n",
    "\n",
    "\n",
    "def sabrputintegrand(K, S, r, T, alpha, beta, rho, nu):\n",
    "    price = SABRPut(S, K, r, alpha, beta, rho, nu, T) * ((- 2 / 9) * K ** (-5 / 3) - 1.5 / (K ** 2))\n",
    "    return price\n",
    "\n",
    "\n",
    "#S = 3662.45\n",
    "#r = interpolated(T * 365) / 100\n",
    "#T = (expiry - start).days / 365\n",
    "spx_alpha = 1.81600099\n",
    "beta = 0.7\n",
    "spx_rho = -0.40141522\n",
    "spx_nu = 2.79103083\n",
    "\n",
    "spy_alpha = 0.90783421\n",
    "spy_rho = -0.48729513\n",
    "spy_nu = 2.72885668\n",
    "\n",
    "spx_F = spx_S * np.exp(r * T)\n",
    "spy_F = spy_S * np.exp(r * T)\n",
    "\n",
    "spx_hF = ((spx_S ** (1/3) * np.exp((1/3) * r * T)) + 1.5 * np.log(spx_S * np.exp(r * T)) + 10.0)\n",
    "spy_hF = ((spy_S ** (1/3) * np.exp((1/3) * r * T)) + 1.5 * np.log(spy_S * np.exp(r * T)) + 10.0)\n",
    "\n",
    "spx_I_put = quad(lambda x: sabrputintegrand(x, spx_S, r, T, spx_alpha, beta, spx_rho, spx_nu), 1e-6, spx_F)\n",
    "spx_I_call = quad(lambda x: sabrcallintegrand(x, spx_S, r, T, spx_alpha, beta, spx_rho, spx_nu), spx_F, 5000)\n",
    "spx_static_replication_price = np.exp(-r * T) * spx_hF + (spx_I_put[0] + spx_I_call[0])\n",
    "\n",
    "spy_I_put = quad(lambda x: sabrputintegrand(x, spy_S, r, T, spy_alpha, beta, spy_rho, spy_nu), 1e-6, spy_F)\n",
    "spy_I_call = quad(lambda x: sabrcallintegrand(x, spy_S, r, T, spy_alpha, beta, spy_rho, spy_nu), spy_F, 5000)\n",
    "spy_static_replication_price = np.exp(-r * T) * spy_hF + (spy_I_put[0] + spy_I_call[0])\n",
    "\n",
    "print('SPX Static Replication Price: %.9f' % spx_static_replication_price)\n",
    "print('SPY Static Replication Price: %.9f' % spy_static_replication_price)"
   ]
  },
  {
   "cell_type": "markdown",
   "metadata": {},
   "source": [
    "## Compute Payoff For Integrated Variance"
   ]
  },
  {
   "cell_type": "code",
   "execution_count": 42,
   "metadata": {},
   "outputs": [
    {
     "name": "stdout",
     "output_type": "stream",
     "text": [
      "The Black Scholes expected integrated variance for SPX is: 0.004236501\n",
      "The Black Scholes expected integrated variance for SPY is: 0.004210928\n"
     ]
    }
   ],
   "source": [
    "# Black Scholes Model Integrated Variance Function\n",
    "def BS_callintegrand(K, S, r, T, sigma):\n",
    "    price = BlackScholesCall(S, K, r, sigma, T) / K**2\n",
    "    return price\n",
    "\n",
    "def BS_putintegrand(K, S, r, T, sigma):\n",
    "    price = BlackScholesPut(S, K, r, sigma, T) / K**2\n",
    "    return price\n",
    "\n",
    "spx_F = spx_S * np.exp(r * T)\n",
    "spx_I_put = quad(lambda x: BS_putintegrand(x, spx_S, r, T, spx_bs_sigma), 0.0, spx_F)\n",
    "spx_I_call = quad(lambda x: BS_callintegrand(x, spx_S, r, T, spx_bs_sigma), spx_F, 5000)\n",
    "spx_BS_E_var = 2 * np.exp(r * T) * (spx_I_put[0] + spx_I_call[0])\n",
    "print('The Black Scholes expected integrated variance for SPX is: %.9f' % spx_BS_E_var)\n",
    "\n",
    "spy_F = spy_S * np.exp(r * T)\n",
    "spy_I_put = quad(lambda x: BS_putintegrand(x, spy_S, r, T, spy_bs_sigma), 0.0, spy_F)\n",
    "spy_I_call = quad(lambda x: BS_callintegrand(x, spy_S, r, T, spy_bs_sigma), spy_F, 5000)\n",
    "spy_BS_E_var = 2 * np.exp(r * T) * (spy_I_put[0] + spy_I_call[0])\n",
    "print('The Black Scholes expected integrated variance for SPY is: %.9f' % spy_BS_E_var)"
   ]
  },
  {
   "cell_type": "code",
   "execution_count": 43,
   "metadata": {},
   "outputs": [
    {
     "name": "stdout",
     "output_type": "stream",
     "text": [
      "The Bachelier expected integrated variance for SPX is: 0.004260983\n",
      "The Bachelier expected integrated variance for SPY is: 0.004237392\n"
     ]
    }
   ],
   "source": [
    "# Bachelier Model Integrated Variance Function\n",
    "def Bach_callintegrand(K, S, r, T, sigma):\n",
    "    price = BachelierCall(S, K, r, sigma, T) / K**2\n",
    "    return price\n",
    "\n",
    "def Bach_putintegrand(K, S, r, T, sigma):\n",
    "    price = BachelierPut(S, K, r, sigma, T) / K**2\n",
    "    return price\n",
    "\n",
    "\n",
    "spx_F = spx_S * np.exp(r * T)\n",
    "spx_I_put = quad(lambda x: Bach_putintegrand(x, spx_S, r, T, bach_spx_sigma), 0.0, spx_F)\n",
    "spx_I_call = quad(lambda x: Bach_callintegrand(x, spx_S, r, T, bach_spx_sigma), spx_F, 5000)\n",
    "spx_Bach_E_var = 2 * np.exp(r * T) * (spx_I_put[0] + spx_I_call[0])\n",
    "print('The Bachelier expected integrated variance for SPX is: %.9f' % spx_Bach_E_var)\n",
    "\n",
    "\n",
    "spy_F = spy_S * np.exp(r * T)\n",
    "spy_I_put = quad(lambda x: Bach_putintegrand(x, spy_S, r, T, bach_spy_sigma), 0.0, spy_F)\n",
    "spy_I_call = quad(lambda x: Bach_callintegrand(x, spy_S, r, T, bach_spy_sigma), spy_F, 5000)\n",
    "spy_Bach_E_var = 2 * np.exp(r * T) * (spy_I_put[0] + spy_I_call[0])\n",
    "print('The Bachelier expected integrated variance for SPY is: %.9f' % spy_Bach_E_var)"
   ]
  },
  {
   "cell_type": "code",
   "execution_count": 44,
   "metadata": {},
   "outputs": [
    {
     "name": "stdout",
     "output_type": "stream",
     "text": [
      "The static replication expected integrated variance for SPX is: 0.006333770\n",
      "The static replication expected integrated variance for SPY is: 0.006013238\n"
     ]
    }
   ],
   "source": [
    "def SABR(F, K, T, alpha, beta, rho, nu):\n",
    "    X = K\n",
    "    # if K is at-the-money-forward\n",
    "    if abs(F - K) < 1e-12:\n",
    "        numer1 = (((1 - beta) ** 2) / 24) * alpha * alpha / (F ** (2 - 2 * beta))\n",
    "        numer2 = 0.25 * rho * beta * nu * alpha / (F ** (1 - beta))\n",
    "        numer3 = ((2 - 3 * rho * rho) / 24) * nu * nu\n",
    "        VolAtm = alpha * (1 + (numer1 + numer2 + numer3) * T) / (F ** (1 - beta))\n",
    "        sabrsigma = VolAtm\n",
    "    else:\n",
    "        z = (nu / alpha) * ((F * X) ** (0.5 * (1 - beta))) * np.log(F / X)\n",
    "        zhi = np.log((((1 - 2 * rho * z + z * z) ** 0.5) + z - rho) / (1 - rho))\n",
    "        numer1 = (((1 - beta) ** 2) / 24) * ((alpha * alpha) / ((F * X) ** (1 - beta)))\n",
    "        numer2 = 0.25 * rho * beta * nu * alpha / ((F * X) ** ((1 - beta) / 2))\n",
    "        numer3 = ((2 - 3 * rho * rho) / 24) * nu * nu\n",
    "        numer = alpha * (1 + (numer1 + numer2 + numer3) * T) * z\n",
    "        denom1 = ((1 - beta) ** 2 / 24) * (np.log(F / X)) ** 2\n",
    "        denom2 = (((1 - beta) ** 4) / 1920) * ((np.log(F / X)) ** 4)\n",
    "        denom = ((F * X) ** ((1 - beta) / 2)) * (1 + denom1 + denom2) * zhi\n",
    "        sabrsigma = numer / denom\n",
    "\n",
    "    return sabrsigma\n",
    "\n",
    "\n",
    "\n",
    "def SABRCall(S, K, r, alpha, beta, rho, nu, T):\n",
    "    sabr_vol = SABR(S * np.exp(r * T), K, T, alpha, beta, rho, nu)\n",
    "    return BlackScholesCall(S, K, r, sabr_vol, T)\n",
    "\n",
    "\n",
    "def SABRPut(S, K, r, alpha, beta, rho, nu, T):\n",
    "    sabr_vol = SABR(S * np.exp(r * T), K, T, alpha, beta, rho, nu)\n",
    "    return BlackScholesPut(S, K, r, sabr_vol, T)\n",
    "\n",
    "\n",
    "def sabrcallintegrand(K, S, r, T, alpha, beta, rho, nu):\n",
    "    price = SABRCall(S, K, r, alpha, beta, rho, nu, T) / K ** 2\n",
    "    return price\n",
    "\n",
    "\n",
    "def sabrputintegrand(K, S, r, T, alpha, beta, rho, nu):\n",
    "    price = SABRPut(S, K, r, alpha, beta, rho, nu, T) / K ** 2\n",
    "    return price\n",
    "\n",
    "spx_alpha = 1.81600099\n",
    "beta = 0.7\n",
    "spx_rho = -0.40141522\n",
    "spx_nu = 2.79103083\n",
    "\n",
    "spy_alpha = 0.90783421\n",
    "spy_rho = -0.48729513\n",
    "spy_nu = 2.72885668\n",
    "\n",
    "spx_F = spx_S * np.exp(r * T)\n",
    "spx_I_put = quad(lambda x: sabrputintegrand(x, spx_S, r, T, spx_alpha, beta, spx_rho, spx_nu), 1e-6, spx_F)\n",
    "spx_I_call = quad(lambda x: sabrcallintegrand(x, spx_S, r, T, spx_alpha, beta, spx_rho, spx_nu), spx_F, 5000)\n",
    "spx_E_var = 2 * np.exp(r * T) * (spx_I_put[0] + spx_I_call[0])\n",
    "print('The static replication expected integrated variance for SPX is: %.9f' % spx_E_var)\n",
    "\n",
    "spy_F = spy_S * np.exp(r * T)\n",
    "spy_I_put = quad(lambda x: sabrputintegrand(x, spy_S, r, T, spy_alpha, beta, spy_rho, spy_nu), 1e-6, spy_F)\n",
    "spy_I_call = quad(lambda x: sabrcallintegrand(x, spy_S, r, T, spy_alpha, beta, spy_rho, spy_nu), spy_F, 5000)\n",
    "spy_E_var = 2 * np.exp(r * T) * (spy_I_put[0] + spy_I_call[0])\n",
    "print('The static replication expected integrated variance for SPY is: %.9f' % spy_E_var)"
   ]
  },
  {
   "cell_type": "markdown",
   "metadata": {},
   "source": [
    "# Final Outputs"
   ]
  },
  {
   "cell_type": "code",
   "execution_count": 45,
   "metadata": {},
   "outputs": [
    {
     "name": "stdout",
     "output_type": "stream",
     "text": [
      "For Payoff (1)\n",
      "SPX:\n",
      "SPX Black-Scholes Model Price: 37.70484553986259, sigma used 0.1853718842874737\n",
      "SPX Bachelier Model Price: 37.71359681715785, sigma used 0.1853093750058496\n",
      "SPX Static Replication Price: 37.700414693 , SABR params: alpha: 1.81600099, beta: 0.7, rho: -0.40141522, nu: 2.79103083\n",
      "\n",
      "SPY:\n",
      "SPY Black-Scholes Model Price: 25.995155797750314, sigma used 0.1848115441954425\n",
      "SPY Bachelier Model Price: 26.000676619258684, sigma used 0.18479898144523038\n",
      "SPY Static Replication Price: 25.992666574 , SABR params: alpha: 0.90783421, beta: 0.7, rho: -0.48729513, nu: 2.72885668\n",
      "\n",
      "For Payoff (2)\n",
      "SPX:\n",
      "The Black Scholes expected integrated variance for SPX is: 0.004236501 , sigma used 0.1853718842874737\n",
      "The Bachelier expected integrated variance for SPX is: 0.004260983 , sigma used 0.1853093750058496\n",
      "The static replication expected integrated variance for SPX is: 0.006333770 , SABR params: alpha: 1.81600099, beta: 0.7, rho: -0.40141522, nu: 2.79103083\n",
      "\n",
      "SPY:\n",
      "The Black Scholes expected integrated variance for SPY is: 0.004210928 , sigma used 0.1853718842874737\n",
      "The Bachelier expected integrated variance for SPY is: 0.004237392 , sigma used 0.18479898144523038\n",
      "The static replication expected integrated variance for SPY is: 0.006013238 , SABR params: alpha: 0.90783421, beta: 0.7, rho: -0.48729513, nu: 2.72885668\n"
     ]
    }
   ],
   "source": [
    "print('For Payoff (1)\\nSPX:')\n",
    "print(f'SPX Black-Scholes Model Price: {spx_BS_Price}, sigma used {spx_bs_sigma}')\n",
    "print(f'SPX Bachelier Model Price: {spx_Bach_Price}, sigma used {bach_spx_sigma}')\n",
    "print('SPX Static Replication Price: %.9f' % spx_static_replication_price, f', SABR params: alpha: {spx_alpha}, beta: {beta}, rho: {spx_rho}, nu: {spx_nu}')\n",
    "\n",
    "print('\\nSPY:')\n",
    "print(f'SPY Black-Scholes Model Price: {spy_BS_Price}, sigma used {spy_bs_sigma}')\n",
    "print(f'SPY Bachelier Model Price: {spy_Bach_Price}, sigma used {bach_spy_sigma}')\n",
    "print('SPY Static Replication Price: %.9f' % spy_static_replication_price, f', SABR params: alpha: {spy_alpha}, beta: {beta}, rho: {spy_rho}, nu: {spy_nu}')\n",
    "\n",
    "print('\\nFor Payoff (2)\\nSPX:')\n",
    "print('The Black Scholes expected integrated variance for SPX is: %.9f' % spx_BS_E_var, f', sigma used {spx_bs_sigma}')\n",
    "print('The Bachelier expected integrated variance for SPX is: %.9f' % spx_Bach_E_var, f', sigma used {bach_spx_sigma}')\n",
    "print('The static replication expected integrated variance for SPX is: %.9f' % spx_E_var, f', SABR params: alpha: {spx_alpha}, beta: {beta}, rho: {spx_rho}, nu: {spx_nu}')\n",
    "\n",
    "\n",
    "print('\\nSPY:')\n",
    "print('The Black Scholes expected integrated variance for SPY is: %.9f' % spy_BS_E_var, f', sigma used {spx_bs_sigma}')\n",
    "print('The Bachelier expected integrated variance for SPY is: %.9f' % spy_Bach_E_var, f', sigma used {bach_spy_sigma}')\n",
    "print('The static replication expected integrated variance for SPY is: %.9f' % spy_E_var, f', SABR params: alpha: {spy_alpha}, beta: {beta}, rho: {spy_rho}, nu: {spy_nu}')"
   ]
  }
 ],
 "metadata": {
  "kernelspec": {
   "display_name": "Python 3 (ipykernel)",
   "language": "python",
   "name": "python3"
  },
  "language_info": {
   "codemirror_mode": {
    "name": "ipython",
    "version": 3
   },
   "file_extension": ".py",
   "mimetype": "text/x-python",
   "name": "python",
   "nbconvert_exporter": "python",
   "pygments_lexer": "ipython3",
   "version": "3.9.2"
  }
 },
 "nbformat": 4,
 "nbformat_minor": 2
}
