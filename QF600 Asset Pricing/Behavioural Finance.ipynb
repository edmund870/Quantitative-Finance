{
 "cells": [
  {
   "cell_type": "markdown",
   "metadata": {},
   "source": [
    "# QF600 Asset Pricing\n",
    "## Behavioural Finance\n",
    "### Chia Jun Xian Edmund"
   ]
  },
  {
   "cell_type": "markdown",
   "metadata": {},
   "source": [
    "Assume Barberis, Huang, and Santos economy where investor receives utility from consumption as well as recent financial gain or loss. Use these parameters:\n",
    "\n",
    "delta = 0.99, gamma = 1, lambda = 2\n",
    "\n",
    "Consumption growth has lognormal distribution:\n",
    "\n",
    "lng = 0.02 + 0.02ε\n",
    "\n",
    "where ε is standard normal random variable. Simulate probability distribution for consumption growth with (at least) 10e4 random draws from standard normal distribution.\n",
    "\n",
    "With these parameters, risk-free rate is around 3% per year:\n",
    "\n",
    "Rf = e^0.0198 / 0.99 = 1.0303\n",
    "\n",
    " Define x as one plus dividend yield for market portfolio:\n",
    "\n",
    " \n",
    " x = (1 + P / D) * D / P = 1 + D / P\n",
    " \n",
    "\n",
    "and define error term:\n",
    "\n",
    "e(x) = 0.99bE[v(xg)] + 0.99x - 1\n",
    "\n",
    "where utility from recent financial gain or loss is given by:\n",
    "\n",
    "v(R) = R - 1.0303 for R >= 1.0303\n",
    "\n",
    "v(R) = 2(R - 1.0303) for R <> 1.0303\n",
    "\n",
    "Solve for e(x) = 0 to find equilibrium value of x, using bisection search:\n",
    "\n",
    "1. Set x– = 1 and x+ = 1.1, and use simulated distribution of consumption growth to confirm that e(x–) < 0 and e(x+) > 0 ⇒ solution must lie between x– and x+\n",
    "2. Set x0 = 0.5*(x– + x+) and use simulated distribution of consumption growth to calculate e(x0)\n",
    "3. If |e(x0)| < 10–5, then you have converged to solution\n",
    "4. Otherwise if e(x0) < 0, then solution lies between x0 and x+ ⇒ repeat from step 2 with x– = x0\n",
    "5. Otherwise if e(x0) > 0, then solution lies between x– and x0 ⇒ repeat from step 2 with x+ = x0\n",
    "6. Repeat for b0 in range from 0 to 10, in increments of 0.1 (or less). \n",
    "\n",
    "Calculate price-dividend ratio for market portfolio:\n",
    "\n",
    "P / D = 1 / (x - 1)\n",
    " \n",
    "Plot price-dividend ratio (on vertical axis) vs b0.\n",
    "\n",
    "Calculate expected market return:\n",
    "\n",
    "E(Rm) = E(xg) = xe^0.0202\n",
    "\n",
    "Plot equity premium (on vertical axis) vs b0.\n",
    "\n",
    "Briefly explain main characteristics of v(∙) (which is utility function to measure utility from recent financial gain or loss), as well as economic significance of b0 and λ."
   ]
  },
  {
   "cell_type": "code",
   "execution_count": 1,
   "metadata": {},
   "outputs": [],
   "source": [
    "import pandas as pd\n",
    "import numpy as np\n",
    "import matplotlib.pyplot as plt\n",
    "import warnings\n",
    "warnings.filterwarnings('ignore')"
   ]
  },
  {
   "cell_type": "code",
   "execution_count": 2,
   "metadata": {},
   "outputs": [],
   "source": [
    "def consumption_growth():\n",
    "    \n",
    "    # simulate epsilon using standard normal distribution\n",
    "    epsilon = \\\n",
    "        np \\\n",
    "            .random \\\n",
    "                .standard_normal()\n",
    "\n",
    "    # consumption growth formula\n",
    "    g = \\\n",
    "        np \\\n",
    "            .exp(\n",
    "                0.02 + 0.02 * epsilon\n",
    "            )\n",
    "\n",
    "    return g"
   ]
  },
  {
   "cell_type": "code",
   "execution_count": 24,
   "metadata": {},
   "outputs": [],
   "source": [
    "# monte carlo trials\n",
    "trials = 100000\n",
    "\n",
    "# placeholder to store all the consumption growth values\n",
    "g = []\n",
    "\n",
    "np.random.seed(1)\n",
    "\n",
    "# simulate\n",
    "for trial in range(trials):\n",
    "    \n",
    "    g.append(consumption_growth())"
   ]
  },
  {
   "cell_type": "code",
   "execution_count": 25,
   "metadata": {},
   "outputs": [
    {
     "data": {
      "text/plain": [
       "1.0307232637606483"
      ]
     },
     "execution_count": 25,
     "metadata": {},
     "output_type": "execute_result"
    }
   ],
   "source": [
    "# risk free calc\n",
    "delta = 0.99\n",
    "gamma = 1\n",
    "lamda = 2\n",
    "\n",
    "# rf = np.exp(gamma * (np.mean(g) - 1) - 0.5 * (gamma ** 2) * (np.std(g) ** 2)) * (1 / delta)\n",
    "rf = 1 / (delta * np.mean(np.array(g) ** - gamma))"
   ]
  },
  {
   "cell_type": "code",
   "execution_count": 4,
   "metadata": {},
   "outputs": [],
   "source": [
    "def expected_utility_calc(kappa, g):\n",
    "\n",
    "    Eu = \\\n",
    "        np.mean(\n",
    "            np.where(\n",
    "                kappa * g >= 1.0303,\n",
    "                kappa * g - 1.0303,\n",
    "                2 * (kappa * g - 1.0303)\n",
    "            )\n",
    "        )\n",
    "\n",
    "    return Eu\n",
    "\n",
    "def error(b, utility, kappa):\n",
    "\n",
    "    err = 0.99 * b * utility + 0.99 * kappa - 1\n",
    "    \n",
    "    return err"
   ]
  },
  {
   "cell_type": "code",
   "execution_count": 5,
   "metadata": {},
   "outputs": [],
   "source": [
    "b =  \\\n",
    "    np \\\n",
    "        .linspace(\n",
    "            0, \n",
    "            10, \n",
    "            num = 201\n",
    "        )\n",
    "\n",
    "kappa_results = []\n",
    "\n",
    "for i in b:\n",
    "    \n",
    "    # confirm that solution lies between start and end\n",
    "    start = 1\n",
    "    end = 1.1\n",
    "\n",
    "    start_utility = \\\n",
    "        expected_utility_calc(\n",
    "            np.full((1, trials), start), \n",
    "            g\n",
    "            )\n",
    "    \n",
    "    end_utility = \\\n",
    "        expected_utility_calc(\n",
    "            np.full((1, trials), end), \n",
    "            g\n",
    "        )\n",
    "\n",
    "    if (error(i, start_utility, start) * error(i, end_utility, end)) > 0:\n",
    "    \n",
    "        print('solution does not lie between kappa_ and kappa+')\n",
    "\n",
    "    error_term = 999\n",
    "\n",
    "    # bisection search, while absolute of error term greater than\n",
    "    while abs(error_term) > 10e-5:\n",
    "\n",
    "        # set kappa as mid of start and end\n",
    "        kappa0_single = 0.5 * (start + end)\n",
    "\n",
    "        # create array of kappa to multiply with simulated consumptiong growth\n",
    "        kappa0 = np.full((1, trials), kappa0_single)\n",
    "\n",
    "        # calculate the E(v(kappa * g))\n",
    "        Eu = expected_utility_calc(kappa0, g)\n",
    "\n",
    "        # calculate error term\n",
    "        error_term = error(i, Eu, kappa0_single)\n",
    "\n",
    "        # if error term < 0 means kappa < answer < 1.1\n",
    "        if error_term < 0:\n",
    "\n",
    "            start = kappa0_single\n",
    "\n",
    "        # if error term > 0 means 1 < answer < kappa\n",
    "        if error_term > 0:\n",
    "            \n",
    "            end = kappa0_single\n",
    "\n",
    "        # if error term converge than thats the kappa\n",
    "        if abs(error_term) < 10e-5:\n",
    "\n",
    "            kappa_results.append(kappa0_single)"
   ]
  },
  {
   "cell_type": "code",
   "execution_count": 6,
   "metadata": {},
   "outputs": [],
   "source": [
    "# creating df \n",
    "df = pd.DataFrame(kappa_results).rename(columns = {0 : 'kappa'})\n",
    "\n",
    "df['b'] = b"
   ]
  },
  {
   "cell_type": "markdown",
   "metadata": {},
   "source": [
    "# Calculate price-dividend ratio for market portfolio:\n",
    "\n",
    "#### P / D = 1 / (x - 1)\n",
    " \n",
    "#### Plot price-dividend ratio (on vertical axis) vs b0."
   ]
  },
  {
   "cell_type": "code",
   "execution_count": 7,
   "metadata": {},
   "outputs": [
    {
     "data": {
      "image/png": "[encoded data removed]",
      "text/plain": [
       "<Figure size 640x480 with 1 Axes>"
      ]
     },
     "metadata": {},
     "output_type": "display_data"
    }
   ],
   "source": [
    "# plotting price dividend ratio\n",
    "\n",
    "df['price_dividend_ratio'] = 1 / (df.kappa - 1)\n",
    "\n",
    "plt.plot(\n",
    "    df.b, \n",
    "    df.price_dividend_ratio\n",
    "    )\n",
    "\n",
    "plt \\\n",
    "    .xlabel('b0')\n",
    "\n",
    "plt \\\n",
    "    .ylabel('Price Dividend Ratio')\n",
    "\n",
    "plt \\\n",
    "    .title('Price Dividend Ratio vs b0');"
   ]
  },
  {
   "cell_type": "markdown",
   "metadata": {},
   "source": [
    "## Calculate expected market return:\n",
    "\n",
    "#### E(Rm) = E(xg) = xe^0.0202\n",
    "\n",
    "#### Plot equity premium (on vertical axis) vs b0."
   ]
  },
  {
   "cell_type": "code",
   "execution_count": 9,
   "metadata": {},
   "outputs": [
    {
     "data": {
      "image/png": "[encoded data removed]",
      "text/plain": [
       "<Figure size 640x480 with 1 Axes>"
      ]
     },
     "metadata": {},
     "output_type": "display_data"
    }
   ],
   "source": [
    "#plotting equity premium\n",
    "Rf = \\\n",
    "    np.exp(0.0198) / 0.99\n",
    "\n",
    "df['equity_premium'] = df.kappa * np.exp(0.0202)\n",
    "\n",
    "plt.plot(df.b, df.equity_premium - Rf)\n",
    "\n",
    "plt \\\n",
    "    .xlabel('b0')\n",
    "\n",
    "plt \\\n",
    "    .ylabel('Equity Premium')\n",
    "\n",
    "plt \\\n",
    "    .title('Equity Premium vs b0');"
   ]
  },
  {
   "cell_type": "markdown",
   "metadata": {},
   "source": [
    "## Briefly explain main characteristics of v(∙) (which is utility function to measure utility from recent financial gain or loss), as well as economic significance of b0 and λ."
   ]
  },
  {
   "cell_type": "markdown",
   "metadata": {
    "vscode": {
     "languageId": "plaintext"
    }
   },
   "source": [
    "v(∙) represents utility from recent financial gain or loss, it is a piecewise-linear function where utility from gain and loss are defined by 2 functions, one for gain, the other for loss. The functions are measured relative to a reference level based on risk-free rate. \n",
    "\n",
    "b0 determines the extent to which utility from recent financial gains or losses contribute to an investor's lifetime utility. As b0 increases, equity risk premium should increase at a decreasing rate (concave).\n",
    "\n",
    "λ is the degree of loss aversion where investors are more sensitive to shortfall in financial gain"
   ]
  }
 ],
 "metadata": {
  "kernelspec": {
   "display_name": "Python 3",
   "language": "python",
   "name": "python3"
  },
  "language_info": {
   "codemirror_mode": {
    "name": "ipython",
    "version": 3
   },
   "file_extension": ".py",
   "mimetype": "text/x-python",
   "name": "python",
   "nbconvert_exporter": "python",
   "pygments_lexer": "ipython3",
   "version": "3.9.2"
  }
 },
 "nbformat": 4,
 "nbformat_minor": 2
}
