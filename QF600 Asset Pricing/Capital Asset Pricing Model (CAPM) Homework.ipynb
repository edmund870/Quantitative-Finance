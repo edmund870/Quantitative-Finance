{
 "cells": [
  {
   "cell_type": "markdown",
   "metadata": {},
   "source": [
    "# QF600 Asset Pricing\n",
    "## Capital Asset Pricing Model (CAPM)\n",
    "### Chia Jun Xian Edmund"
   ]
  },
  {
   "cell_type": "markdown",
   "metadata": {},
   "source": [
    "Market_Portfolio.xlsx contains monthly nominal (net) returns for the market portfolio, expressed as a percentage. These returns cover the ten-year period from Jan 2004 through Dec 2013. Assume that the (net) risk-free rate is 0.13% per month.\n",
    "\n",
    "Market Model\n",
    "\n",
    "Estimate the intercept coefficient (α) and slope coefficient (β) for each of the ten industry portfolio using the market model: regress the monthly excess returns for each industry portfolio on the monthly excess returns for the market portfolio.\n",
    "\n",
    "1. Create a table showing the intercept and slope coefficients for the ten industry portfolios.\n",
    "\n",
    "2. Briefly explain the economic significance of the intercept and slope coefficients.\n",
    "\n",
    "Security Market Line (SML)\n",
    "\n",
    "Calculate the mean monthly return for each of the ten industry portfolios, as well as the market portfolio.\n",
    "\n",
    "Regress the mean monthly returns of the ten industry portfolios and the market portfolio on the corresponding β's. This will give you the intercept and slope coefficients for the SML. (Warning: the results may be very different from what you would expect!)\n",
    "\n",
    "3. Use the estimated intercept and slope coefficients for the SML to plot the SML in the range of β from zero to two on the horizontal axis.\n",
    "\n",
    "4. Also plot the positions of the ten industry portfolios and the market portfolio. (You are NOT required to label the individual portfolios.)\n",
    "\n",
    "5. Briefly explain the economic significance of the SML."
   ]
  },
  {
   "cell_type": "code",
   "execution_count": 12,
   "metadata": {},
   "outputs": [],
   "source": [
    "import pandas as pd\n",
    "import numpy as np\n",
    "import matplotlib.pyplot as plt\n",
    "import warnings\n",
    "import statsmodels.api as sm\n",
    "import statsmodels.formula.api as smf\n",
    "warnings.filterwarnings('ignore')"
   ]
  },
  {
   "cell_type": "code",
   "execution_count": 13,
   "metadata": {},
   "outputs": [],
   "source": [
    "Industry_Portfolio = \\\n",
    "    pd \\\n",
    "        .read_excel('Industry_Portfolios.xlsx')\n",
    "\n",
    "Market_Portfolio = \\\n",
    "    pd \\\n",
    "        .read_excel('Market_Portfolio.xlsx')"
   ]
  },
  {
   "cell_type": "markdown",
   "metadata": {},
   "source": [
    "## Estimate the intercept coefficient (α) and slope coefficient (β) for each of the ten industry portfolio using the market model: regress the monthly excess returns for each industry portfolio on the monthly excess returns for the market portfolio"
   ]
  },
  {
   "cell_type": "code",
   "execution_count": 14,
   "metadata": {},
   "outputs": [],
   "source": [
    "#get industry list\n",
    "industry_list = \\\n",
    "    Industry_Portfolio \\\n",
    "        .columns \\\n",
    "            .to_list()\n",
    "\n",
    "industry_list.remove('Date')"
   ]
  },
  {
   "cell_type": "code",
   "execution_count": 15,
   "metadata": {},
   "outputs": [
    {
     "name": "stdout",
     "output_type": "stream",
     "text": [
      "Answer 1\n"
     ]
    },
    {
     "data": {
      "text/html": [
       "<div>\n",
       "<style scoped>\n",
       "    .dataframe tbody tr th:only-of-type {\n",
       "        vertical-align: middle;\n",
       "    }\n",
       "\n",
       "    .dataframe tbody tr th {\n",
       "        vertical-align: top;\n",
       "    }\n",
       "\n",
       "    .dataframe thead th {\n",
       "        text-align: right;\n",
       "    }\n",
       "</style>\n",
       "<table border=\"1\" class=\"dataframe\">\n",
       "  <thead>\n",
       "    <tr style=\"text-align: right;\">\n",
       "      <th></th>\n",
       "      <th>industry</th>\n",
       "      <th>α</th>\n",
       "      <th>β</th>\n",
       "    </tr>\n",
       "  </thead>\n",
       "  <tbody>\n",
       "    <tr>\n",
       "      <th>0</th>\n",
       "      <td>NoDur</td>\n",
       "      <td>0.369443</td>\n",
       "      <td>0.652647</td>\n",
       "    </tr>\n",
       "    <tr>\n",
       "      <th>1</th>\n",
       "      <td>Durbl</td>\n",
       "      <td>-0.415599</td>\n",
       "      <td>1.648536</td>\n",
       "    </tr>\n",
       "    <tr>\n",
       "      <th>2</th>\n",
       "      <td>Manuf</td>\n",
       "      <td>0.159771</td>\n",
       "      <td>1.169846</td>\n",
       "    </tr>\n",
       "    <tr>\n",
       "      <th>3</th>\n",
       "      <td>Enrgy</td>\n",
       "      <td>0.501719</td>\n",
       "      <td>0.969850</td>\n",
       "    </tr>\n",
       "    <tr>\n",
       "      <th>4</th>\n",
       "      <td>HiTec</td>\n",
       "      <td>-0.064020</td>\n",
       "      <td>1.132969</td>\n",
       "    </tr>\n",
       "    <tr>\n",
       "      <th>5</th>\n",
       "      <td>Telcm</td>\n",
       "      <td>0.194691</td>\n",
       "      <td>0.900729</td>\n",
       "    </tr>\n",
       "    <tr>\n",
       "      <th>6</th>\n",
       "      <td>Shops</td>\n",
       "      <td>0.275492</td>\n",
       "      <td>0.826492</td>\n",
       "    </tr>\n",
       "    <tr>\n",
       "      <th>7</th>\n",
       "      <td>Hlth</td>\n",
       "      <td>0.237841</td>\n",
       "      <td>0.673036</td>\n",
       "    </tr>\n",
       "    <tr>\n",
       "      <th>8</th>\n",
       "      <td>Utils</td>\n",
       "      <td>0.444585</td>\n",
       "      <td>0.538086</td>\n",
       "    </tr>\n",
       "    <tr>\n",
       "      <th>9</th>\n",
       "      <td>Other</td>\n",
       "      <td>-0.387135</td>\n",
       "      <td>1.207309</td>\n",
       "    </tr>\n",
       "  </tbody>\n",
       "</table>\n",
       "</div>"
      ],
      "text/plain": [
       "  industry         α         β\n",
       "0    NoDur  0.369443  0.652647\n",
       "1    Durbl -0.415599  1.648536\n",
       "2    Manuf  0.159771  1.169846\n",
       "3    Enrgy  0.501719  0.969850\n",
       "4    HiTec -0.064020  1.132969\n",
       "5    Telcm  0.194691  0.900729\n",
       "6    Shops  0.275492  0.826492\n",
       "7     Hlth  0.237841  0.673036\n",
       "8    Utils  0.444585  0.538086\n",
       "9    Other -0.387135  1.207309"
      ]
     },
     "execution_count": 15,
     "metadata": {},
     "output_type": "execute_result"
    }
   ],
   "source": [
    "riskfree = 0.13\n",
    "\n",
    "#create regression dictionary to append\n",
    "regression = {\n",
    "    'industry' : [],\n",
    "    'α' : [],\n",
    "    'β' : []\n",
    "    }\n",
    "\n",
    "#market model X is excess market returns\n",
    "X = \\\n",
    "    Market_Portfolio.Market - riskfree\n",
    "\n",
    "X = sm.add_constant(X)\n",
    "\n",
    "#loop each industry and regression each industry portfolio with market portfolio\n",
    "for industry in industry_list:\n",
    "    Y = \\\n",
    "        Industry_Portfolio[industry] - riskfree\n",
    "\n",
    "    market_model = sm.OLS(Y,X)\n",
    "\n",
    "    market_result = market_model.fit()\n",
    "\n",
    "    regression['industry'].append(industry)\n",
    "\n",
    "    regression['α'].append(market_result.params[0]) # intercept, pricing error relative to CAPM\n",
    "\n",
    "    regression['β'].append(market_result.params[1]) # slope, degree of exposure to market risk\n",
    "\n",
    "print('Answer 1')\n",
    "regression = \\\n",
    "    pd \\\n",
    "        .DataFrame(\n",
    "            regression, \n",
    "            columns = ['industry', 'α', 'β']\n",
    "            )\n",
    "\n",
    "regression"
   ]
  },
  {
   "cell_type": "markdown",
   "metadata": {},
   "source": [
    "## 2. Briefly explain the economic significance of the intercept and slope coefficients.\n",
    "\n",
    "The slope coefficients provide an estimate of the industry portfolio's beta, the amount of exposure to systematic market risk. \\\n",
    "The intercept represents pricing error relative to CAPM for individual assets or 'passive' portfolios. A positive intercept indicates that CAPM is underpredicting the returns of the industry portfolio and thus the portfolio is underpriced and lies above the SML vice versa."
   ]
  },
  {
   "cell_type": "markdown",
   "metadata": {},
   "source": [
    "## Calculate the mean monthly return for each of the ten industry portfolios, as well as the market portfolio."
   ]
  },
  {
   "cell_type": "code",
   "execution_count": 16,
   "metadata": {},
   "outputs": [],
   "source": [
    "mean_industry_ret = \\\n",
    "    pd \\\n",
    "        .DataFrame(Industry_Portfolio.mean(axis= 0)) \\\n",
    "            .rename(columns = {0 : 'mean_ret'}) \\\n",
    "                .iloc[1 : ,] # removes the date row\n",
    "\n",
    "mean_market_ret = \\\n",
    "    pd \\\n",
    "        .DataFrame(Market_Portfolio.mean(axis= 0)) \\\n",
    "            .rename(columns = {0 : 'mean_ret'}) \\\n",
    "                .iloc[1 : ,]\n"
   ]
  },
  {
   "cell_type": "code",
   "execution_count": 17,
   "metadata": {},
   "outputs": [
    {
     "name": "stdout",
     "output_type": "stream",
     "text": [
      "Answer 3\n"
     ]
    },
    {
     "data": {
      "text/html": [
       "<div>\n",
       "<style scoped>\n",
       "    .dataframe tbody tr th:only-of-type {\n",
       "        vertical-align: middle;\n",
       "    }\n",
       "\n",
       "    .dataframe tbody tr th {\n",
       "        vertical-align: top;\n",
       "    }\n",
       "\n",
       "    .dataframe thead th {\n",
       "        text-align: right;\n",
       "    }\n",
       "</style>\n",
       "<table border=\"1\" class=\"dataframe\">\n",
       "  <thead>\n",
       "    <tr style=\"text-align: right;\">\n",
       "      <th></th>\n",
       "      <th>industry</th>\n",
       "      <th>mean_ret</th>\n",
       "    </tr>\n",
       "  </thead>\n",
       "  <tbody>\n",
       "    <tr>\n",
       "      <th>0</th>\n",
       "      <td>NoDur</td>\n",
       "      <td>0.902833</td>\n",
       "    </tr>\n",
       "    <tr>\n",
       "      <th>1</th>\n",
       "      <td>Durbl</td>\n",
       "      <td>0.733333</td>\n",
       "    </tr>\n",
       "    <tr>\n",
       "      <th>2</th>\n",
       "      <td>Manuf</td>\n",
       "      <td>1.012833</td>\n",
       "    </tr>\n",
       "    <tr>\n",
       "      <th>3</th>\n",
       "      <td>Enrgy</td>\n",
       "      <td>1.231167</td>\n",
       "    </tr>\n",
       "    <tr>\n",
       "      <th>4</th>\n",
       "      <td>HiTec</td>\n",
       "      <td>0.766250</td>\n",
       "    </tr>\n",
       "    <tr>\n",
       "      <th>5</th>\n",
       "      <td>Telcm</td>\n",
       "      <td>0.881417</td>\n",
       "    </tr>\n",
       "    <tr>\n",
       "      <th>6</th>\n",
       "      <td>Shops</td>\n",
       "      <td>0.916333</td>\n",
       "    </tr>\n",
       "    <tr>\n",
       "      <th>7</th>\n",
       "      <td>Hlth</td>\n",
       "      <td>0.783833</td>\n",
       "    </tr>\n",
       "    <tr>\n",
       "      <th>8</th>\n",
       "      <td>Utils</td>\n",
       "      <td>0.907167</td>\n",
       "    </tr>\n",
       "    <tr>\n",
       "      <th>9</th>\n",
       "      <td>Other</td>\n",
       "      <td>0.489083</td>\n",
       "    </tr>\n",
       "    <tr>\n",
       "      <th>10</th>\n",
       "      <td>Market</td>\n",
       "      <td>0.748083</td>\n",
       "    </tr>\n",
       "  </tbody>\n",
       "</table>\n",
       "</div>"
      ],
      "text/plain": [
       "   industry  mean_ret\n",
       "0     NoDur  0.902833\n",
       "1     Durbl  0.733333\n",
       "2     Manuf  1.012833\n",
       "3     Enrgy  1.231167\n",
       "4     HiTec  0.766250\n",
       "5     Telcm  0.881417\n",
       "6     Shops  0.916333\n",
       "7      Hlth  0.783833\n",
       "8     Utils  0.907167\n",
       "9     Other  0.489083\n",
       "10   Market  0.748083"
      ]
     },
     "execution_count": 17,
     "metadata": {},
     "output_type": "execute_result"
    }
   ],
   "source": [
    "#join industry and market portfolios\n",
    "\n",
    "combined_returns = \\\n",
    "    pd \\\n",
    "        .concat(\n",
    "            [\n",
    "                mean_industry_ret, \n",
    "                mean_market_ret]\n",
    "        ) \\\n",
    "        .reset_index() \\\n",
    "            .rename(\n",
    "                columns = {'index' : 'industry'}\n",
    "                )\n",
    "\n",
    "print('Answer 3')\n",
    "combined_returns"
   ]
  },
  {
   "cell_type": "markdown",
   "metadata": {},
   "source": [
    "Regress the mean monthly returns of the ten industry portfolios and the market portfolio on the corresponding β's. This will give you the intercept and slope coefficients for the SML. (Warning: the results may be very different from what you would expect!)\n",
    "\n",
    "3. Use the estimated intercept and slope coefficients for the SML to plot the SML in the range of β from zero to two on the horizontal axis.\n",
    "\n",
    "4. Also plot the positions of the ten industry portfolios and the market portfolio. (You are NOT required to label the individual portfolios.)"
   ]
  },
  {
   "cell_type": "code",
   "execution_count": 18,
   "metadata": {},
   "outputs": [],
   "source": [
    "#append market beta \n",
    "\n",
    "market_row = \\\n",
    "    {\n",
    "    'industry': 'Market', \n",
    "    'α': 0, \n",
    "    'β': 1\n",
    "    }\n",
    " \n",
    "regression = \\\n",
    "    regression \\\n",
    "        .append(\n",
    "            market_row, \n",
    "            ignore_index = True) "
   ]
  },
  {
   "cell_type": "code",
   "execution_count": 19,
   "metadata": {},
   "outputs": [],
   "source": [
    "#merge with regression to get mean_ret and beta\n",
    "SML = \\\n",
    "    regression \\\n",
    "        .merge(\n",
    "            combined_returns, \n",
    "            how = 'inner'\n",
    "            )"
   ]
  },
  {
   "cell_type": "code",
   "execution_count": 20,
   "metadata": {},
   "outputs": [],
   "source": [
    "#SML X is beta, Y is mean return, regression mean return on beta \n",
    "SML_X = SML.β\n",
    "\n",
    "SML_X = sm.add_constant(SML_X)\n",
    "\n",
    "SML_Y = SML.mean_ret\n",
    "\n",
    "SML_model = sm.OLS(SML_Y, SML_X)\n",
    "\n",
    "SML_result = SML_model.fit()\n",
    "\n",
    "SML_intercept = SML_result.params[0] # risk free rate\n",
    "\n",
    "SML_slope = SML_result.params[1] # treynor ratio"
   ]
  },
  {
   "cell_type": "code",
   "execution_count": 21,
   "metadata": {},
   "outputs": [],
   "source": [
    "SML_line = \\\n",
    "    pd \\\n",
    "        .DataFrame(\n",
    "            np \\\n",
    "                .arange(0, 2.01, 0.1)) \\\n",
    "                    .rename(\n",
    "                        columns = {0 : 'β'}\n",
    "                            )\n",
    "\n",
    "SML_line['ret'] = \\\n",
    "    SML_intercept + SML_line.β * SML_slope\n"
   ]
  },
  {
   "cell_type": "code",
   "execution_count": 22,
   "metadata": {},
   "outputs": [
    {
     "name": "stdout",
     "output_type": "stream",
     "text": [
      "Answer 4 & 5\n"
     ]
    },
    {
     "data": {
      "image/png": "[encoded data removed]",
      "text/plain": [
       "<Figure size 640x480 with 1 Axes>"
      ]
     },
     "metadata": {},
     "output_type": "display_data"
    }
   ],
   "source": [
    "plt \\\n",
    "    .plot(SML_line['β'], \n",
    "         SML_line['ret'],\n",
    "         label = 'SML')\n",
    "\n",
    "plt \\\n",
    "    .scatter(SML.β, \n",
    "         SML.mean_ret\n",
    "         )\n",
    "\n",
    "plt \\\n",
    "    .xlim(xmin = 0)\n",
    "\n",
    "plt \\\n",
    "    .xlabel('β')\n",
    "\n",
    "plt \\\n",
    "    .ylabel('Returns')\n",
    "\n",
    "plt \\\n",
    "    .title('Security Market Line')\n",
    "\n",
    "print('Answer 4 & 5')\n",
    "plt.show()"
   ]
  },
  {
   "cell_type": "markdown",
   "metadata": {},
   "source": [
    "## 5. Briefly explain the economic significance of the SML.\n",
    "\n",
    "SML provides a linear relationship measuring the expected return with respect to an Asset's / Portfolio's beta. Assets / Portfolio's with higher beta indicate a greater exposure to systematic market risk and hence demands a higher expected return. Assets / Portfolio's that lie on the line of the SML have the same treynor ratio (risk premium to beta) in equilibrium. Assets that lie above the SML are underpriced and investors will buy the asset, causing prices to rise and reutrns to fall vice versa."
   ]
  }
 ],
 "metadata": {
  "kernelspec": {
   "display_name": "Python 3",
   "language": "python",
   "name": "python3"
  },
  "language_info": {
   "codemirror_mode": {
    "name": "ipython",
    "version": 3
   },
   "file_extension": ".py",
   "mimetype": "text/x-python",
   "name": "python",
   "nbconvert_exporter": "python",
   "pygments_lexer": "ipython3",
   "version": "3.9.2"
  },
  "orig_nbformat": 4
 },
 "nbformat": 4,
 "nbformat_minor": 2
}
