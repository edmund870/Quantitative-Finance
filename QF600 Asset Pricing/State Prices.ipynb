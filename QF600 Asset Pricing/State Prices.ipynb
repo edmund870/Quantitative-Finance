{
 "cells": [
  {
   "cell_type": "code",
   "execution_count": 3,
   "metadata": {},
   "outputs": [],
   "source": [
    "import pandas as pd\n",
    "import numpy as np\n",
    "import matplotlib.pyplot as plt\n",
    "import warnings\n",
    "warnings.filterwarnings('ignore')"
   ]
  },
  {
   "cell_type": "code",
   "execution_count": 7,
   "metadata": {},
   "outputs": [],
   "source": [
    "initial_Rf = 1.1\n",
    "initial_A = 45\n",
    "initial_B = 45\n",
    "\n",
    "initial_price = np.array([1 / initial_Rf, initial_A, initial_B])"
   ]
  },
  {
   "cell_type": "code",
   "execution_count": 8,
   "metadata": {},
   "outputs": [
    {
     "data": {
      "text/plain": [
       "array([ 1,  1,  1, 75, 55, 20, 60, 50, 40])"
      ]
     },
     "execution_count": 8,
     "metadata": {},
     "output_type": "execute_result"
    }
   ],
   "source": [
    "final_Rf = np.array([1] * 3) # 3states\n",
    "\n",
    "final_A = np.array([75, 55, 20])\n",
    "\n",
    "final_B = np.array([60, 50, 40])\n",
    "\n",
    "final = np.concatenate((final_Rf, final_A, final_B))\n",
    "final"
   ]
  },
  {
   "cell_type": "code",
   "execution_count": 9,
   "metadata": {},
   "outputs": [
    {
     "data": {
      "text/plain": [
       "array([[ 1, 75, 60],\n",
       "       [ 1, 55, 50],\n",
       "       [ 1, 20, 40]])"
      ]
     },
     "execution_count": 9,
     "metadata": {},
     "output_type": "execute_result"
    }
   ],
   "source": [
    "vector = final.reshape((3,3)).transpose()\n",
    "vector"
   ]
  },
  {
   "cell_type": "code",
   "execution_count": 10,
   "metadata": {},
   "outputs": [],
   "source": [
    "state_price = \\\n",
    "    np \\\n",
    "        .matmul(\n",
    "            initial_price, \n",
    "            np.linalg.inv(vector)\n",
    "        )"
   ]
  },
  {
   "cell_type": "code",
   "execution_count": 12,
   "metadata": {},
   "outputs": [
    {
     "data": {
      "text/plain": [
       "array([0.25, 0.45, 0.3 ])"
      ]
     },
     "execution_count": 12,
     "metadata": {},
     "output_type": "execute_result"
    }
   ],
   "source": [
    "vector_of_risk_neutral_probability = \\\n",
    "    state_price * initial_Rf\n",
    "\n",
    "vector_of_risk_neutral_probability"
   ]
  },
  {
   "cell_type": "code",
   "execution_count": 17,
   "metadata": {},
   "outputs": [],
   "source": [
    "payoff_vector = \\\n",
    "    np \\\n",
    "        .where(\n",
    "            final_A + final_B - 100 > 0, \n",
    "            final_A + final_B - 100, \n",
    "            0\n",
    "        )"
   ]
  },
  {
   "cell_type": "code",
   "execution_count": 20,
   "metadata": {},
   "outputs": [
    {
     "data": {
      "text/plain": [
       "10.0"
      ]
     },
     "execution_count": 20,
     "metadata": {},
     "output_type": "execute_result"
    }
   ],
   "source": [
    "option_price = round(sum(payoff_vector * state_price), 2)\n",
    "option_price"
   ]
  },
  {
   "cell_type": "code",
   "execution_count": 9,
   "metadata": {},
   "outputs": [
    {
     "data": {
      "text/plain": [
       "array([[0.05],\n",
       "       [0.01]])"
      ]
     },
     "execution_count": 9,
     "metadata": {},
     "output_type": "execute_result"
    }
   ],
   "source": [
    "# constructing P and Q\n",
    "views = np.array([1, 0, 0, \n",
    "                  0, 1, -1]) # relative view where weights sum to 0 \n",
    "\n",
    "returns = np.array([0.05, \n",
    "                    0.01]) # second will outperform 3rd by 0.01\n",
    "\n",
    "P = views.reshape(2, 3)\n",
    "\n",
    "Q = returns.reshape(2,1)\n",
    "\n",
    "P\n",
    "Q"
   ]
  }
 ],
 "metadata": {
  "kernelspec": {
   "display_name": "Python 3",
   "language": "python",
   "name": "python3"
  },
  "language_info": {
   "codemirror_mode": {
    "name": "ipython",
    "version": 3
   },
   "file_extension": ".py",
   "mimetype": "text/x-python",
   "name": "python",
   "nbconvert_exporter": "python",
   "pygments_lexer": "ipython3",
   "version": "3.9.2"
  }
 },
 "nbformat": 4,
 "nbformat_minor": 2
}
