{
 "cells": [
  {
   "cell_type": "markdown",
   "metadata": {},
   "source": [
    "# QF600 Asset Pricing\n",
    "## Stochastic Discount Factor\n",
    "### Chia Jun Xian Edmund"
   ]
  },
  {
   "cell_type": "markdown",
   "metadata": {},
   "source": [
    "Suppose that consumption growth has lognormal distribution with the possibility of rare disasters:\n",
    "\n",
    "ln(g) = 0.02 + 0.02ε + ν\n",
    "\n",
    "Here ε is a standard normal random variable, while ν is an independent random variable that has value of either zero (with probability of 98.3%) or ln(0.65) (with probability of 1.7%).\n",
    "\n",
    "Simulate ε with (at least) 10e4 random draws from standard normal distribution, and simulate ν with (at least) 10e4 random draws from standard uniform distribution.\n",
    "\n",
    "Use the simulated distribution of consumption growth to find the simulated distribution of the pricing kernel for power utility:\n",
    "\n",
    "M = 0.99g ** -γ\n",
    "\n",
    "Repeat this process for values of γ in the range from 1 to 4, in increments of 0.1 (or less). (Note that you can reuse the same simulated distribution of consumption growth for all values of γ). \n",
    "\n",
    " - Calculate μM and σM for each value of γ, and plot σM/μM (on the vertical axis) vs γ (on the horizontal axis).\n",
    "\n",
    " - Find the smallest value of γ (in your data) for which σM/μM > 0.4. Explain (in words, without using any mathematical  equations or formulas) the economic significance of this result."
   ]
  },
  {
   "cell_type": "code",
   "execution_count": 1,
   "metadata": {},
   "outputs": [],
   "source": [
    "import pandas as pd\n",
    "import numpy as np\n",
    "import matplotlib.pyplot as plt\n",
    "import warnings\n",
    "warnings.filterwarnings('ignore')"
   ]
  },
  {
   "cell_type": "code",
   "execution_count": 2,
   "metadata": {},
   "outputs": [],
   "source": [
    "# generate gammas\n",
    "gamma = \\\n",
    "    np \\\n",
    "        .linspace(\n",
    "            0, \n",
    "            4, \n",
    "            num = 401\n",
    "        )"
   ]
  },
  {
   "cell_type": "code",
   "execution_count": 3,
   "metadata": {},
   "outputs": [],
   "source": [
    "def consumption_growth():\n",
    "    \n",
    "    # simulate epsilon using standard normal distribution\n",
    "    epsilon = \\\n",
    "        np \\\n",
    "            .random \\\n",
    "                .standard_normal()\n",
    "\n",
    "    # simulate nu from [0, 1]\n",
    "    nu = \\\n",
    "        np \\\n",
    "            .random \\\n",
    "                .rand()\n",
    "\n",
    "    # if nu falls below the probability, disaster else 0\n",
    "    if nu <= 0.017:\n",
    "        nu = \\\n",
    "            np \\\n",
    "                .log(0.65)\n",
    "        \n",
    "    else:\n",
    "        nu = 0\n",
    "\n",
    "    # consumption growth formula\n",
    "    g = \\\n",
    "        np \\\n",
    "            .exp(\n",
    "                0.02 + 0.02 * epsilon + nu\n",
    "            )\n",
    "\n",
    "    return g"
   ]
  },
  {
   "cell_type": "code",
   "execution_count": 4,
   "metadata": {},
   "outputs": [],
   "source": [
    "# monte carlo trials\n",
    "trials = 100000\n",
    "\n",
    "# placeholder to store all the consumption growth values\n",
    "g = []\n",
    "\n",
    "np.random.seed(1)\n",
    "\n",
    "# simulate\n",
    "for trial in range(trials):\n",
    "    \n",
    "    g.append(consumption_growth())\n"
   ]
  },
  {
   "cell_type": "code",
   "execution_count": 5,
   "metadata": {},
   "outputs": [],
   "source": [
    "# computing pricing kernal\n",
    "pricing_kernal = \\\n",
    "    {\n",
    "        'gamma' : [],\n",
    "        'mu' : [],\n",
    "        'sigma' : []\n",
    "    }\n",
    "\n",
    "# for each gamma, calculate the pricing kernal, mean and sd\n",
    "for gammas in gamma:\n",
    "    \n",
    "    M = 0.99 * g ** - gammas\n",
    "\n",
    "    mu_M = M.mean()\n",
    "\n",
    "    sigma_M = M.std()\n",
    "\n",
    "    pricing_kernal['gamma'].append(gammas)\n",
    "    pricing_kernal['mu'].append(mu_M)\n",
    "    pricing_kernal['sigma'].append(sigma_M)\n",
    "\n",
    "pricing_kernal = pd.DataFrame(pricing_kernal)\n",
    "\n",
    "# computing the volatility ratio\n",
    "pricing_kernal['sigma_over_mu'] = pricing_kernal.sigma / pricing_kernal.mu"
   ]
  },
  {
   "cell_type": "code",
   "execution_count": 6,
   "metadata": {},
   "outputs": [
    {
     "data": {
      "image/png": "[encoded data removed]",
      "text/plain": [
       "<Figure size 640x480 with 1 Axes>"
      ]
     },
     "metadata": {},
     "output_type": "display_data"
    }
   ],
   "source": [
    "plt \\\n",
    "    .plot(pricing_kernal['gamma'], \n",
    "         pricing_kernal['sigma_over_mu'])\n",
    "\n",
    "plt \\\n",
    "    .xlabel('γ')\n",
    "\n",
    "plt \\\n",
    "    .ylabel('σM/μM')\n",
    "\n",
    "plt \\\n",
    "    .title('Volatility Ratio of Pricing Kernel Against Gamma')\n",
    "\n",
    "plt.show()"
   ]
  },
  {
   "cell_type": "code",
   "execution_count": 7,
   "metadata": {},
   "outputs": [
    {
     "name": "stdout",
     "output_type": "stream",
     "text": [
      "The smallest value of γ (in your data) for which σM/μM > 0.4 =  3.3\n"
     ]
    }
   ],
   "source": [
    "print(\n",
    "    'The smallest value of γ (in your data) for which σM/μM > 0.4 = ', \n",
    "    round(\n",
    "        pricing_kernal[\n",
    "            pricing_kernal['sigma_over_mu'] > 0.4\n",
    "            ]['gamma'] \\\n",
    "                .iloc[0, ], \n",
    "        1\n",
    "    )\n",
    ")"
   ]
  },
  {
   "cell_type": "markdown",
   "metadata": {},
   "source": [
    "### Explain (in words, without using any mathematical  equations or formulas) the economic significance of this result.\n",
    "\n",
    "According to the Hansen–Jagannathan (H–J) bound, the volatility ratio of pricing kernel cannot be less than the highest sharpe ratio of all possible portfolios. In addition, the pricing kernel has a lower limit of 0 without an upper bound, implying that the probability distribution must be heavily skewed to the right. Based on historical data, the sharpe ratio of US stock market is 0.4 and the standard deviation of consumption growth based on real annual per capita consumption for post-war US economy is approximately 2%. Applying the H-J bound, with the assumption that investor with time separable power utility of consumption and lognormal consumption growth, investor must have a constant relative risk aversion of > 20 which is an unreasonably high. Since the consumption growth is stable but pricing kernel is very volatile, for the H-J bound to hold, investor must have a high degree of risk aversion as risk aversion magnifies the volatility of consumption growth. This results in the equity premium puzzle where it is impossible to generate a equity premium that is large enough unless we assume that investors have an unreasonably high risk aversion. This begs the question of whether investors truly have an unreasonably high risk aversion or the H-J bound doesn’t hold. \n",
    "\n",
    "Looking at the assumptions, empirical evidence supports the fact that the probability distribution of the pricing kernel should have a large amount of right skewness which aligns with the assumption that for investor with power utility of consumption, the distribution of the pricing kernel will be right skewed and increases with investor’s relative risk aversion. If we were to maintain the assumption that investors have time separable power utility of consumption, then it could mean that empirical data on post war consumption understates the volatility and skewness of consumption growth (consumption growth is not lognormal). Historical data usually covers time periods without disasters, which makes consumption growth appear less volatile, resulting in the understatement of the negative skewness in consumption growth.\n",
    "\n",
    "By considering the possibility of rare disasters, such as war, great depression, disease outbreaks etc., which result in the occasional 1/3 fall in consumption growth with the given probability, the volatility and negative skewness of consumption growth increases, causing the distribution to be more left skewed. Therefore, to achieve the same volatility ratio of the pricing kernel, investors' degree of relative risk aversion will be reduced to 3.3, which is reasonable. As a result, the H-J bound is satisfied for relative risk aversion of 3.3, eliminating the equity premium puzzle."
   ]
  }
 ],
 "metadata": {
  "kernelspec": {
   "display_name": "Python 3",
   "language": "python",
   "name": "python3"
  },
  "language_info": {
   "codemirror_mode": {
    "name": "ipython",
    "version": 3
   },
   "file_extension": ".py",
   "mimetype": "text/x-python",
   "name": "python",
   "nbconvert_exporter": "python",
   "pygments_lexer": "ipython3",
   "version": "3.9.2"
  }
 },
 "nbformat": 4,
 "nbformat_minor": 2
}
