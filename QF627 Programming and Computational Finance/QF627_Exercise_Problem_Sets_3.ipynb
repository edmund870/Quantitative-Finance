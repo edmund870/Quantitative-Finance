{
 "cells": [
  {
   "cell_type": "markdown",
   "metadata": {},
   "source": [
    "# QF 627 Programming and Computational Finance\n",
    "## Problem-Sets for Exercise `3` | `Questions`"
   ]
  },
  {
   "cell_type": "markdown",
   "metadata": {},
   "source": [
    "> \"Hi Team! 👋\n",
    "\n",
    "> Here we go again! The current script is prepared to help you to further exercise course content (But, again, do note that these are not assessment questions. They are for your exercise.)\n",
    "\n",
    "> Some of the questions ask you to perform `reverse-engineering` 🧩. Instead of a question written in text format, you will be given the end results of some lines of code. Your task is to fill in the input cell with lines of code to create the output cell. Such a reverse-engineering exercise in computational programming will maximize your knowledge and skills in Computational Finance. \n",
    "\n",
    "> The questions below won’t be that difficult, as you have learned how to answer them from the lessons and the assigned readings. As you will notice from the questions, my intention is not just to give questions, but also to give additional learning pointers. I hope this helps 😊\n",
    "\n",
    "> Enjoy!"
   ]
  },
  {
   "cell_type": "markdown",
   "metadata": {},
   "source": [
    "##### First, let's do some quick exercise with stock prices data."
   ]
  },
  {
   "cell_type": "markdown",
   "metadata": {},
   "source": [
    "### <font color = green> Activation of necessary libraries. </font>"
   ]
  },
  {
   "cell_type": "code",
   "execution_count": 1,
   "metadata": {},
   "outputs": [],
   "source": [
    "import numpy as np\n",
    "import pandas as pd\n",
    "import polars as pl\n",
    "\n",
    "import matplotlib.pyplot as plt\n",
    "from lets_plot import *\n",
    "\n",
    "import datetime\n",
    "\n",
    "import warnings\n",
    "warnings.filterwarnings(\"ignore\")\n",
    "\n",
    "# %%timeit -n 1000 -r 5"
   ]
  },
  {
   "cell_type": "markdown",
   "metadata": {},
   "source": [
    "### Let's try to import historical stock data from the web and from your machine."
   ]
  },
  {
   "cell_type": "markdown",
   "metadata": {},
   "source": [
    "#### How to import from the Web"
   ]
  },
  {
   "cell_type": "markdown",
   "metadata": {},
   "source": [
    "> You may use `yfinance` library."
   ]
  },
  {
   "cell_type": "code",
   "execution_count": 2,
   "metadata": {},
   "outputs": [],
   "source": [
    "import yfinance as yf"
   ]
  },
  {
   "cell_type": "markdown",
   "metadata": {},
   "source": [
    "> Let's start & end dates--we are interested in year ~~2021~~ <font color = 'red'> 2024 </font> until August."
   ]
  },
  {
   "cell_type": "code",
   "execution_count": 3,
   "metadata": {},
   "outputs": [],
   "source": [
    "start: datetime = datetime.datetime(2024, 1, 1)\n",
    "end: datetime = datetime.datetime(2024, 8, 31)"
   ]
  },
  {
   "cell_type": "markdown",
   "metadata": {},
   "source": [
    "> Then, let's use [Yahoo! Finance](https://sg.finance.yahoo.com/) for extracting historical stock data."
   ]
  },
  {
   "cell_type": "code",
   "execution_count": 4,
   "metadata": {},
   "outputs": [
    {
     "name": "stdout",
     "output_type": "stream",
     "text": [
      "[*********************100%***********************]  1 of 1 completed\n",
      "[*********************100%***********************]  1 of 1 completed\n"
     ]
    }
   ],
   "source": [
    "apple: pd.DataFrame =\\\n",
    "(    yf\n",
    "     .download(\"AAPL\",\n",
    "               start,\n",
    "               end)\n",
    ")\n",
    "\n",
    "google: pd.DataFrame =\\\n",
    "(    yf\n",
    "     .download(\"GOOGL\", \n",
    "               start,\n",
    "               end)\n",
    ")"
   ]
  },
  {
   "cell_type": "markdown",
   "metadata": {},
   "source": [
    ">### <font color = 'yellow'> POLARS </font>"
   ]
  },
  {
   "cell_type": "code",
   "execution_count": 5,
   "metadata": {},
   "outputs": [],
   "source": [
    "apple_pl: pl.DataFrame = (\n",
    "    pl.from_pandas(\n",
    "        apple\n",
    "        .reset_index()\n",
    "    )\n",
    "    .with_columns(\n",
    "        pl.col('Date')\n",
    "        .cast(pl.Date)\n",
    "    )\n",
    ")\n",
    "\n",
    "google_pl: pl.DataFrame = (\n",
    "    pl.from_pandas(\n",
    "        google\n",
    "        .reset_index()\n",
    "    )\n",
    "    .with_columns(\n",
    "        pl.col('Date')\n",
    "        .cast(pl.Date)\n",
    "    )\n",
    ")"
   ]
  },
  {
   "cell_type": "markdown",
   "metadata": {},
   "source": [
    "> You may save the data to csv files."
   ]
  },
  {
   "cell_type": "code",
   "execution_count": 6,
   "metadata": {},
   "outputs": [],
   "source": [
    "apple.to_csv(\"apple_2024_stock.csv\")\n",
    "google.to_csv(\"google_2024_stock.csv\")"
   ]
  },
  {
   "cell_type": "markdown",
   "metadata": {},
   "source": [
    "#### Have a quick look at your data."
   ]
  },
  {
   "cell_type": "code",
   "execution_count": 7,
   "metadata": {},
   "outputs": [
    {
     "data": {
      "text/html": [
       "<div>\n",
       "<style scoped>\n",
       "    .dataframe tbody tr th:only-of-type {\n",
       "        vertical-align: middle;\n",
       "    }\n",
       "\n",
       "    .dataframe tbody tr th {\n",
       "        vertical-align: top;\n",
       "    }\n",
       "\n",
       "    .dataframe thead th {\n",
       "        text-align: right;\n",
       "    }\n",
       "</style>\n",
       "<table border=\"1\" class=\"dataframe\">\n",
       "  <thead>\n",
       "    <tr style=\"text-align: right;\">\n",
       "      <th></th>\n",
       "      <th>Open</th>\n",
       "      <th>High</th>\n",
       "      <th>Low</th>\n",
       "      <th>Close</th>\n",
       "      <th>Adj Close</th>\n",
       "      <th>Volume</th>\n",
       "    </tr>\n",
       "    <tr>\n",
       "      <th>Date</th>\n",
       "      <th></th>\n",
       "      <th></th>\n",
       "      <th></th>\n",
       "      <th></th>\n",
       "      <th></th>\n",
       "      <th></th>\n",
       "    </tr>\n",
       "  </thead>\n",
       "  <tbody>\n",
       "    <tr>\n",
       "      <th>2024-01-02</th>\n",
       "      <td>187.149994</td>\n",
       "      <td>188.440002</td>\n",
       "      <td>183.889999</td>\n",
       "      <td>185.639999</td>\n",
       "      <td>184.938217</td>\n",
       "      <td>82488700</td>\n",
       "    </tr>\n",
       "    <tr>\n",
       "      <th>2024-01-03</th>\n",
       "      <td>184.220001</td>\n",
       "      <td>185.880005</td>\n",
       "      <td>183.429993</td>\n",
       "      <td>184.250000</td>\n",
       "      <td>183.553467</td>\n",
       "      <td>58414500</td>\n",
       "    </tr>\n",
       "    <tr>\n",
       "      <th>2024-01-04</th>\n",
       "      <td>182.149994</td>\n",
       "      <td>183.089996</td>\n",
       "      <td>180.880005</td>\n",
       "      <td>181.910004</td>\n",
       "      <td>181.222336</td>\n",
       "      <td>71983600</td>\n",
       "    </tr>\n",
       "    <tr>\n",
       "      <th>2024-01-05</th>\n",
       "      <td>181.990005</td>\n",
       "      <td>182.759995</td>\n",
       "      <td>180.169998</td>\n",
       "      <td>181.179993</td>\n",
       "      <td>180.495071</td>\n",
       "      <td>62303300</td>\n",
       "    </tr>\n",
       "    <tr>\n",
       "      <th>2024-01-08</th>\n",
       "      <td>182.089996</td>\n",
       "      <td>185.600006</td>\n",
       "      <td>181.500000</td>\n",
       "      <td>185.559998</td>\n",
       "      <td>184.858521</td>\n",
       "      <td>59144500</td>\n",
       "    </tr>\n",
       "  </tbody>\n",
       "</table>\n",
       "</div>"
      ],
      "text/plain": [
       "                  Open        High         Low       Close   Adj Close  \\\n",
       "Date                                                                     \n",
       "2024-01-02  187.149994  188.440002  183.889999  185.639999  184.938217   \n",
       "2024-01-03  184.220001  185.880005  183.429993  184.250000  183.553467   \n",
       "2024-01-04  182.149994  183.089996  180.880005  181.910004  181.222336   \n",
       "2024-01-05  181.990005  182.759995  180.169998  181.179993  180.495071   \n",
       "2024-01-08  182.089996  185.600006  181.500000  185.559998  184.858521   \n",
       "\n",
       "              Volume  \n",
       "Date                  \n",
       "2024-01-02  82488700  \n",
       "2024-01-03  58414500  \n",
       "2024-01-04  71983600  \n",
       "2024-01-05  62303300  \n",
       "2024-01-08  59144500  "
      ]
     },
     "execution_count": 7,
     "metadata": {},
     "output_type": "execute_result"
    }
   ],
   "source": [
    "apple.head()"
   ]
  },
  {
   "cell_type": "code",
   "execution_count": 8,
   "metadata": {},
   "outputs": [
    {
     "data": {
      "text/html": [
       "<div>\n",
       "<style scoped>\n",
       "    .dataframe tbody tr th:only-of-type {\n",
       "        vertical-align: middle;\n",
       "    }\n",
       "\n",
       "    .dataframe tbody tr th {\n",
       "        vertical-align: top;\n",
       "    }\n",
       "\n",
       "    .dataframe thead th {\n",
       "        text-align: right;\n",
       "    }\n",
       "</style>\n",
       "<table border=\"1\" class=\"dataframe\">\n",
       "  <thead>\n",
       "    <tr style=\"text-align: right;\">\n",
       "      <th></th>\n",
       "      <th>Open</th>\n",
       "      <th>High</th>\n",
       "      <th>Low</th>\n",
       "      <th>Close</th>\n",
       "      <th>Adj Close</th>\n",
       "      <th>Volume</th>\n",
       "    </tr>\n",
       "    <tr>\n",
       "      <th>Date</th>\n",
       "      <th></th>\n",
       "      <th></th>\n",
       "      <th></th>\n",
       "      <th></th>\n",
       "      <th></th>\n",
       "      <th></th>\n",
       "    </tr>\n",
       "  </thead>\n",
       "  <tbody>\n",
       "    <tr>\n",
       "      <th>2024-01-02</th>\n",
       "      <td>138.550003</td>\n",
       "      <td>139.449997</td>\n",
       "      <td>136.479996</td>\n",
       "      <td>138.169998</td>\n",
       "      <td>137.828705</td>\n",
       "      <td>23711200</td>\n",
       "    </tr>\n",
       "    <tr>\n",
       "      <th>2024-01-03</th>\n",
       "      <td>137.250000</td>\n",
       "      <td>139.630005</td>\n",
       "      <td>137.080002</td>\n",
       "      <td>138.919998</td>\n",
       "      <td>138.576859</td>\n",
       "      <td>24212100</td>\n",
       "    </tr>\n",
       "    <tr>\n",
       "      <th>2024-01-04</th>\n",
       "      <td>138.419998</td>\n",
       "      <td>139.160004</td>\n",
       "      <td>136.350006</td>\n",
       "      <td>136.389999</td>\n",
       "      <td>136.053101</td>\n",
       "      <td>27137700</td>\n",
       "    </tr>\n",
       "    <tr>\n",
       "      <th>2024-01-05</th>\n",
       "      <td>136.750000</td>\n",
       "      <td>137.160004</td>\n",
       "      <td>135.149994</td>\n",
       "      <td>135.729996</td>\n",
       "      <td>135.394745</td>\n",
       "      <td>22506000</td>\n",
       "    </tr>\n",
       "    <tr>\n",
       "      <th>2024-01-08</th>\n",
       "      <td>136.289993</td>\n",
       "      <td>139.009995</td>\n",
       "      <td>136.259995</td>\n",
       "      <td>138.839996</td>\n",
       "      <td>138.497055</td>\n",
       "      <td>21404000</td>\n",
       "    </tr>\n",
       "  </tbody>\n",
       "</table>\n",
       "</div>"
      ],
      "text/plain": [
       "                  Open        High         Low       Close   Adj Close  \\\n",
       "Date                                                                     \n",
       "2024-01-02  138.550003  139.449997  136.479996  138.169998  137.828705   \n",
       "2024-01-03  137.250000  139.630005  137.080002  138.919998  138.576859   \n",
       "2024-01-04  138.419998  139.160004  136.350006  136.389999  136.053101   \n",
       "2024-01-05  136.750000  137.160004  135.149994  135.729996  135.394745   \n",
       "2024-01-08  136.289993  139.009995  136.259995  138.839996  138.497055   \n",
       "\n",
       "              Volume  \n",
       "Date                  \n",
       "2024-01-02  23711200  \n",
       "2024-01-03  24212100  \n",
       "2024-01-04  27137700  \n",
       "2024-01-05  22506000  \n",
       "2024-01-08  21404000  "
      ]
     },
     "execution_count": 8,
     "metadata": {},
     "output_type": "execute_result"
    }
   ],
   "source": [
    "google.head()"
   ]
  },
  {
   "cell_type": "code",
   "execution_count": 9,
   "metadata": {},
   "outputs": [
    {
     "data": {
      "text/html": [
       "<div>\n",
       "<style scoped>\n",
       "    .dataframe tbody tr th:only-of-type {\n",
       "        vertical-align: middle;\n",
       "    }\n",
       "\n",
       "    .dataframe tbody tr th {\n",
       "        vertical-align: top;\n",
       "    }\n",
       "\n",
       "    .dataframe thead th {\n",
       "        text-align: right;\n",
       "    }\n",
       "</style>\n",
       "<table border=\"1\" class=\"dataframe\">\n",
       "  <thead>\n",
       "    <tr style=\"text-align: right;\">\n",
       "      <th></th>\n",
       "      <th>Open</th>\n",
       "      <th>High</th>\n",
       "      <th>Low</th>\n",
       "      <th>Close</th>\n",
       "      <th>Adj Close</th>\n",
       "      <th>Volume</th>\n",
       "    </tr>\n",
       "  </thead>\n",
       "  <tbody>\n",
       "    <tr>\n",
       "      <th>count</th>\n",
       "      <td>168.000000</td>\n",
       "      <td>168.000000</td>\n",
       "      <td>168.000000</td>\n",
       "      <td>168.000000</td>\n",
       "      <td>168.000000</td>\n",
       "      <td>1.680000e+02</td>\n",
       "    </tr>\n",
       "    <tr>\n",
       "      <th>mean</th>\n",
       "      <td>194.252380</td>\n",
       "      <td>196.172500</td>\n",
       "      <td>192.514821</td>\n",
       "      <td>194.389583</td>\n",
       "      <td>194.020255</td>\n",
       "      <td>6.168830e+07</td>\n",
       "    </tr>\n",
       "    <tr>\n",
       "      <th>std</th>\n",
       "      <td>20.554547</td>\n",
       "      <td>20.896348</td>\n",
       "      <td>20.132660</td>\n",
       "      <td>20.590587</td>\n",
       "      <td>20.712093</td>\n",
       "      <td>2.820863e+07</td>\n",
       "    </tr>\n",
       "    <tr>\n",
       "      <th>min</th>\n",
       "      <td>165.350006</td>\n",
       "      <td>166.399994</td>\n",
       "      <td>164.080002</td>\n",
       "      <td>165.000000</td>\n",
       "      <td>164.585999</td>\n",
       "      <td>3.029900e+07</td>\n",
       "    </tr>\n",
       "    <tr>\n",
       "      <th>25%</th>\n",
       "      <td>176.825001</td>\n",
       "      <td>178.592499</td>\n",
       "      <td>174.869999</td>\n",
       "      <td>178.139999</td>\n",
       "      <td>177.693027</td>\n",
       "      <td>4.596918e+07</td>\n",
       "    </tr>\n",
       "    <tr>\n",
       "      <th>50%</th>\n",
       "      <td>188.735001</td>\n",
       "      <td>190.285004</td>\n",
       "      <td>187.360001</td>\n",
       "      <td>188.740005</td>\n",
       "      <td>188.146545</td>\n",
       "      <td>5.353515e+07</td>\n",
       "    </tr>\n",
       "    <tr>\n",
       "      <th>75%</th>\n",
       "      <td>214.119995</td>\n",
       "      <td>216.962498</td>\n",
       "      <td>211.932499</td>\n",
       "      <td>214.252502</td>\n",
       "      <td>214.004791</td>\n",
       "      <td>6.862602e+07</td>\n",
       "    </tr>\n",
       "    <tr>\n",
       "      <th>max</th>\n",
       "      <td>236.479996</td>\n",
       "      <td>237.229996</td>\n",
       "      <td>233.089996</td>\n",
       "      <td>234.820007</td>\n",
       "      <td>234.548523</td>\n",
       "      <td>2.464214e+08</td>\n",
       "    </tr>\n",
       "  </tbody>\n",
       "</table>\n",
       "</div>"
      ],
      "text/plain": [
       "             Open        High         Low       Close   Adj Close  \\\n",
       "count  168.000000  168.000000  168.000000  168.000000  168.000000   \n",
       "mean   194.252380  196.172500  192.514821  194.389583  194.020255   \n",
       "std     20.554547   20.896348   20.132660   20.590587   20.712093   \n",
       "min    165.350006  166.399994  164.080002  165.000000  164.585999   \n",
       "25%    176.825001  178.592499  174.869999  178.139999  177.693027   \n",
       "50%    188.735001  190.285004  187.360001  188.740005  188.146545   \n",
       "75%    214.119995  216.962498  211.932499  214.252502  214.004791   \n",
       "max    236.479996  237.229996  233.089996  234.820007  234.548523   \n",
       "\n",
       "             Volume  \n",
       "count  1.680000e+02  \n",
       "mean   6.168830e+07  \n",
       "std    2.820863e+07  \n",
       "min    3.029900e+07  \n",
       "25%    4.596918e+07  \n",
       "50%    5.353515e+07  \n",
       "75%    6.862602e+07  \n",
       "max    2.464214e+08  "
      ]
     },
     "execution_count": 9,
     "metadata": {},
     "output_type": "execute_result"
    }
   ],
   "source": [
    "apple.describe()"
   ]
  },
  {
   "cell_type": "code",
   "execution_count": 10,
   "metadata": {},
   "outputs": [
    {
     "data": {
      "text/html": [
       "<div>\n",
       "<style scoped>\n",
       "    .dataframe tbody tr th:only-of-type {\n",
       "        vertical-align: middle;\n",
       "    }\n",
       "\n",
       "    .dataframe tbody tr th {\n",
       "        vertical-align: top;\n",
       "    }\n",
       "\n",
       "    .dataframe thead th {\n",
       "        text-align: right;\n",
       "    }\n",
       "</style>\n",
       "<table border=\"1\" class=\"dataframe\">\n",
       "  <thead>\n",
       "    <tr style=\"text-align: right;\">\n",
       "      <th></th>\n",
       "      <th>Open</th>\n",
       "      <th>High</th>\n",
       "      <th>Low</th>\n",
       "      <th>Close</th>\n",
       "      <th>Adj Close</th>\n",
       "      <th>Volume</th>\n",
       "    </tr>\n",
       "  </thead>\n",
       "  <tbody>\n",
       "    <tr>\n",
       "      <th>count</th>\n",
       "      <td>168.000000</td>\n",
       "      <td>168.000000</td>\n",
       "      <td>168.000000</td>\n",
       "      <td>168.000000</td>\n",
       "      <td>168.000000</td>\n",
       "      <td>1.680000e+02</td>\n",
       "    </tr>\n",
       "    <tr>\n",
       "      <th>mean</th>\n",
       "      <td>160.070476</td>\n",
       "      <td>161.745238</td>\n",
       "      <td>158.608928</td>\n",
       "      <td>160.225476</td>\n",
       "      <td>159.898376</td>\n",
       "      <td>2.762492e+07</td>\n",
       "    </tr>\n",
       "    <tr>\n",
       "      <th>std</th>\n",
       "      <td>15.661862</td>\n",
       "      <td>15.742355</td>\n",
       "      <td>15.547389</td>\n",
       "      <td>15.605793</td>\n",
       "      <td>15.629485</td>\n",
       "      <td>1.091537e+07</td>\n",
       "    </tr>\n",
       "    <tr>\n",
       "      <th>min</th>\n",
       "      <td>131.880005</td>\n",
       "      <td>133.240005</td>\n",
       "      <td>130.669998</td>\n",
       "      <td>131.399994</td>\n",
       "      <td>131.075424</td>\n",
       "      <td>1.024210e+07</td>\n",
       "    </tr>\n",
       "    <tr>\n",
       "      <th>25%</th>\n",
       "      <td>145.875000</td>\n",
       "      <td>146.632500</td>\n",
       "      <td>144.920006</td>\n",
       "      <td>145.977505</td>\n",
       "      <td>145.616940</td>\n",
       "      <td>2.103315e+07</td>\n",
       "    </tr>\n",
       "    <tr>\n",
       "      <th>50%</th>\n",
       "      <td>160.504997</td>\n",
       "      <td>163.440002</td>\n",
       "      <td>158.764999</td>\n",
       "      <td>160.834999</td>\n",
       "      <td>160.621857</td>\n",
       "      <td>2.448235e+07</td>\n",
       "    </tr>\n",
       "    <tr>\n",
       "      <th>75%</th>\n",
       "      <td>174.189995</td>\n",
       "      <td>175.357502</td>\n",
       "      <td>172.090000</td>\n",
       "      <td>173.610001</td>\n",
       "      <td>173.181171</td>\n",
       "      <td>3.117152e+07</td>\n",
       "    </tr>\n",
       "    <tr>\n",
       "      <th>max</th>\n",
       "      <td>190.309998</td>\n",
       "      <td>191.750000</td>\n",
       "      <td>189.029999</td>\n",
       "      <td>191.179993</td>\n",
       "      <td>190.926636</td>\n",
       "      <td>7.191000e+07</td>\n",
       "    </tr>\n",
       "  </tbody>\n",
       "</table>\n",
       "</div>"
      ],
      "text/plain": [
       "             Open        High         Low       Close   Adj Close  \\\n",
       "count  168.000000  168.000000  168.000000  168.000000  168.000000   \n",
       "mean   160.070476  161.745238  158.608928  160.225476  159.898376   \n",
       "std     15.661862   15.742355   15.547389   15.605793   15.629485   \n",
       "min    131.880005  133.240005  130.669998  131.399994  131.075424   \n",
       "25%    145.875000  146.632500  144.920006  145.977505  145.616940   \n",
       "50%    160.504997  163.440002  158.764999  160.834999  160.621857   \n",
       "75%    174.189995  175.357502  172.090000  173.610001  173.181171   \n",
       "max    190.309998  191.750000  189.029999  191.179993  190.926636   \n",
       "\n",
       "             Volume  \n",
       "count  1.680000e+02  \n",
       "mean   2.762492e+07  \n",
       "std    1.091537e+07  \n",
       "min    1.024210e+07  \n",
       "25%    2.103315e+07  \n",
       "50%    2.448235e+07  \n",
       "75%    3.117152e+07  \n",
       "max    7.191000e+07  "
      ]
     },
     "execution_count": 10,
     "metadata": {},
     "output_type": "execute_result"
    }
   ],
   "source": [
    "google.describe()"
   ]
  },
  {
   "cell_type": "markdown",
   "metadata": {},
   "source": [
    "### We will `re-organize` and `re-shape` stock data"
   ]
  },
  {
   "cell_type": "markdown",
   "metadata": {},
   "source": [
    "> Let's concatenate data in multiple DataFrame objects"
   ]
  },
  {
   "cell_type": "markdown",
   "metadata": {},
   "source": [
    "> Let's obtain Apple adjusted close data for July and August ~~2021~~ <font color = 'red'> 2024 </font>"
   ]
  },
  {
   "cell_type": "code",
   "execution_count": 11,
   "metadata": {},
   "outputs": [
    {
     "data": {
      "text/html": [
       "<div>\n",
       "<style scoped>\n",
       "    .dataframe tbody tr th:only-of-type {\n",
       "        vertical-align: middle;\n",
       "    }\n",
       "\n",
       "    .dataframe tbody tr th {\n",
       "        vertical-align: top;\n",
       "    }\n",
       "\n",
       "    .dataframe thead th {\n",
       "        text-align: right;\n",
       "    }\n",
       "</style>\n",
       "<table border=\"1\" class=\"dataframe\">\n",
       "  <thead>\n",
       "    <tr style=\"text-align: right;\">\n",
       "      <th></th>\n",
       "      <th>Adj Close</th>\n",
       "    </tr>\n",
       "    <tr>\n",
       "      <th>Date</th>\n",
       "      <th></th>\n",
       "    </tr>\n",
       "  </thead>\n",
       "  <tbody>\n",
       "    <tr>\n",
       "      <th>2024-07-01</th>\n",
       "      <td>216.499405</td>\n",
       "    </tr>\n",
       "    <tr>\n",
       "      <th>2024-07-02</th>\n",
       "      <td>220.015335</td>\n",
       "    </tr>\n",
       "    <tr>\n",
       "      <th>2024-07-03</th>\n",
       "      <td>221.293854</td>\n",
       "    </tr>\n",
       "    <tr>\n",
       "      <th>2024-07-05</th>\n",
       "      <td>226.078308</td>\n",
       "    </tr>\n",
       "    <tr>\n",
       "      <th>2024-07-08</th>\n",
       "      <td>227.556610</td>\n",
       "    </tr>\n",
       "  </tbody>\n",
       "</table>\n",
       "</div>"
      ],
      "text/plain": [
       "             Adj Close\n",
       "Date                  \n",
       "2024-07-01  216.499405\n",
       "2024-07-02  220.015335\n",
       "2024-07-03  221.293854\n",
       "2024-07-05  226.078308\n",
       "2024-07-08  227.556610"
      ]
     },
     "execution_count": 11,
     "metadata": {},
     "output_type": "execute_result"
    }
   ],
   "source": [
    "apple_07_pd: pd.DataFrame = (\n",
    "    apple\n",
    "    [apple.index.month == 7]\n",
    "    [['Adj Close']]\n",
    ")\n",
    "\n",
    "apple_07_pd.head()"
   ]
  },
  {
   "cell_type": "markdown",
   "metadata": {},
   "source": [
    ">### <font color = 'yellow'> POLARS </font>"
   ]
  },
  {
   "cell_type": "code",
   "execution_count": 12,
   "metadata": {},
   "outputs": [
    {
     "data": {
      "text/html": [
       "<div><style>\n",
       ".dataframe > thead > tr,\n",
       ".dataframe > tbody > tr {\n",
       "  text-align: right;\n",
       "  white-space: pre-wrap;\n",
       "}\n",
       "</style>\n",
       "<small>shape: (5, 2)</small><table border=\"1\" class=\"dataframe\"><thead><tr><th>Date</th><th>Adj Close</th></tr><tr><td>date</td><td>f64</td></tr></thead><tbody><tr><td>2024-07-01</td><td>216.499405</td></tr><tr><td>2024-07-02</td><td>220.015335</td></tr><tr><td>2024-07-03</td><td>221.293854</td></tr><tr><td>2024-07-05</td><td>226.078308</td></tr><tr><td>2024-07-08</td><td>227.55661</td></tr></tbody></table></div>"
      ],
      "text/plain": [
       "shape: (5, 2)\n",
       "┌────────────┬────────────┐\n",
       "│ Date       ┆ Adj Close  │\n",
       "│ ---        ┆ ---        │\n",
       "│ date       ┆ f64        │\n",
       "╞════════════╪════════════╡\n",
       "│ 2024-07-01 ┆ 216.499405 │\n",
       "│ 2024-07-02 ┆ 220.015335 │\n",
       "│ 2024-07-03 ┆ 221.293854 │\n",
       "│ 2024-07-05 ┆ 226.078308 │\n",
       "│ 2024-07-08 ┆ 227.55661  │\n",
       "└────────────┴────────────┘"
      ]
     },
     "execution_count": 12,
     "metadata": {},
     "output_type": "execute_result"
    }
   ],
   "source": [
    "apple_07_pl: pl.DataFrame = (\n",
    "    apple_pl\n",
    "    .filter(\n",
    "        pl.col('Date')\n",
    "        .dt\n",
    "        .month()\n",
    "        == 7       \n",
    "    )\n",
    "    .select(\n",
    "        ['Date', 'Adj Close']\n",
    "    )\n",
    ")\n",
    "\n",
    "apple_07_pl.head()"
   ]
  },
  {
   "cell_type": "markdown",
   "metadata": {},
   "source": [
    "> <font color = 'orange'> Comparison of Compute Time </font> \\\n",
    "> <font color = 'yellow'> Polars </font> is `~5 times` faster than pandas when filtering"
   ]
  },
  {
   "cell_type": "code",
   "execution_count": 94,
   "metadata": {},
   "outputs": [
    {
     "name": "stdout",
     "output_type": "stream",
     "text": [
      "1.75 ms ± 148 µs per loop (mean ± std. dev. of 5 runs, 1,000 loops each)\n"
     ]
    }
   ],
   "source": [
    "%%timeit -n 1000 -r 5\n",
    "apple_07_pd: pd.DataFrame = (\n",
    "    apple\n",
    "    [apple.index.month == 7]\n",
    "    [['Adj Close']]\n",
    ")\n",
    "\n",
    "apple_07_pd.head()"
   ]
  },
  {
   "cell_type": "code",
   "execution_count": 95,
   "metadata": {},
   "outputs": [
    {
     "name": "stdout",
     "output_type": "stream",
     "text": [
      "375 µs ± 44.8 µs per loop (mean ± std. dev. of 5 runs, 1,000 loops each)\n"
     ]
    }
   ],
   "source": [
    "%%timeit -n 1000 -r 5\n",
    "apple_07_pl: pl.DataFrame = (\n",
    "    apple_pl\n",
    "    .filter(\n",
    "        pl.col('Date')\n",
    "        .dt\n",
    "        .month()\n",
    "        == 7       \n",
    "    )\n",
    "    .select(\n",
    "        ['Date', 'Adj Close']\n",
    "    )\n",
    ")\n",
    "\n",
    "apple_07_pl.head()"
   ]
  },
  {
   "cell_type": "code",
   "execution_count": 13,
   "metadata": {},
   "outputs": [
    {
     "data": {
      "text/html": [
       "<div>\n",
       "<style scoped>\n",
       "    .dataframe tbody tr th:only-of-type {\n",
       "        vertical-align: middle;\n",
       "    }\n",
       "\n",
       "    .dataframe tbody tr th {\n",
       "        vertical-align: top;\n",
       "    }\n",
       "\n",
       "    .dataframe thead th {\n",
       "        text-align: right;\n",
       "    }\n",
       "</style>\n",
       "<table border=\"1\" class=\"dataframe\">\n",
       "  <thead>\n",
       "    <tr style=\"text-align: right;\">\n",
       "      <th></th>\n",
       "      <th>Adj Close</th>\n",
       "    </tr>\n",
       "    <tr>\n",
       "      <th>Date</th>\n",
       "      <th></th>\n",
       "    </tr>\n",
       "  </thead>\n",
       "  <tbody>\n",
       "    <tr>\n",
       "      <th>2024-08-01</th>\n",
       "      <td>218.107544</td>\n",
       "    </tr>\n",
       "    <tr>\n",
       "      <th>2024-08-02</th>\n",
       "      <td>219.605804</td>\n",
       "    </tr>\n",
       "    <tr>\n",
       "      <th>2024-08-05</th>\n",
       "      <td>209.028061</td>\n",
       "    </tr>\n",
       "    <tr>\n",
       "      <th>2024-08-06</th>\n",
       "      <td>206.990402</td>\n",
       "    </tr>\n",
       "    <tr>\n",
       "      <th>2024-08-07</th>\n",
       "      <td>209.577423</td>\n",
       "    </tr>\n",
       "  </tbody>\n",
       "</table>\n",
       "</div>"
      ],
      "text/plain": [
       "             Adj Close\n",
       "Date                  \n",
       "2024-08-01  218.107544\n",
       "2024-08-02  219.605804\n",
       "2024-08-05  209.028061\n",
       "2024-08-06  206.990402\n",
       "2024-08-07  209.577423"
      ]
     },
     "execution_count": 13,
     "metadata": {},
     "output_type": "execute_result"
    }
   ],
   "source": [
    "apple_08_pd: pd.DataFrame = (\n",
    "    apple\n",
    "    [apple.index.month == 8]\n",
    "    [['Adj Close']]\n",
    ")\n",
    "\n",
    "apple_08_pd.head()"
   ]
  },
  {
   "cell_type": "markdown",
   "metadata": {},
   "source": [
    ">### <font color = 'yellow'> POLARS </font>"
   ]
  },
  {
   "cell_type": "code",
   "execution_count": 14,
   "metadata": {},
   "outputs": [
    {
     "data": {
      "text/html": [
       "<div><style>\n",
       ".dataframe > thead > tr,\n",
       ".dataframe > tbody > tr {\n",
       "  text-align: right;\n",
       "  white-space: pre-wrap;\n",
       "}\n",
       "</style>\n",
       "<small>shape: (5, 2)</small><table border=\"1\" class=\"dataframe\"><thead><tr><th>Date</th><th>Adj Close</th></tr><tr><td>date</td><td>f64</td></tr></thead><tbody><tr><td>2024-08-01</td><td>218.107544</td></tr><tr><td>2024-08-02</td><td>219.605804</td></tr><tr><td>2024-08-05</td><td>209.028061</td></tr><tr><td>2024-08-06</td><td>206.990402</td></tr><tr><td>2024-08-07</td><td>209.577423</td></tr></tbody></table></div>"
      ],
      "text/plain": [
       "shape: (5, 2)\n",
       "┌────────────┬────────────┐\n",
       "│ Date       ┆ Adj Close  │\n",
       "│ ---        ┆ ---        │\n",
       "│ date       ┆ f64        │\n",
       "╞════════════╪════════════╡\n",
       "│ 2024-08-01 ┆ 218.107544 │\n",
       "│ 2024-08-02 ┆ 219.605804 │\n",
       "│ 2024-08-05 ┆ 209.028061 │\n",
       "│ 2024-08-06 ┆ 206.990402 │\n",
       "│ 2024-08-07 ┆ 209.577423 │\n",
       "└────────────┴────────────┘"
      ]
     },
     "execution_count": 14,
     "metadata": {},
     "output_type": "execute_result"
    }
   ],
   "source": [
    "apple_08_pl: pl.DataFrame = (\n",
    "    apple_pl\n",
    "    .filter(\n",
    "        pl.col('Date')\n",
    "        .dt\n",
    "        .month()\n",
    "        == 8\n",
    "    )\n",
    "    .select(\n",
    "        ['Date', 'Adj Close']\n",
    "    )\n",
    ")\n",
    "\n",
    "apple_08_pl.head()"
   ]
  },
  {
   "cell_type": "markdown",
   "metadata": {},
   "source": [
    "### Question 1-1. Please combine the first three rows of each of `apple_07` and `apple_08`"
   ]
  },
  {
   "cell_type": "code",
   "execution_count": 15,
   "metadata": {},
   "outputs": [
    {
     "data": {
      "text/html": [
       "<div>\n",
       "<style scoped>\n",
       "    .dataframe tbody tr th:only-of-type {\n",
       "        vertical-align: middle;\n",
       "    }\n",
       "\n",
       "    .dataframe tbody tr th {\n",
       "        vertical-align: top;\n",
       "    }\n",
       "\n",
       "    .dataframe thead th {\n",
       "        text-align: right;\n",
       "    }\n",
       "</style>\n",
       "<table border=\"1\" class=\"dataframe\">\n",
       "  <thead>\n",
       "    <tr style=\"text-align: right;\">\n",
       "      <th></th>\n",
       "      <th>Adj Close</th>\n",
       "    </tr>\n",
       "    <tr>\n",
       "      <th>Date</th>\n",
       "      <th></th>\n",
       "    </tr>\n",
       "  </thead>\n",
       "  <tbody>\n",
       "    <tr>\n",
       "      <th>2024-07-01</th>\n",
       "      <td>216.499405</td>\n",
       "    </tr>\n",
       "    <tr>\n",
       "      <th>2024-07-02</th>\n",
       "      <td>220.015335</td>\n",
       "    </tr>\n",
       "    <tr>\n",
       "      <th>2024-07-03</th>\n",
       "      <td>221.293854</td>\n",
       "    </tr>\n",
       "    <tr>\n",
       "      <th>2024-08-01</th>\n",
       "      <td>218.107544</td>\n",
       "    </tr>\n",
       "    <tr>\n",
       "      <th>2024-08-02</th>\n",
       "      <td>219.605804</td>\n",
       "    </tr>\n",
       "    <tr>\n",
       "      <th>2024-08-05</th>\n",
       "      <td>209.028061</td>\n",
       "    </tr>\n",
       "  </tbody>\n",
       "</table>\n",
       "</div>"
      ],
      "text/plain": [
       "             Adj Close\n",
       "Date                  \n",
       "2024-07-01  216.499405\n",
       "2024-07-02  220.015335\n",
       "2024-07-03  221.293854\n",
       "2024-08-01  218.107544\n",
       "2024-08-02  219.605804\n",
       "2024-08-05  209.028061"
      ]
     },
     "execution_count": 15,
     "metadata": {},
     "output_type": "execute_result"
    }
   ],
   "source": [
    "pd.concat(\n",
    "    [\n",
    "        apple_07_pd.head(3),\n",
    "        apple_08_pd.head(3)\n",
    "    ],\n",
    "    axis = 0\n",
    ")"
   ]
  },
  {
   "cell_type": "markdown",
   "metadata": {},
   "source": [
    ">### <font color = 'yellow'> POLARS </font>"
   ]
  },
  {
   "cell_type": "code",
   "execution_count": 16,
   "metadata": {},
   "outputs": [
    {
     "data": {
      "text/html": [
       "<div><style>\n",
       ".dataframe > thead > tr,\n",
       ".dataframe > tbody > tr {\n",
       "  text-align: right;\n",
       "  white-space: pre-wrap;\n",
       "}\n",
       "</style>\n",
       "<small>shape: (6, 2)</small><table border=\"1\" class=\"dataframe\"><thead><tr><th>Date</th><th>Adj Close</th></tr><tr><td>date</td><td>f64</td></tr></thead><tbody><tr><td>2024-07-01</td><td>216.499405</td></tr><tr><td>2024-07-02</td><td>220.015335</td></tr><tr><td>2024-07-03</td><td>221.293854</td></tr><tr><td>2024-08-01</td><td>218.107544</td></tr><tr><td>2024-08-02</td><td>219.605804</td></tr><tr><td>2024-08-05</td><td>209.028061</td></tr></tbody></table></div>"
      ],
      "text/plain": [
       "shape: (6, 2)\n",
       "┌────────────┬────────────┐\n",
       "│ Date       ┆ Adj Close  │\n",
       "│ ---        ┆ ---        │\n",
       "│ date       ┆ f64        │\n",
       "╞════════════╪════════════╡\n",
       "│ 2024-07-01 ┆ 216.499405 │\n",
       "│ 2024-07-02 ┆ 220.015335 │\n",
       "│ 2024-07-03 ┆ 221.293854 │\n",
       "│ 2024-08-01 ┆ 218.107544 │\n",
       "│ 2024-08-02 ┆ 219.605804 │\n",
       "│ 2024-08-05 ┆ 209.028061 │\n",
       "└────────────┴────────────┘"
      ]
     },
     "execution_count": 16,
     "metadata": {},
     "output_type": "execute_result"
    }
   ],
   "source": [
    "pl.concat(\n",
    "    [\n",
    "        apple_07_pl.head(3),\n",
    "        apple_08_pl.head(3)\n",
    "    ],\n",
    "    how = 'vertical'\n",
    ")"
   ]
  },
  {
   "cell_type": "markdown",
   "metadata": {},
   "source": [
    "> <font color = 'orange'> Comparison of Compute Time </font> \\\n",
    "> <font color = 'yellow'> Polars </font> is `~18 times` faster than pandas when concatenating"
   ]
  },
  {
   "cell_type": "code",
   "execution_count": 96,
   "metadata": {},
   "outputs": [
    {
     "name": "stdout",
     "output_type": "stream",
     "text": [
      "1.19 ms ± 224 µs per loop (mean ± std. dev. of 5 runs, 1,000 loops each)\n"
     ]
    }
   ],
   "source": [
    "%%timeit -n 1000 -r 5\n",
    "pd.concat(\n",
    "    [\n",
    "        apple_07_pd.head(3),\n",
    "        apple_08_pd.head(3)\n",
    "    ],\n",
    "    axis = 0\n",
    ")"
   ]
  },
  {
   "cell_type": "code",
   "execution_count": 97,
   "metadata": {},
   "outputs": [
    {
     "name": "stdout",
     "output_type": "stream",
     "text": [
      "66 µs ± 9.4 µs per loop (mean ± std. dev. of 5 runs, 1,000 loops each)\n"
     ]
    }
   ],
   "source": [
    "%%timeit -n 1000 -r 5\n",
    "pl.concat(\n",
    "    [\n",
    "        apple_07_pl.head(3),\n",
    "        apple_08_pl.head(3)\n",
    "    ],\n",
    "    how = 'vertical'\n",
    ")"
   ]
  },
  {
   "cell_type": "markdown",
   "metadata": {},
   "source": [
    "#### Question 1-2. How would you extract only the ~~2021~~ <font color = 'red'> 2024 </font> August GOOGL values?"
   ]
  },
  {
   "cell_type": "code",
   "execution_count": 17,
   "metadata": {},
   "outputs": [
    {
     "data": {
      "text/html": [
       "<div>\n",
       "<style scoped>\n",
       "    .dataframe tbody tr th:only-of-type {\n",
       "        vertical-align: middle;\n",
       "    }\n",
       "\n",
       "    .dataframe tbody tr th {\n",
       "        vertical-align: top;\n",
       "    }\n",
       "\n",
       "    .dataframe thead th {\n",
       "        text-align: right;\n",
       "    }\n",
       "</style>\n",
       "<table border=\"1\" class=\"dataframe\">\n",
       "  <thead>\n",
       "    <tr style=\"text-align: right;\">\n",
       "      <th></th>\n",
       "      <th>Adj Close</th>\n",
       "    </tr>\n",
       "    <tr>\n",
       "      <th>Date</th>\n",
       "      <th></th>\n",
       "    </tr>\n",
       "  </thead>\n",
       "  <tbody>\n",
       "    <tr>\n",
       "      <th>2024-08-01</th>\n",
       "      <td>170.533707</td>\n",
       "    </tr>\n",
       "    <tr>\n",
       "      <th>2024-08-02</th>\n",
       "      <td>166.439148</td>\n",
       "    </tr>\n",
       "    <tr>\n",
       "      <th>2024-08-05</th>\n",
       "      <td>159.038971</td>\n",
       "    </tr>\n",
       "    <tr>\n",
       "      <th>2024-08-06</th>\n",
       "      <td>158.080231</td>\n",
       "    </tr>\n",
       "    <tr>\n",
       "      <th>2024-08-07</th>\n",
       "      <td>158.729370</td>\n",
       "    </tr>\n",
       "    <tr>\n",
       "      <th>2024-08-08</th>\n",
       "      <td>161.815277</td>\n",
       "    </tr>\n",
       "    <tr>\n",
       "      <th>2024-08-09</th>\n",
       "      <td>163.453110</td>\n",
       "    </tr>\n",
       "    <tr>\n",
       "      <th>2024-08-12</th>\n",
       "      <td>162.074921</td>\n",
       "    </tr>\n",
       "    <tr>\n",
       "      <th>2024-08-13</th>\n",
       "      <td>163.942459</td>\n",
       "    </tr>\n",
       "    <tr>\n",
       "      <th>2024-08-14</th>\n",
       "      <td>160.157471</td>\n",
       "    </tr>\n",
       "    <tr>\n",
       "      <th>2024-08-15</th>\n",
       "      <td>161.086243</td>\n",
       "    </tr>\n",
       "    <tr>\n",
       "      <th>2024-08-16</th>\n",
       "      <td>162.744049</td>\n",
       "    </tr>\n",
       "    <tr>\n",
       "      <th>2024-08-19</th>\n",
       "      <td>166.449127</td>\n",
       "    </tr>\n",
       "    <tr>\n",
       "      <th>2024-08-20</th>\n",
       "      <td>166.958450</td>\n",
       "    </tr>\n",
       "    <tr>\n",
       "      <th>2024-08-21</th>\n",
       "      <td>165.630219</td>\n",
       "    </tr>\n",
       "    <tr>\n",
       "      <th>2024-08-22</th>\n",
       "      <td>163.582932</td>\n",
       "    </tr>\n",
       "    <tr>\n",
       "      <th>2024-08-23</th>\n",
       "      <td>165.400513</td>\n",
       "    </tr>\n",
       "    <tr>\n",
       "      <th>2024-08-26</th>\n",
       "      <td>165.939804</td>\n",
       "    </tr>\n",
       "    <tr>\n",
       "      <th>2024-08-27</th>\n",
       "      <td>164.461761</td>\n",
       "    </tr>\n",
       "    <tr>\n",
       "      <th>2024-08-28</th>\n",
       "      <td>162.634201</td>\n",
       "    </tr>\n",
       "    <tr>\n",
       "      <th>2024-08-29</th>\n",
       "      <td>161.565613</td>\n",
       "    </tr>\n",
       "    <tr>\n",
       "      <th>2024-08-30</th>\n",
       "      <td>163.163498</td>\n",
       "    </tr>\n",
       "  </tbody>\n",
       "</table>\n",
       "</div>"
      ],
      "text/plain": [
       "             Adj Close\n",
       "Date                  \n",
       "2024-08-01  170.533707\n",
       "2024-08-02  166.439148\n",
       "2024-08-05  159.038971\n",
       "2024-08-06  158.080231\n",
       "2024-08-07  158.729370\n",
       "2024-08-08  161.815277\n",
       "2024-08-09  163.453110\n",
       "2024-08-12  162.074921\n",
       "2024-08-13  163.942459\n",
       "2024-08-14  160.157471\n",
       "2024-08-15  161.086243\n",
       "2024-08-16  162.744049\n",
       "2024-08-19  166.449127\n",
       "2024-08-20  166.958450\n",
       "2024-08-21  165.630219\n",
       "2024-08-22  163.582932\n",
       "2024-08-23  165.400513\n",
       "2024-08-26  165.939804\n",
       "2024-08-27  164.461761\n",
       "2024-08-28  162.634201\n",
       "2024-08-29  161.565613\n",
       "2024-08-30  163.163498"
      ]
     },
     "execution_count": 17,
     "metadata": {},
     "output_type": "execute_result"
    }
   ],
   "source": [
    "google_08_pd: pd.DataFrame = (\n",
    "    google\n",
    "    [\n",
    "        (google.index.month == 8)\n",
    "        &\n",
    "        (google.index.year == 2024)\n",
    "    ]\n",
    "    [['Adj Close']]\n",
    ")\n",
    "\n",
    "google_08_pd"
   ]
  },
  {
   "cell_type": "markdown",
   "metadata": {},
   "source": [
    ">### <font color = 'yellow'> POLARS </font>"
   ]
  },
  {
   "cell_type": "code",
   "execution_count": 18,
   "metadata": {},
   "outputs": [
    {
     "data": {
      "text/html": [
       "<div><style>\n",
       ".dataframe > thead > tr,\n",
       ".dataframe > tbody > tr {\n",
       "  text-align: right;\n",
       "  white-space: pre-wrap;\n",
       "}\n",
       "</style>\n",
       "<small>shape: (22, 2)</small><table border=\"1\" class=\"dataframe\"><thead><tr><th>Date</th><th>Adj Close</th></tr><tr><td>date</td><td>f64</td></tr></thead><tbody><tr><td>2024-08-01</td><td>170.533707</td></tr><tr><td>2024-08-02</td><td>166.439148</td></tr><tr><td>2024-08-05</td><td>159.038971</td></tr><tr><td>2024-08-06</td><td>158.080231</td></tr><tr><td>2024-08-07</td><td>158.72937</td></tr><tr><td>&hellip;</td><td>&hellip;</td></tr><tr><td>2024-08-26</td><td>165.939804</td></tr><tr><td>2024-08-27</td><td>164.461761</td></tr><tr><td>2024-08-28</td><td>162.634201</td></tr><tr><td>2024-08-29</td><td>161.565613</td></tr><tr><td>2024-08-30</td><td>163.163498</td></tr></tbody></table></div>"
      ],
      "text/plain": [
       "shape: (22, 2)\n",
       "┌────────────┬────────────┐\n",
       "│ Date       ┆ Adj Close  │\n",
       "│ ---        ┆ ---        │\n",
       "│ date       ┆ f64        │\n",
       "╞════════════╪════════════╡\n",
       "│ 2024-08-01 ┆ 170.533707 │\n",
       "│ 2024-08-02 ┆ 166.439148 │\n",
       "│ 2024-08-05 ┆ 159.038971 │\n",
       "│ 2024-08-06 ┆ 158.080231 │\n",
       "│ 2024-08-07 ┆ 158.72937  │\n",
       "│ …          ┆ …          │\n",
       "│ 2024-08-26 ┆ 165.939804 │\n",
       "│ 2024-08-27 ┆ 164.461761 │\n",
       "│ 2024-08-28 ┆ 162.634201 │\n",
       "│ 2024-08-29 ┆ 161.565613 │\n",
       "│ 2024-08-30 ┆ 163.163498 │\n",
       "└────────────┴────────────┘"
      ]
     },
     "execution_count": 18,
     "metadata": {},
     "output_type": "execute_result"
    }
   ],
   "source": [
    "google_08_pl: pl.DataFrame = (\n",
    "    google_pl\n",
    "    .filter(\n",
    "        pl.col('Date')\n",
    "        .dt\n",
    "        .year()\n",
    "        == 2024,\n",
    "        pl.col('Date')\n",
    "        .dt\n",
    "        .month()\n",
    "        == 8\n",
    "    )\n",
    "    .select(\n",
    "        ['Date', 'Adj Close']\n",
    "    )\n",
    ")\n",
    "\n",
    "google_08_pl"
   ]
  },
  {
   "cell_type": "markdown",
   "metadata": {},
   "source": [
    "#### Question 1-3. Please concatenate the AAPL and GOOGL ~~2021~~ <font color = 'red'> 2024 </font> August stock data--there will be duplicate index labels"
   ]
  },
  {
   "cell_type": "code",
   "execution_count": 19,
   "metadata": {},
   "outputs": [
    {
     "data": {
      "text/html": [
       "<div>\n",
       "<style scoped>\n",
       "    .dataframe tbody tr th:only-of-type {\n",
       "        vertical-align: middle;\n",
       "    }\n",
       "\n",
       "    .dataframe tbody tr th {\n",
       "        vertical-align: top;\n",
       "    }\n",
       "\n",
       "    .dataframe thead th {\n",
       "        text-align: right;\n",
       "    }\n",
       "</style>\n",
       "<table border=\"1\" class=\"dataframe\">\n",
       "  <thead>\n",
       "    <tr style=\"text-align: right;\">\n",
       "      <th></th>\n",
       "      <th>Adj Close</th>\n",
       "    </tr>\n",
       "    <tr>\n",
       "      <th>Date</th>\n",
       "      <th></th>\n",
       "    </tr>\n",
       "  </thead>\n",
       "  <tbody>\n",
       "    <tr>\n",
       "      <th>2024-08-01</th>\n",
       "      <td>218.107544</td>\n",
       "    </tr>\n",
       "    <tr>\n",
       "      <th>2024-08-02</th>\n",
       "      <td>219.605804</td>\n",
       "    </tr>\n",
       "    <tr>\n",
       "      <th>2024-08-05</th>\n",
       "      <td>209.028061</td>\n",
       "    </tr>\n",
       "    <tr>\n",
       "      <th>2024-08-01</th>\n",
       "      <td>170.533707</td>\n",
       "    </tr>\n",
       "    <tr>\n",
       "      <th>2024-08-02</th>\n",
       "      <td>166.439148</td>\n",
       "    </tr>\n",
       "    <tr>\n",
       "      <th>2024-08-05</th>\n",
       "      <td>159.038971</td>\n",
       "    </tr>\n",
       "  </tbody>\n",
       "</table>\n",
       "</div>"
      ],
      "text/plain": [
       "             Adj Close\n",
       "Date                  \n",
       "2024-08-01  218.107544\n",
       "2024-08-02  219.605804\n",
       "2024-08-05  209.028061\n",
       "2024-08-01  170.533707\n",
       "2024-08-02  166.439148\n",
       "2024-08-05  159.038971"
      ]
     },
     "execution_count": 19,
     "metadata": {},
     "output_type": "execute_result"
    }
   ],
   "source": [
    "apple_google_08_pd: pd.DataFrame = (\n",
    "    pd.concat(\n",
    "        [\n",
    "            apple_08_pd.head(3),\n",
    "            google_08_pd.head(3)\n",
    "        ],\n",
    "        axis = 0\n",
    "    )\n",
    ")\n",
    "\n",
    "apple_google_08_pd.head(8)"
   ]
  },
  {
   "cell_type": "markdown",
   "metadata": {},
   "source": [
    ">### <font color = 'yellow'> POLARS </font>"
   ]
  },
  {
   "cell_type": "code",
   "execution_count": 20,
   "metadata": {},
   "outputs": [
    {
     "data": {
      "text/html": [
       "<div><style>\n",
       ".dataframe > thead > tr,\n",
       ".dataframe > tbody > tr {\n",
       "  text-align: right;\n",
       "  white-space: pre-wrap;\n",
       "}\n",
       "</style>\n",
       "<small>shape: (6, 2)</small><table border=\"1\" class=\"dataframe\"><thead><tr><th>Date</th><th>Adj Close</th></tr><tr><td>date</td><td>f64</td></tr></thead><tbody><tr><td>2024-08-01</td><td>218.107544</td></tr><tr><td>2024-08-02</td><td>219.605804</td></tr><tr><td>2024-08-05</td><td>209.028061</td></tr><tr><td>2024-08-01</td><td>170.533707</td></tr><tr><td>2024-08-02</td><td>166.439148</td></tr><tr><td>2024-08-05</td><td>159.038971</td></tr></tbody></table></div>"
      ],
      "text/plain": [
       "shape: (6, 2)\n",
       "┌────────────┬────────────┐\n",
       "│ Date       ┆ Adj Close  │\n",
       "│ ---        ┆ ---        │\n",
       "│ date       ┆ f64        │\n",
       "╞════════════╪════════════╡\n",
       "│ 2024-08-01 ┆ 218.107544 │\n",
       "│ 2024-08-02 ┆ 219.605804 │\n",
       "│ 2024-08-05 ┆ 209.028061 │\n",
       "│ 2024-08-01 ┆ 170.533707 │\n",
       "│ 2024-08-02 ┆ 166.439148 │\n",
       "│ 2024-08-05 ┆ 159.038971 │\n",
       "└────────────┴────────────┘"
      ]
     },
     "execution_count": 20,
     "metadata": {},
     "output_type": "execute_result"
    }
   ],
   "source": [
    "apple_google_08_pl: pl.DataFrame = (\n",
    "    pl.concat(\n",
    "        [\n",
    "            apple_08_pl.head(3),\n",
    "            google_08_pl.head(3)\n",
    "        ],\n",
    "        how = 'vertical'\n",
    "    )\n",
    ")\n",
    "\n",
    "apple_google_08_pl"
   ]
  },
  {
   "cell_type": "markdown",
   "metadata": {},
   "source": [
    "> Let's see the `two records for data of 2024-08-02`"
   ]
  },
  {
   "cell_type": "code",
   "execution_count": 21,
   "metadata": {},
   "outputs": [
    {
     "data": {
      "text/html": [
       "<div>\n",
       "<style scoped>\n",
       "    .dataframe tbody tr th:only-of-type {\n",
       "        vertical-align: middle;\n",
       "    }\n",
       "\n",
       "    .dataframe tbody tr th {\n",
       "        vertical-align: top;\n",
       "    }\n",
       "\n",
       "    .dataframe thead th {\n",
       "        text-align: right;\n",
       "    }\n",
       "</style>\n",
       "<table border=\"1\" class=\"dataframe\">\n",
       "  <thead>\n",
       "    <tr style=\"text-align: right;\">\n",
       "      <th></th>\n",
       "      <th>Adj Close</th>\n",
       "    </tr>\n",
       "    <tr>\n",
       "      <th>Date</th>\n",
       "      <th></th>\n",
       "    </tr>\n",
       "  </thead>\n",
       "  <tbody>\n",
       "    <tr>\n",
       "      <th>2024-08-02</th>\n",
       "      <td>219.605804</td>\n",
       "    </tr>\n",
       "    <tr>\n",
       "      <th>2024-08-02</th>\n",
       "      <td>166.439148</td>\n",
       "    </tr>\n",
       "  </tbody>\n",
       "</table>\n",
       "</div>"
      ],
      "text/plain": [
       "             Adj Close\n",
       "Date                  \n",
       "2024-08-02  219.605804\n",
       "2024-08-02  166.439148"
      ]
     },
     "execution_count": 21,
     "metadata": {},
     "output_type": "execute_result"
    }
   ],
   "source": [
    "(\n",
    "    apple_google_08_pd\n",
    "    [\n",
    "        apple_google_08_pd.index == '2024-08-02'\n",
    "    ]\n",
    ")"
   ]
  },
  {
   "cell_type": "markdown",
   "metadata": {},
   "source": [
    ">### <font color = 'yellow'> POLARS </font>"
   ]
  },
  {
   "cell_type": "code",
   "execution_count": 22,
   "metadata": {},
   "outputs": [
    {
     "data": {
      "text/html": [
       "<div><style>\n",
       ".dataframe > thead > tr,\n",
       ".dataframe > tbody > tr {\n",
       "  text-align: right;\n",
       "  white-space: pre-wrap;\n",
       "}\n",
       "</style>\n",
       "<small>shape: (2, 2)</small><table border=\"1\" class=\"dataframe\"><thead><tr><th>Date</th><th>Adj Close</th></tr><tr><td>date</td><td>f64</td></tr></thead><tbody><tr><td>2024-08-02</td><td>219.605804</td></tr><tr><td>2024-08-02</td><td>166.439148</td></tr></tbody></table></div>"
      ],
      "text/plain": [
       "shape: (2, 2)\n",
       "┌────────────┬────────────┐\n",
       "│ Date       ┆ Adj Close  │\n",
       "│ ---        ┆ ---        │\n",
       "│ date       ┆ f64        │\n",
       "╞════════════╪════════════╡\n",
       "│ 2024-08-02 ┆ 219.605804 │\n",
       "│ 2024-08-02 ┆ 166.439148 │\n",
       "└────────────┴────────────┘"
      ]
     },
     "execution_count": 22,
     "metadata": {},
     "output_type": "execute_result"
    }
   ],
   "source": [
    "(\n",
    "    apple_google_08_pl\n",
    "    .filter(\n",
    "        pl.col('Date')\n",
    "        ==\n",
    "        pl.lit('2024-08-02')\n",
    "        .str\n",
    "        .strptime(pl.Date, '%Y-%m-%d')\n",
    "    )\n",
    ")"
   ]
  },
  {
   "cell_type": "markdown",
   "metadata": {},
   "source": [
    "#### Question 1-4. Please concatenate to show a specification of the stock tickets being part of the index. This will help disambiguate the duplicate dates using a hierarchal index."
   ]
  },
  {
   "cell_type": "code",
   "execution_count": 23,
   "metadata": {},
   "outputs": [
    {
     "data": {
      "text/html": [
       "<div>\n",
       "<style scoped>\n",
       "    .dataframe tbody tr th:only-of-type {\n",
       "        vertical-align: middle;\n",
       "    }\n",
       "\n",
       "    .dataframe tbody tr th {\n",
       "        vertical-align: top;\n",
       "    }\n",
       "\n",
       "    .dataframe thead th {\n",
       "        text-align: right;\n",
       "    }\n",
       "</style>\n",
       "<table border=\"1\" class=\"dataframe\">\n",
       "  <thead>\n",
       "    <tr style=\"text-align: right;\">\n",
       "      <th></th>\n",
       "      <th></th>\n",
       "      <th>Adj Close</th>\n",
       "    </tr>\n",
       "    <tr>\n",
       "      <th></th>\n",
       "      <th>Date</th>\n",
       "      <th></th>\n",
       "    </tr>\n",
       "  </thead>\n",
       "  <tbody>\n",
       "    <tr>\n",
       "      <th rowspan=\"3\" valign=\"top\">AAPL</th>\n",
       "      <th>2024-08-01</th>\n",
       "      <td>218.107544</td>\n",
       "    </tr>\n",
       "    <tr>\n",
       "      <th>2024-08-02</th>\n",
       "      <td>219.605804</td>\n",
       "    </tr>\n",
       "    <tr>\n",
       "      <th>2024-08-05</th>\n",
       "      <td>209.028061</td>\n",
       "    </tr>\n",
       "    <tr>\n",
       "      <th rowspan=\"3\" valign=\"top\">GOOGL</th>\n",
       "      <th>2024-08-01</th>\n",
       "      <td>170.533707</td>\n",
       "    </tr>\n",
       "    <tr>\n",
       "      <th>2024-08-02</th>\n",
       "      <td>166.439148</td>\n",
       "    </tr>\n",
       "    <tr>\n",
       "      <th>2024-08-05</th>\n",
       "      <td>159.038971</td>\n",
       "    </tr>\n",
       "  </tbody>\n",
       "</table>\n",
       "</div>"
      ],
      "text/plain": [
       "                   Adj Close\n",
       "      Date                  \n",
       "AAPL  2024-08-01  218.107544\n",
       "      2024-08-02  219.605804\n",
       "      2024-08-05  209.028061\n",
       "GOOGL 2024-08-01  170.533707\n",
       "      2024-08-02  166.439148\n",
       "      2024-08-05  159.038971"
      ]
     },
     "execution_count": 23,
     "metadata": {},
     "output_type": "execute_result"
    }
   ],
   "source": [
    "apple_google_08_pd: pd.DataFrame = (\n",
    "    pd.concat(\n",
    "        [\n",
    "            apple_08_pd,\n",
    "            google_08_pd\n",
    "        ],\n",
    "        axis = 0,\n",
    "        keys = ['AAPL', 'GOOGL']\n",
    "    )\n",
    ")\n",
    "\n",
    "(\n",
    "    apple_google_08_pd\n",
    "    .groupby(level = 0)\n",
    "    .head(3)\n",
    ")"
   ]
  },
  {
   "cell_type": "markdown",
   "metadata": {},
   "source": [
    "> Let's extract just GOOGL values using `.loc`"
   ]
  },
  {
   "cell_type": "code",
   "execution_count": 24,
   "metadata": {},
   "outputs": [
    {
     "data": {
      "text/html": [
       "<div>\n",
       "<style scoped>\n",
       "    .dataframe tbody tr th:only-of-type {\n",
       "        vertical-align: middle;\n",
       "    }\n",
       "\n",
       "    .dataframe tbody tr th {\n",
       "        vertical-align: top;\n",
       "    }\n",
       "\n",
       "    .dataframe thead th {\n",
       "        text-align: right;\n",
       "    }\n",
       "</style>\n",
       "<table border=\"1\" class=\"dataframe\">\n",
       "  <thead>\n",
       "    <tr style=\"text-align: right;\">\n",
       "      <th></th>\n",
       "      <th>Adj Close</th>\n",
       "    </tr>\n",
       "    <tr>\n",
       "      <th>Date</th>\n",
       "      <th></th>\n",
       "    </tr>\n",
       "  </thead>\n",
       "  <tbody>\n",
       "    <tr>\n",
       "      <th>2024-08-01</th>\n",
       "      <td>170.533707</td>\n",
       "    </tr>\n",
       "    <tr>\n",
       "      <th>2024-08-02</th>\n",
       "      <td>166.439148</td>\n",
       "    </tr>\n",
       "    <tr>\n",
       "      <th>2024-08-05</th>\n",
       "      <td>159.038971</td>\n",
       "    </tr>\n",
       "  </tbody>\n",
       "</table>\n",
       "</div>"
      ],
      "text/plain": [
       "             Adj Close\n",
       "Date                  \n",
       "2024-08-01  170.533707\n",
       "2024-08-02  166.439148\n",
       "2024-08-05  159.038971"
      ]
     },
     "execution_count": 24,
     "metadata": {},
     "output_type": "execute_result"
    }
   ],
   "source": [
    "(\n",
    "    apple_google_08_pd\n",
    "    .loc\n",
    "    ['GOOGL'] # Single label interpreted as a label of the index\n",
    "    .head(3)\n",
    ")"
   ]
  },
  {
   "cell_type": "markdown",
   "metadata": {},
   "source": [
    "#### Question 1-5. Let's show concatenation using two DataFrame's that each have two columns.  `pandas` will align the data in columns by the column names (labels)"
   ]
  },
  {
   "cell_type": "code",
   "execution_count": 25,
   "metadata": {},
   "outputs": [
    {
     "data": {
      "text/html": [
       "<div>\n",
       "<style scoped>\n",
       "    .dataframe tbody tr th:only-of-type {\n",
       "        vertical-align: middle;\n",
       "    }\n",
       "\n",
       "    .dataframe tbody tr th {\n",
       "        vertical-align: top;\n",
       "    }\n",
       "\n",
       "    .dataframe thead th {\n",
       "        text-align: right;\n",
       "    }\n",
       "</style>\n",
       "<table border=\"1\" class=\"dataframe\">\n",
       "  <thead>\n",
       "    <tr style=\"text-align: right;\">\n",
       "      <th></th>\n",
       "      <th>Adj Close</th>\n",
       "      <th>Volume</th>\n",
       "    </tr>\n",
       "    <tr>\n",
       "      <th>Date</th>\n",
       "      <th></th>\n",
       "      <th></th>\n",
       "    </tr>\n",
       "  </thead>\n",
       "  <tbody>\n",
       "    <tr>\n",
       "      <th>2024-01-02</th>\n",
       "      <td>184.938217</td>\n",
       "      <td>82488700</td>\n",
       "    </tr>\n",
       "    <tr>\n",
       "      <th>2024-01-03</th>\n",
       "      <td>183.553467</td>\n",
       "      <td>58414500</td>\n",
       "    </tr>\n",
       "    <tr>\n",
       "      <th>2024-01-04</th>\n",
       "      <td>181.222336</td>\n",
       "      <td>71983600</td>\n",
       "    </tr>\n",
       "    <tr>\n",
       "      <th>2024-01-05</th>\n",
       "      <td>180.495071</td>\n",
       "      <td>62303300</td>\n",
       "    </tr>\n",
       "    <tr>\n",
       "      <th>2024-01-08</th>\n",
       "      <td>184.858521</td>\n",
       "      <td>59144500</td>\n",
       "    </tr>\n",
       "    <tr>\n",
       "      <th>...</th>\n",
       "      <td>...</td>\n",
       "      <td>...</td>\n",
       "    </tr>\n",
       "    <tr>\n",
       "      <th>2024-08-26</th>\n",
       "      <td>165.939804</td>\n",
       "      <td>14190400</td>\n",
       "    </tr>\n",
       "    <tr>\n",
       "      <th>2024-08-27</th>\n",
       "      <td>164.461761</td>\n",
       "      <td>11821900</td>\n",
       "    </tr>\n",
       "    <tr>\n",
       "      <th>2024-08-28</th>\n",
       "      <td>162.634201</td>\n",
       "      <td>16407400</td>\n",
       "    </tr>\n",
       "    <tr>\n",
       "      <th>2024-08-29</th>\n",
       "      <td>161.565613</td>\n",
       "      <td>19699800</td>\n",
       "    </tr>\n",
       "    <tr>\n",
       "      <th>2024-08-30</th>\n",
       "      <td>163.163498</td>\n",
       "      <td>22123800</td>\n",
       "    </tr>\n",
       "  </tbody>\n",
       "</table>\n",
       "<p>336 rows × 2 columns</p>\n",
       "</div>"
      ],
      "text/plain": [
       "             Adj Close    Volume\n",
       "Date                            \n",
       "2024-01-02  184.938217  82488700\n",
       "2024-01-03  183.553467  58414500\n",
       "2024-01-04  181.222336  71983600\n",
       "2024-01-05  180.495071  62303300\n",
       "2024-01-08  184.858521  59144500\n",
       "...                ...       ...\n",
       "2024-08-26  165.939804  14190400\n",
       "2024-08-27  164.461761  11821900\n",
       "2024-08-28  162.634201  16407400\n",
       "2024-08-29  161.565613  19699800\n",
       "2024-08-30  163.163498  22123800\n",
       "\n",
       "[336 rows x 2 columns]"
      ]
     },
     "execution_count": 25,
     "metadata": {},
     "output_type": "execute_result"
    }
   ],
   "source": [
    "pd.concat(\n",
    "    [\n",
    "        apple[['Adj Close', 'Volume']],\n",
    "        google[['Adj Close', 'Volume']]\n",
    "    ],\n",
    "    axis = 0\n",
    ")"
   ]
  },
  {
   "cell_type": "markdown",
   "metadata": {},
   "source": [
    ">### <font color = 'yellow'> POLARS </font>"
   ]
  },
  {
   "cell_type": "code",
   "execution_count": 26,
   "metadata": {},
   "outputs": [
    {
     "data": {
      "text/html": [
       "<div><style>\n",
       ".dataframe > thead > tr,\n",
       ".dataframe > tbody > tr {\n",
       "  text-align: right;\n",
       "  white-space: pre-wrap;\n",
       "}\n",
       "</style>\n",
       "<small>shape: (336, 3)</small><table border=\"1\" class=\"dataframe\"><thead><tr><th>Date</th><th>Adj Close</th><th>Volume</th></tr><tr><td>date</td><td>f64</td><td>i64</td></tr></thead><tbody><tr><td>2024-01-02</td><td>184.938217</td><td>82488700</td></tr><tr><td>2024-01-03</td><td>183.553467</td><td>58414500</td></tr><tr><td>2024-01-04</td><td>181.222336</td><td>71983600</td></tr><tr><td>2024-01-05</td><td>180.495071</td><td>62303300</td></tr><tr><td>2024-01-08</td><td>184.858521</td><td>59144500</td></tr><tr><td>&hellip;</td><td>&hellip;</td><td>&hellip;</td></tr><tr><td>2024-08-26</td><td>165.939804</td><td>14190400</td></tr><tr><td>2024-08-27</td><td>164.461761</td><td>11821900</td></tr><tr><td>2024-08-28</td><td>162.634201</td><td>16407400</td></tr><tr><td>2024-08-29</td><td>161.565613</td><td>19699800</td></tr><tr><td>2024-08-30</td><td>163.163498</td><td>22123800</td></tr></tbody></table></div>"
      ],
      "text/plain": [
       "shape: (336, 3)\n",
       "┌────────────┬────────────┬──────────┐\n",
       "│ Date       ┆ Adj Close  ┆ Volume   │\n",
       "│ ---        ┆ ---        ┆ ---      │\n",
       "│ date       ┆ f64        ┆ i64      │\n",
       "╞════════════╪════════════╪══════════╡\n",
       "│ 2024-01-02 ┆ 184.938217 ┆ 82488700 │\n",
       "│ 2024-01-03 ┆ 183.553467 ┆ 58414500 │\n",
       "│ 2024-01-04 ┆ 181.222336 ┆ 71983600 │\n",
       "│ 2024-01-05 ┆ 180.495071 ┆ 62303300 │\n",
       "│ 2024-01-08 ┆ 184.858521 ┆ 59144500 │\n",
       "│ …          ┆ …          ┆ …        │\n",
       "│ 2024-08-26 ┆ 165.939804 ┆ 14190400 │\n",
       "│ 2024-08-27 ┆ 164.461761 ┆ 11821900 │\n",
       "│ 2024-08-28 ┆ 162.634201 ┆ 16407400 │\n",
       "│ 2024-08-29 ┆ 161.565613 ┆ 19699800 │\n",
       "│ 2024-08-30 ┆ 163.163498 ┆ 22123800 │\n",
       "└────────────┴────────────┴──────────┘"
      ]
     },
     "execution_count": 26,
     "metadata": {},
     "output_type": "execute_result"
    }
   ],
   "source": [
    "pl.concat(\n",
    "    [\n",
    "        apple_pl.select(['Date', 'Adj Close', 'Volume']),\n",
    "        google_pl.select(['Date', 'Adj Close', 'Volume'])\n",
    "    ],\n",
    "    how = 'vertical'\n",
    ")"
   ]
  },
  {
   "cell_type": "markdown",
   "metadata": {},
   "source": [
    "> Let's see concatenation with DataFrame objects that do not have the same set of columns.\n",
    "\n",
    "> This will show pandas filling in NaN values."
   ]
  },
  {
   "cell_type": "code",
   "execution_count": 27,
   "metadata": {},
   "outputs": [
    {
     "data": {
      "text/html": [
       "<div>\n",
       "<style scoped>\n",
       "    .dataframe tbody tr th:only-of-type {\n",
       "        vertical-align: middle;\n",
       "    }\n",
       "\n",
       "    .dataframe tbody tr th {\n",
       "        vertical-align: top;\n",
       "    }\n",
       "\n",
       "    .dataframe thead th {\n",
       "        text-align: right;\n",
       "    }\n",
       "</style>\n",
       "<table border=\"1\" class=\"dataframe\">\n",
       "  <thead>\n",
       "    <tr style=\"text-align: right;\">\n",
       "      <th></th>\n",
       "      <th>Adj Close</th>\n",
       "      <th>Volume</th>\n",
       "    </tr>\n",
       "    <tr>\n",
       "      <th>Date</th>\n",
       "      <th></th>\n",
       "      <th></th>\n",
       "    </tr>\n",
       "  </thead>\n",
       "  <tbody>\n",
       "    <tr>\n",
       "      <th>2024-01-02</th>\n",
       "      <td>184.938217</td>\n",
       "      <td>82488700.0</td>\n",
       "    </tr>\n",
       "    <tr>\n",
       "      <th>2024-01-03</th>\n",
       "      <td>183.553467</td>\n",
       "      <td>58414500.0</td>\n",
       "    </tr>\n",
       "    <tr>\n",
       "      <th>2024-01-04</th>\n",
       "      <td>181.222336</td>\n",
       "      <td>71983600.0</td>\n",
       "    </tr>\n",
       "    <tr>\n",
       "      <th>2024-01-05</th>\n",
       "      <td>180.495071</td>\n",
       "      <td>62303300.0</td>\n",
       "    </tr>\n",
       "    <tr>\n",
       "      <th>2024-01-08</th>\n",
       "      <td>184.858521</td>\n",
       "      <td>59144500.0</td>\n",
       "    </tr>\n",
       "    <tr>\n",
       "      <th>...</th>\n",
       "      <td>...</td>\n",
       "      <td>...</td>\n",
       "    </tr>\n",
       "    <tr>\n",
       "      <th>2024-08-26</th>\n",
       "      <td>165.939804</td>\n",
       "      <td>NaN</td>\n",
       "    </tr>\n",
       "    <tr>\n",
       "      <th>2024-08-27</th>\n",
       "      <td>164.461761</td>\n",
       "      <td>NaN</td>\n",
       "    </tr>\n",
       "    <tr>\n",
       "      <th>2024-08-28</th>\n",
       "      <td>162.634201</td>\n",
       "      <td>NaN</td>\n",
       "    </tr>\n",
       "    <tr>\n",
       "      <th>2024-08-29</th>\n",
       "      <td>161.565613</td>\n",
       "      <td>NaN</td>\n",
       "    </tr>\n",
       "    <tr>\n",
       "      <th>2024-08-30</th>\n",
       "      <td>163.163498</td>\n",
       "      <td>NaN</td>\n",
       "    </tr>\n",
       "  </tbody>\n",
       "</table>\n",
       "<p>336 rows × 2 columns</p>\n",
       "</div>"
      ],
      "text/plain": [
       "             Adj Close      Volume\n",
       "Date                              \n",
       "2024-01-02  184.938217  82488700.0\n",
       "2024-01-03  183.553467  58414500.0\n",
       "2024-01-04  181.222336  71983600.0\n",
       "2024-01-05  180.495071  62303300.0\n",
       "2024-01-08  184.858521  59144500.0\n",
       "...                ...         ...\n",
       "2024-08-26  165.939804         NaN\n",
       "2024-08-27  164.461761         NaN\n",
       "2024-08-28  162.634201         NaN\n",
       "2024-08-29  161.565613         NaN\n",
       "2024-08-30  163.163498         NaN\n",
       "\n",
       "[336 rows x 2 columns]"
      ]
     },
     "execution_count": 27,
     "metadata": {},
     "output_type": "execute_result"
    }
   ],
   "source": [
    "pd.concat(\n",
    "    [\n",
    "        apple[['Adj Close', 'Volume']],\n",
    "        google[['Adj Close']]\n",
    "    ],\n",
    "    axis = 0\n",
    ")"
   ]
  },
  {
   "cell_type": "markdown",
   "metadata": {},
   "source": [
    ">### <font color = 'yellow'> POLARS </font>"
   ]
  },
  {
   "cell_type": "code",
   "execution_count": 28,
   "metadata": {},
   "outputs": [
    {
     "data": {
      "text/html": [
       "<div><style>\n",
       ".dataframe > thead > tr,\n",
       ".dataframe > tbody > tr {\n",
       "  text-align: right;\n",
       "  white-space: pre-wrap;\n",
       "}\n",
       "</style>\n",
       "<small>shape: (336, 3)</small><table border=\"1\" class=\"dataframe\"><thead><tr><th>Date</th><th>Adj Close</th><th>Volume</th></tr><tr><td>date</td><td>f64</td><td>i64</td></tr></thead><tbody><tr><td>2024-01-02</td><td>184.938217</td><td>82488700</td></tr><tr><td>2024-01-03</td><td>183.553467</td><td>58414500</td></tr><tr><td>2024-01-04</td><td>181.222336</td><td>71983600</td></tr><tr><td>2024-01-05</td><td>180.495071</td><td>62303300</td></tr><tr><td>2024-01-08</td><td>184.858521</td><td>59144500</td></tr><tr><td>&hellip;</td><td>&hellip;</td><td>&hellip;</td></tr><tr><td>2024-08-26</td><td>165.939804</td><td>null</td></tr><tr><td>2024-08-27</td><td>164.461761</td><td>null</td></tr><tr><td>2024-08-28</td><td>162.634201</td><td>null</td></tr><tr><td>2024-08-29</td><td>161.565613</td><td>null</td></tr><tr><td>2024-08-30</td><td>163.163498</td><td>null</td></tr></tbody></table></div>"
      ],
      "text/plain": [
       "shape: (336, 3)\n",
       "┌────────────┬────────────┬──────────┐\n",
       "│ Date       ┆ Adj Close  ┆ Volume   │\n",
       "│ ---        ┆ ---        ┆ ---      │\n",
       "│ date       ┆ f64        ┆ i64      │\n",
       "╞════════════╪════════════╪══════════╡\n",
       "│ 2024-01-02 ┆ 184.938217 ┆ 82488700 │\n",
       "│ 2024-01-03 ┆ 183.553467 ┆ 58414500 │\n",
       "│ 2024-01-04 ┆ 181.222336 ┆ 71983600 │\n",
       "│ 2024-01-05 ┆ 180.495071 ┆ 62303300 │\n",
       "│ 2024-01-08 ┆ 184.858521 ┆ 59144500 │\n",
       "│ …          ┆ …          ┆ …        │\n",
       "│ 2024-08-26 ┆ 165.939804 ┆ null     │\n",
       "│ 2024-08-27 ┆ 164.461761 ┆ null     │\n",
       "│ 2024-08-28 ┆ 162.634201 ┆ null     │\n",
       "│ 2024-08-29 ┆ 161.565613 ┆ null     │\n",
       "│ 2024-08-30 ┆ 163.163498 ┆ null     │\n",
       "└────────────┴────────────┴──────────┘"
      ]
     },
     "execution_count": 28,
     "metadata": {},
     "output_type": "execute_result"
    }
   ],
   "source": [
    "pl.concat(\n",
    "    [\n",
    "        apple_pl.select(['Date', 'Adj Close', 'Volume']),\n",
    "        google_pl.select(['Date', 'Adj Close'])\n",
    "    ],\n",
    "    how = 'diagonal'\n",
    ")"
   ]
  },
  {
   "cell_type": "markdown",
   "metadata": {},
   "source": [
    "### Question 2-1. Please perform an inner join on the DataFrame's since `google_a` does not have a Volume column, pandas will not include that column in the result."
   ]
  },
  {
   "cell_type": "code",
   "execution_count": 29,
   "metadata": {},
   "outputs": [
    {
     "data": {
      "text/html": [
       "<div>\n",
       "<style scoped>\n",
       "    .dataframe tbody tr th:only-of-type {\n",
       "        vertical-align: middle;\n",
       "    }\n",
       "\n",
       "    .dataframe tbody tr th {\n",
       "        vertical-align: top;\n",
       "    }\n",
       "\n",
       "    .dataframe thead th {\n",
       "        text-align: right;\n",
       "    }\n",
       "</style>\n",
       "<table border=\"1\" class=\"dataframe\">\n",
       "  <thead>\n",
       "    <tr style=\"text-align: right;\">\n",
       "      <th></th>\n",
       "      <th>Adj Close</th>\n",
       "    </tr>\n",
       "    <tr>\n",
       "      <th>Date</th>\n",
       "      <th></th>\n",
       "    </tr>\n",
       "  </thead>\n",
       "  <tbody>\n",
       "    <tr>\n",
       "      <th>2024-01-02</th>\n",
       "      <td>184.938217</td>\n",
       "    </tr>\n",
       "    <tr>\n",
       "      <th>2024-01-03</th>\n",
       "      <td>183.553467</td>\n",
       "    </tr>\n",
       "    <tr>\n",
       "      <th>2024-01-04</th>\n",
       "      <td>181.222336</td>\n",
       "    </tr>\n",
       "    <tr>\n",
       "      <th>2024-01-05</th>\n",
       "      <td>180.495071</td>\n",
       "    </tr>\n",
       "    <tr>\n",
       "      <th>2024-01-08</th>\n",
       "      <td>184.858521</td>\n",
       "    </tr>\n",
       "    <tr>\n",
       "      <th>...</th>\n",
       "      <td>...</td>\n",
       "    </tr>\n",
       "    <tr>\n",
       "      <th>2024-08-26</th>\n",
       "      <td>165.939804</td>\n",
       "    </tr>\n",
       "    <tr>\n",
       "      <th>2024-08-27</th>\n",
       "      <td>164.461761</td>\n",
       "    </tr>\n",
       "    <tr>\n",
       "      <th>2024-08-28</th>\n",
       "      <td>162.634201</td>\n",
       "    </tr>\n",
       "    <tr>\n",
       "      <th>2024-08-29</th>\n",
       "      <td>161.565613</td>\n",
       "    </tr>\n",
       "    <tr>\n",
       "      <th>2024-08-30</th>\n",
       "      <td>163.163498</td>\n",
       "    </tr>\n",
       "  </tbody>\n",
       "</table>\n",
       "<p>336 rows × 1 columns</p>\n",
       "</div>"
      ],
      "text/plain": [
       "             Adj Close\n",
       "Date                  \n",
       "2024-01-02  184.938217\n",
       "2024-01-03  183.553467\n",
       "2024-01-04  181.222336\n",
       "2024-01-05  180.495071\n",
       "2024-01-08  184.858521\n",
       "...                ...\n",
       "2024-08-26  165.939804\n",
       "2024-08-27  164.461761\n",
       "2024-08-28  162.634201\n",
       "2024-08-29  161.565613\n",
       "2024-08-30  163.163498\n",
       "\n",
       "[336 rows x 1 columns]"
      ]
     },
     "execution_count": 29,
     "metadata": {},
     "output_type": "execute_result"
    }
   ],
   "source": [
    "pd.concat(\n",
    "    [\n",
    "        apple[['Adj Close', 'Volume']],\n",
    "        google[['Adj Close']]\n",
    "    ],\n",
    "    join = 'inner'\n",
    ")"
   ]
  },
  {
   "cell_type": "markdown",
   "metadata": {},
   "source": [
    "#### Question 2-2. Then, please concatenate along the rows, causing duplicate columns to be created in the result."
   ]
  },
  {
   "cell_type": "code",
   "execution_count": 30,
   "metadata": {},
   "outputs": [
    {
     "data": {
      "text/html": [
       "<div>\n",
       "<style scoped>\n",
       "    .dataframe tbody tr th:only-of-type {\n",
       "        vertical-align: middle;\n",
       "    }\n",
       "\n",
       "    .dataframe tbody tr th {\n",
       "        vertical-align: top;\n",
       "    }\n",
       "\n",
       "    .dataframe thead th {\n",
       "        text-align: right;\n",
       "    }\n",
       "</style>\n",
       "<table border=\"1\" class=\"dataframe\">\n",
       "  <thead>\n",
       "    <tr style=\"text-align: right;\">\n",
       "      <th></th>\n",
       "      <th>Adj Close</th>\n",
       "      <th>Adj Close</th>\n",
       "    </tr>\n",
       "    <tr>\n",
       "      <th>Date</th>\n",
       "      <th></th>\n",
       "      <th></th>\n",
       "    </tr>\n",
       "  </thead>\n",
       "  <tbody>\n",
       "    <tr>\n",
       "      <th>2024-01-02</th>\n",
       "      <td>184.938217</td>\n",
       "      <td>137.828705</td>\n",
       "    </tr>\n",
       "    <tr>\n",
       "      <th>2024-01-03</th>\n",
       "      <td>183.553467</td>\n",
       "      <td>138.576859</td>\n",
       "    </tr>\n",
       "    <tr>\n",
       "      <th>2024-01-04</th>\n",
       "      <td>181.222336</td>\n",
       "      <td>136.053101</td>\n",
       "    </tr>\n",
       "    <tr>\n",
       "      <th>2024-01-05</th>\n",
       "      <td>180.495071</td>\n",
       "      <td>135.394745</td>\n",
       "    </tr>\n",
       "    <tr>\n",
       "      <th>2024-01-08</th>\n",
       "      <td>184.858521</td>\n",
       "      <td>138.497055</td>\n",
       "    </tr>\n",
       "    <tr>\n",
       "      <th>...</th>\n",
       "      <td>...</td>\n",
       "      <td>...</td>\n",
       "    </tr>\n",
       "    <tr>\n",
       "      <th>2024-08-26</th>\n",
       "      <td>227.179993</td>\n",
       "      <td>165.939804</td>\n",
       "    </tr>\n",
       "    <tr>\n",
       "      <th>2024-08-27</th>\n",
       "      <td>228.029999</td>\n",
       "      <td>164.461761</td>\n",
       "    </tr>\n",
       "    <tr>\n",
       "      <th>2024-08-28</th>\n",
       "      <td>226.490005</td>\n",
       "      <td>162.634201</td>\n",
       "    </tr>\n",
       "    <tr>\n",
       "      <th>2024-08-29</th>\n",
       "      <td>229.789993</td>\n",
       "      <td>161.565613</td>\n",
       "    </tr>\n",
       "    <tr>\n",
       "      <th>2024-08-30</th>\n",
       "      <td>229.000000</td>\n",
       "      <td>163.163498</td>\n",
       "    </tr>\n",
       "  </tbody>\n",
       "</table>\n",
       "<p>168 rows × 2 columns</p>\n",
       "</div>"
      ],
      "text/plain": [
       "             Adj Close   Adj Close\n",
       "Date                              \n",
       "2024-01-02  184.938217  137.828705\n",
       "2024-01-03  183.553467  138.576859\n",
       "2024-01-04  181.222336  136.053101\n",
       "2024-01-05  180.495071  135.394745\n",
       "2024-01-08  184.858521  138.497055\n",
       "...                ...         ...\n",
       "2024-08-26  227.179993  165.939804\n",
       "2024-08-27  228.029999  164.461761\n",
       "2024-08-28  226.490005  162.634201\n",
       "2024-08-29  229.789993  161.565613\n",
       "2024-08-30  229.000000  163.163498\n",
       "\n",
       "[168 rows x 2 columns]"
      ]
     },
     "execution_count": 30,
     "metadata": {},
     "output_type": "execute_result"
    }
   ],
   "source": [
    "pd.concat(\n",
    "    [\n",
    "        apple[['Adj Close']],\n",
    "        google[['Adj Close']]\n",
    "    ],\n",
    "    axis = 1\n",
    ")"
   ]
  },
  {
   "cell_type": "markdown",
   "metadata": {},
   "source": [
    ">### <font color = 'yellow'> POLARS </font>\n",
    "> polars does not allow duplicate columns names"
   ]
  },
  {
   "cell_type": "code",
   "execution_count": 31,
   "metadata": {},
   "outputs": [
    {
     "ename": "DuplicateError",
     "evalue": "unable to hstack, column with name \"Adj Close\" already exists",
     "output_type": "error",
     "traceback": [
      "\u001b[1;31m---------------------------------------------------------------------------\u001b[0m",
      "\u001b[1;31mDuplicateError\u001b[0m                            Traceback (most recent call last)",
      "Cell \u001b[1;32mIn[31], line 1\u001b[0m\n\u001b[1;32m----> 1\u001b[0m \u001b[43mpl\u001b[49m\u001b[38;5;241;43m.\u001b[39;49m\u001b[43mconcat\u001b[49m\u001b[43m(\u001b[49m\n\u001b[0;32m      2\u001b[0m \u001b[43m    \u001b[49m\u001b[43m[\u001b[49m\n\u001b[0;32m      3\u001b[0m \u001b[43m        \u001b[49m\u001b[43mapple_pl\u001b[49m\u001b[38;5;241;43m.\u001b[39;49m\u001b[43mselect\u001b[49m\u001b[43m(\u001b[49m\u001b[43m[\u001b[49m\u001b[38;5;124;43m'\u001b[39;49m\u001b[38;5;124;43mAdj Close\u001b[39;49m\u001b[38;5;124;43m'\u001b[39;49m\u001b[43m]\u001b[49m\u001b[43m)\u001b[49m\u001b[43m,\u001b[49m\n\u001b[0;32m      4\u001b[0m \u001b[43m        \u001b[49m\u001b[43mgoogle_pl\u001b[49m\u001b[38;5;241;43m.\u001b[39;49m\u001b[43mselect\u001b[49m\u001b[43m(\u001b[49m\u001b[43m[\u001b[49m\u001b[38;5;124;43m'\u001b[39;49m\u001b[38;5;124;43mAdj Close\u001b[39;49m\u001b[38;5;124;43m'\u001b[39;49m\u001b[43m]\u001b[49m\u001b[43m)\u001b[49m\n\u001b[0;32m      5\u001b[0m \u001b[43m    \u001b[49m\u001b[43m]\u001b[49m\u001b[43m,\u001b[49m\n\u001b[0;32m      6\u001b[0m \u001b[43m    \u001b[49m\u001b[43mhow\u001b[49m\u001b[43m \u001b[49m\u001b[38;5;241;43m=\u001b[39;49m\u001b[43m \u001b[49m\u001b[38;5;124;43m'\u001b[39;49m\u001b[38;5;124;43mhorizontal\u001b[39;49m\u001b[38;5;124;43m'\u001b[39;49m\n\u001b[0;32m      7\u001b[0m \u001b[43m)\u001b[49m\n",
      "File \u001b[1;32mc:\\Users\\Edmund\\AppData\\Local\\Programs\\Python\\Python39\\lib\\site-packages\\polars\\functions\\eager.py:207\u001b[0m, in \u001b[0;36mconcat\u001b[1;34m(items, how, rechunk, parallel)\u001b[0m\n\u001b[0;32m    198\u001b[0m     out \u001b[38;5;241m=\u001b[39m wrap_ldf(\n\u001b[0;32m    199\u001b[0m         plr\u001b[38;5;241m.\u001b[39mconcat_lf_diagonal(\n\u001b[0;32m    200\u001b[0m             [df\u001b[38;5;241m.\u001b[39mlazy() \u001b[38;5;28;01mfor\u001b[39;00m df \u001b[38;5;129;01min\u001b[39;00m elems],\n\u001b[1;32m   (...)\u001b[0m\n\u001b[0;32m    204\u001b[0m         )\n\u001b[0;32m    205\u001b[0m     )\u001b[38;5;241m.\u001b[39mcollect(no_optimization\u001b[38;5;241m=\u001b[39m\u001b[38;5;28;01mTrue\u001b[39;00m)\n\u001b[0;32m    206\u001b[0m \u001b[38;5;28;01melif\u001b[39;00m how \u001b[38;5;241m==\u001b[39m \u001b[38;5;124m\"\u001b[39m\u001b[38;5;124mhorizontal\u001b[39m\u001b[38;5;124m\"\u001b[39m:\n\u001b[1;32m--> 207\u001b[0m     out \u001b[38;5;241m=\u001b[39m wrap_df(\u001b[43mplr\u001b[49m\u001b[38;5;241;43m.\u001b[39;49m\u001b[43mconcat_df_horizontal\u001b[49m\u001b[43m(\u001b[49m\u001b[43melems\u001b[49m\u001b[43m)\u001b[49m)\n\u001b[0;32m    208\u001b[0m \u001b[38;5;28;01melse\u001b[39;00m:\n\u001b[0;32m    209\u001b[0m     allowed \u001b[38;5;241m=\u001b[39m \u001b[38;5;124m\"\u001b[39m\u001b[38;5;124m, \u001b[39m\u001b[38;5;124m\"\u001b[39m\u001b[38;5;241m.\u001b[39mjoin(\u001b[38;5;28mrepr\u001b[39m(m) \u001b[38;5;28;01mfor\u001b[39;00m m \u001b[38;5;129;01min\u001b[39;00m get_args(ConcatMethod))\n",
      "\u001b[1;31mDuplicateError\u001b[0m: unable to hstack, column with name \"Adj Close\" already exists"
     ]
    }
   ],
   "source": [
    "pl.concat(\n",
    "    [\n",
    "        apple_pl.select(['Adj Close']),\n",
    "        google_pl.select(['Adj Close'])\n",
    "    ],\n",
    "    how = 'horizontal'\n",
    ")"
   ]
  },
  {
   "cell_type": "markdown",
   "metadata": {},
   "source": [
    "#### Question 2-3. Let's concat along rows using two DataFrame objects with different number of rows. \n",
    "\n",
    "#### This demonstrates how NaN values will be filled in those rows for `apple` which only has three rows as compared to 5 for `google`"
   ]
  },
  {
   "cell_type": "code",
   "execution_count": 32,
   "metadata": {},
   "outputs": [
    {
     "data": {
      "text/html": [
       "<div>\n",
       "<style scoped>\n",
       "    .dataframe tbody tr th:only-of-type {\n",
       "        vertical-align: middle;\n",
       "    }\n",
       "\n",
       "    .dataframe tbody tr th {\n",
       "        vertical-align: top;\n",
       "    }\n",
       "\n",
       "    .dataframe thead tr th {\n",
       "        text-align: left;\n",
       "    }\n",
       "\n",
       "    .dataframe thead tr:last-of-type th {\n",
       "        text-align: right;\n",
       "    }\n",
       "</style>\n",
       "<table border=\"1\" class=\"dataframe\">\n",
       "  <thead>\n",
       "    <tr>\n",
       "      <th></th>\n",
       "      <th colspan=\"2\" halign=\"left\">AAPL</th>\n",
       "      <th colspan=\"2\" halign=\"left\">GOOGL</th>\n",
       "    </tr>\n",
       "    <tr>\n",
       "      <th></th>\n",
       "      <th>Adj Close</th>\n",
       "      <th>Volume</th>\n",
       "      <th>Adj Close</th>\n",
       "      <th>Volume</th>\n",
       "    </tr>\n",
       "    <tr>\n",
       "      <th>Date</th>\n",
       "      <th></th>\n",
       "      <th></th>\n",
       "      <th></th>\n",
       "      <th></th>\n",
       "    </tr>\n",
       "  </thead>\n",
       "  <tbody>\n",
       "    <tr>\n",
       "      <th>2024-01-02</th>\n",
       "      <td>184.938217</td>\n",
       "      <td>82488700</td>\n",
       "      <td>137.828705</td>\n",
       "      <td>23711200.0</td>\n",
       "    </tr>\n",
       "    <tr>\n",
       "      <th>2024-01-03</th>\n",
       "      <td>183.553467</td>\n",
       "      <td>58414500</td>\n",
       "      <td>138.576859</td>\n",
       "      <td>24212100.0</td>\n",
       "    </tr>\n",
       "    <tr>\n",
       "      <th>2024-01-04</th>\n",
       "      <td>181.222336</td>\n",
       "      <td>71983600</td>\n",
       "      <td>136.053101</td>\n",
       "      <td>27137700.0</td>\n",
       "    </tr>\n",
       "    <tr>\n",
       "      <th>2024-01-05</th>\n",
       "      <td>180.495071</td>\n",
       "      <td>62303300</td>\n",
       "      <td>NaN</td>\n",
       "      <td>NaN</td>\n",
       "    </tr>\n",
       "    <tr>\n",
       "      <th>2024-01-08</th>\n",
       "      <td>184.858521</td>\n",
       "      <td>59144500</td>\n",
       "      <td>NaN</td>\n",
       "      <td>NaN</td>\n",
       "    </tr>\n",
       "  </tbody>\n",
       "</table>\n",
       "</div>"
      ],
      "text/plain": [
       "                  AAPL                 GOOGL            \n",
       "             Adj Close    Volume   Adj Close      Volume\n",
       "Date                                                    \n",
       "2024-01-02  184.938217  82488700  137.828705  23711200.0\n",
       "2024-01-03  183.553467  58414500  138.576859  24212100.0\n",
       "2024-01-04  181.222336  71983600  136.053101  27137700.0\n",
       "2024-01-05  180.495071  62303300         NaN         NaN\n",
       "2024-01-08  184.858521  59144500         NaN         NaN"
      ]
     },
     "execution_count": 32,
     "metadata": {},
     "output_type": "execute_result"
    }
   ],
   "source": [
    "columns: pd.MultiIndex = (\n",
    "    pd.MultiIndex\n",
    "    .from_tuples(\n",
    "        [\n",
    "            ('AAPL', 'Adj Close'),\n",
    "            ('AAPL', 'Volume'),\n",
    "            ('GOOGL', 'Adj Close'),\n",
    "            ('GOOGL', 'Volume'),\n",
    "        ]\n",
    "    )\n",
    ")\n",
    "\n",
    "diff_rows_pd_CONCAT: pd.DataFrame = (\n",
    "    pd.concat(\n",
    "        [\n",
    "            apple[['Adj Close', 'Volume']].head(5),\n",
    "            google[['Adj Close', 'Volume']].head(3)\n",
    "        ],\n",
    "        axis = 1\n",
    "    )\n",
    ")\n",
    "\n",
    "diff_rows_pd_CONCAT.columns = columns\n",
    "\n",
    "diff_rows_pd_CONCAT"
   ]
  },
  {
   "cell_type": "markdown",
   "metadata": {},
   "source": [
    "#### Question 2-4. You know that `inner join` can also be used `along this axis`. \n",
    "\n",
    "#### Please include rows with index labels that do not exist in both DataFrame objects"
   ]
  },
  {
   "cell_type": "code",
   "execution_count": 33,
   "metadata": {},
   "outputs": [
    {
     "data": {
      "text/html": [
       "<div>\n",
       "<style scoped>\n",
       "    .dataframe tbody tr th:only-of-type {\n",
       "        vertical-align: middle;\n",
       "    }\n",
       "\n",
       "    .dataframe tbody tr th {\n",
       "        vertical-align: top;\n",
       "    }\n",
       "\n",
       "    .dataframe thead tr th {\n",
       "        text-align: left;\n",
       "    }\n",
       "\n",
       "    .dataframe thead tr:last-of-type th {\n",
       "        text-align: right;\n",
       "    }\n",
       "</style>\n",
       "<table border=\"1\" class=\"dataframe\">\n",
       "  <thead>\n",
       "    <tr>\n",
       "      <th></th>\n",
       "      <th colspan=\"2\" halign=\"left\">AAPL</th>\n",
       "      <th colspan=\"2\" halign=\"left\">GOOGL</th>\n",
       "    </tr>\n",
       "    <tr>\n",
       "      <th></th>\n",
       "      <th>Adj Close</th>\n",
       "      <th>Volume</th>\n",
       "      <th>Adj Close</th>\n",
       "      <th>Volume</th>\n",
       "    </tr>\n",
       "    <tr>\n",
       "      <th>Date</th>\n",
       "      <th></th>\n",
       "      <th></th>\n",
       "      <th></th>\n",
       "      <th></th>\n",
       "    </tr>\n",
       "  </thead>\n",
       "  <tbody>\n",
       "    <tr>\n",
       "      <th>2024-01-02</th>\n",
       "      <td>184.938217</td>\n",
       "      <td>82488700</td>\n",
       "      <td>137.828705</td>\n",
       "      <td>23711200</td>\n",
       "    </tr>\n",
       "    <tr>\n",
       "      <th>2024-01-03</th>\n",
       "      <td>183.553467</td>\n",
       "      <td>58414500</td>\n",
       "      <td>138.576859</td>\n",
       "      <td>24212100</td>\n",
       "    </tr>\n",
       "    <tr>\n",
       "      <th>2024-01-04</th>\n",
       "      <td>181.222336</td>\n",
       "      <td>71983600</td>\n",
       "      <td>136.053101</td>\n",
       "      <td>27137700</td>\n",
       "    </tr>\n",
       "  </tbody>\n",
       "</table>\n",
       "</div>"
      ],
      "text/plain": [
       "                  AAPL                 GOOGL          \n",
       "             Adj Close    Volume   Adj Close    Volume\n",
       "Date                                                  \n",
       "2024-01-02  184.938217  82488700  137.828705  23711200\n",
       "2024-01-03  183.553467  58414500  138.576859  24212100\n",
       "2024-01-04  181.222336  71983600  136.053101  27137700"
      ]
     },
     "execution_count": 33,
     "metadata": {},
     "output_type": "execute_result"
    }
   ],
   "source": [
    "apple_columns_MERGE: pd.MultiIndex = (\n",
    "    pd.MultiIndex\n",
    "    .from_tuples(\n",
    "        [\n",
    "            ('AAPL', 'Adj Close'),\n",
    "            ('AAPL', 'Volume')\n",
    "        ]\n",
    "    )\n",
    ")\n",
    "\n",
    "apple_MERGE: pd.DataFrame = (\n",
    "    apple\n",
    "    [['Adj Close', 'Volume']]\n",
    "    .head(5)\n",
    "    .copy()\n",
    ")\n",
    "apple_MERGE.columns = apple_columns_MERGE\n",
    "\n",
    "google_columns_MERGE: pd.MultiIndex = (\n",
    "    pd.MultiIndex\n",
    "    .from_tuples(\n",
    "        [\n",
    "            ('GOOGL', 'Adj Close'),\n",
    "            ('GOOGL', 'Volume'),\n",
    "        ]\n",
    "    )\n",
    ")\n",
    "\n",
    "google_MERGE: pd.DataFrame = (\n",
    "    google\n",
    "    [['Adj Close', 'Volume']]\n",
    "    .head(3)\n",
    "    .copy()\n",
    ")\n",
    "google_MERGE.columns = google_columns_MERGE\n",
    "\n",
    "diff_rows_pd_MERGE: pd.DataFrame = (\n",
    "    apple_MERGE\n",
    "    .merge(\n",
    "            google_MERGE,\n",
    "            how = 'inner',\n",
    "            left_index = True,\n",
    "            right_index = True\n",
    "        )\n",
    "    )\n",
    "\n",
    "diff_rows_pd_MERGE"
   ]
  },
  {
   "cell_type": "markdown",
   "metadata": {},
   "source": [
    "#### Question 2-5. Please ignore indexes and just concatenate the data and have the result have a default integer index"
   ]
  },
  {
   "cell_type": "code",
   "execution_count": 34,
   "metadata": {},
   "outputs": [
    {
     "data": {
      "text/html": [
       "<div>\n",
       "<style scoped>\n",
       "    .dataframe tbody tr th:only-of-type {\n",
       "        vertical-align: middle;\n",
       "    }\n",
       "\n",
       "    .dataframe tbody tr th {\n",
       "        vertical-align: top;\n",
       "    }\n",
       "\n",
       "    .dataframe thead th {\n",
       "        text-align: right;\n",
       "    }\n",
       "</style>\n",
       "<table border=\"1\" class=\"dataframe\">\n",
       "  <thead>\n",
       "    <tr style=\"text-align: right;\">\n",
       "      <th></th>\n",
       "      <th>Adj Close</th>\n",
       "    </tr>\n",
       "  </thead>\n",
       "  <tbody>\n",
       "    <tr>\n",
       "      <th>0</th>\n",
       "      <td>184.938217</td>\n",
       "    </tr>\n",
       "    <tr>\n",
       "      <th>1</th>\n",
       "      <td>183.553467</td>\n",
       "    </tr>\n",
       "    <tr>\n",
       "      <th>2</th>\n",
       "      <td>181.222336</td>\n",
       "    </tr>\n",
       "    <tr>\n",
       "      <th>3</th>\n",
       "      <td>137.828705</td>\n",
       "    </tr>\n",
       "    <tr>\n",
       "      <th>4</th>\n",
       "      <td>138.576859</td>\n",
       "    </tr>\n",
       "    <tr>\n",
       "      <th>5</th>\n",
       "      <td>136.053101</td>\n",
       "    </tr>\n",
       "  </tbody>\n",
       "</table>\n",
       "</div>"
      ],
      "text/plain": [
       "    Adj Close\n",
       "0  184.938217\n",
       "1  183.553467\n",
       "2  181.222336\n",
       "3  137.828705\n",
       "4  138.576859\n",
       "5  136.053101"
      ]
     },
     "execution_count": 34,
     "metadata": {},
     "output_type": "execute_result"
    }
   ],
   "source": [
    "pd.concat(\n",
    "    [\n",
    "        apple[['Adj Close']].head(3),\n",
    "        google[['Adj Close']].head(3)\n",
    "    ],\n",
    "    axis = 0,\n",
    "    ignore_index = True\n",
    ")"
   ]
  },
  {
   "cell_type": "markdown",
   "metadata": {},
   "source": [
    ">### <font color = 'yellow'> POLARS </font>"
   ]
  },
  {
   "cell_type": "code",
   "execution_count": 35,
   "metadata": {},
   "outputs": [
    {
     "data": {
      "text/html": [
       "<div><style>\n",
       ".dataframe > thead > tr,\n",
       ".dataframe > tbody > tr {\n",
       "  text-align: right;\n",
       "  white-space: pre-wrap;\n",
       "}\n",
       "</style>\n",
       "<small>shape: (6, 1)</small><table border=\"1\" class=\"dataframe\"><thead><tr><th>Adj Close</th></tr><tr><td>f64</td></tr></thead><tbody><tr><td>184.938217</td></tr><tr><td>183.553467</td></tr><tr><td>181.222336</td></tr><tr><td>137.828705</td></tr><tr><td>138.576859</td></tr><tr><td>136.053101</td></tr></tbody></table></div>"
      ],
      "text/plain": [
       "shape: (6, 1)\n",
       "┌────────────┐\n",
       "│ Adj Close  │\n",
       "│ ---        │\n",
       "│ f64        │\n",
       "╞════════════╡\n",
       "│ 184.938217 │\n",
       "│ 183.553467 │\n",
       "│ 181.222336 │\n",
       "│ 137.828705 │\n",
       "│ 138.576859 │\n",
       "│ 136.053101 │\n",
       "└────────────┘"
      ]
     },
     "execution_count": 35,
     "metadata": {},
     "output_type": "execute_result"
    }
   ],
   "source": [
    "pl.concat(\n",
    "    [\n",
    "        apple_pl[['Adj Close']].head(3),\n",
    "        google_pl[['Adj Close']].head(3)\n",
    "    ],\n",
    "    how = 'vertical'\n",
    ")"
   ]
  },
  {
   "cell_type": "markdown",
   "metadata": {},
   "source": [
    "### `Now let's merging DataFrame objects`"
   ]
  },
  {
   "cell_type": "code",
   "execution_count": 36,
   "metadata": {},
   "outputs": [
    {
     "data": {
      "text/html": [
       "<div>\n",
       "<style scoped>\n",
       "    .dataframe tbody tr th:only-of-type {\n",
       "        vertical-align: middle;\n",
       "    }\n",
       "\n",
       "    .dataframe tbody tr th {\n",
       "        vertical-align: top;\n",
       "    }\n",
       "\n",
       "    .dataframe thead th {\n",
       "        text-align: right;\n",
       "    }\n",
       "</style>\n",
       "<table border=\"1\" class=\"dataframe\">\n",
       "  <thead>\n",
       "    <tr style=\"text-align: right;\">\n",
       "      <th></th>\n",
       "      <th>Date</th>\n",
       "      <th>Adj Close</th>\n",
       "    </tr>\n",
       "  </thead>\n",
       "  <tbody>\n",
       "    <tr>\n",
       "      <th>0</th>\n",
       "      <td>2024-01-02</td>\n",
       "      <td>184.938217</td>\n",
       "    </tr>\n",
       "    <tr>\n",
       "      <th>1</th>\n",
       "      <td>2024-01-03</td>\n",
       "      <td>183.553467</td>\n",
       "    </tr>\n",
       "    <tr>\n",
       "      <th>2</th>\n",
       "      <td>2024-01-04</td>\n",
       "      <td>181.222336</td>\n",
       "    </tr>\n",
       "    <tr>\n",
       "      <th>3</th>\n",
       "      <td>2024-01-05</td>\n",
       "      <td>180.495071</td>\n",
       "    </tr>\n",
       "    <tr>\n",
       "      <th>4</th>\n",
       "      <td>2024-01-08</td>\n",
       "      <td>184.858521</td>\n",
       "    </tr>\n",
       "    <tr>\n",
       "      <th>...</th>\n",
       "      <td>...</td>\n",
       "      <td>...</td>\n",
       "    </tr>\n",
       "    <tr>\n",
       "      <th>163</th>\n",
       "      <td>2024-08-26</td>\n",
       "      <td>227.179993</td>\n",
       "    </tr>\n",
       "    <tr>\n",
       "      <th>164</th>\n",
       "      <td>2024-08-27</td>\n",
       "      <td>228.029999</td>\n",
       "    </tr>\n",
       "    <tr>\n",
       "      <th>165</th>\n",
       "      <td>2024-08-28</td>\n",
       "      <td>226.490005</td>\n",
       "    </tr>\n",
       "    <tr>\n",
       "      <th>166</th>\n",
       "      <td>2024-08-29</td>\n",
       "      <td>229.789993</td>\n",
       "    </tr>\n",
       "    <tr>\n",
       "      <th>167</th>\n",
       "      <td>2024-08-30</td>\n",
       "      <td>229.000000</td>\n",
       "    </tr>\n",
       "  </tbody>\n",
       "</table>\n",
       "<p>168 rows × 2 columns</p>\n",
       "</div>"
      ],
      "text/plain": [
       "          Date   Adj Close\n",
       "0   2024-01-02  184.938217\n",
       "1   2024-01-03  183.553467\n",
       "2   2024-01-04  181.222336\n",
       "3   2024-01-05  180.495071\n",
       "4   2024-01-08  184.858521\n",
       "..         ...         ...\n",
       "163 2024-08-26  227.179993\n",
       "164 2024-08-27  228.029999\n",
       "165 2024-08-28  226.490005\n",
       "166 2024-08-29  229.789993\n",
       "167 2024-08-30  229.000000\n",
       "\n",
       "[168 rows x 2 columns]"
      ]
     },
     "execution_count": 36,
     "metadata": {},
     "output_type": "execute_result"
    }
   ],
   "source": [
    "apple_price: pd.DataFrame = (\n",
    "    apple\n",
    "    [['Adj Close']]\n",
    "    .reset_index()\n",
    ")\n",
    "\n",
    "apple_price"
   ]
  },
  {
   "cell_type": "markdown",
   "metadata": {},
   "source": [
    ">### <font color = 'yellow'> POLARS </font>"
   ]
  },
  {
   "cell_type": "code",
   "execution_count": 37,
   "metadata": {},
   "outputs": [
    {
     "data": {
      "text/html": [
       "<div><style>\n",
       ".dataframe > thead > tr,\n",
       ".dataframe > tbody > tr {\n",
       "  text-align: right;\n",
       "  white-space: pre-wrap;\n",
       "}\n",
       "</style>\n",
       "<small>shape: (168, 2)</small><table border=\"1\" class=\"dataframe\"><thead><tr><th>Date</th><th>Adj Close</th></tr><tr><td>date</td><td>f64</td></tr></thead><tbody><tr><td>2024-01-02</td><td>184.938217</td></tr><tr><td>2024-01-03</td><td>183.553467</td></tr><tr><td>2024-01-04</td><td>181.222336</td></tr><tr><td>2024-01-05</td><td>180.495071</td></tr><tr><td>2024-01-08</td><td>184.858521</td></tr><tr><td>&hellip;</td><td>&hellip;</td></tr><tr><td>2024-08-26</td><td>227.179993</td></tr><tr><td>2024-08-27</td><td>228.029999</td></tr><tr><td>2024-08-28</td><td>226.490005</td></tr><tr><td>2024-08-29</td><td>229.789993</td></tr><tr><td>2024-08-30</td><td>229.0</td></tr></tbody></table></div>"
      ],
      "text/plain": [
       "shape: (168, 2)\n",
       "┌────────────┬────────────┐\n",
       "│ Date       ┆ Adj Close  │\n",
       "│ ---        ┆ ---        │\n",
       "│ date       ┆ f64        │\n",
       "╞════════════╪════════════╡\n",
       "│ 2024-01-02 ┆ 184.938217 │\n",
       "│ 2024-01-03 ┆ 183.553467 │\n",
       "│ 2024-01-04 ┆ 181.222336 │\n",
       "│ 2024-01-05 ┆ 180.495071 │\n",
       "│ 2024-01-08 ┆ 184.858521 │\n",
       "│ …          ┆ …          │\n",
       "│ 2024-08-26 ┆ 227.179993 │\n",
       "│ 2024-08-27 ┆ 228.029999 │\n",
       "│ 2024-08-28 ┆ 226.490005 │\n",
       "│ 2024-08-29 ┆ 229.789993 │\n",
       "│ 2024-08-30 ┆ 229.0      │\n",
       "└────────────┴────────────┘"
      ]
     },
     "execution_count": 37,
     "metadata": {},
     "output_type": "execute_result"
    }
   ],
   "source": [
    "apple_price_pl: pl.DataFrame = (\n",
    "    pl.from_pandas(\n",
    "        apple\n",
    "        [['Adj Close']]\n",
    "        .reset_index()\n",
    "    )\n",
    "    .with_columns(\n",
    "        pl.col('Date')\n",
    "        .cast(pl.Date)\n",
    "    )\n",
    ")\n",
    "apple_price_pl"
   ]
  },
  {
   "cell_type": "markdown",
   "metadata": {},
   "source": [
    "### Question 3-1. Please merge the two DataFrame objects, so lets peek at the data to remind ourselves of what they contain."
   ]
  },
  {
   "cell_type": "markdown",
   "metadata": {},
   "source": [
    "###  `pandas` finds the columns in common, in this case Date, and merges on that column and adds a column for all the other columns in both DataFrames."
   ]
  },
  {
   "cell_type": "code",
   "execution_count": 38,
   "metadata": {},
   "outputs": [
    {
     "data": {
      "text/html": [
       "<div>\n",
       "<style scoped>\n",
       "    .dataframe tbody tr th:only-of-type {\n",
       "        vertical-align: middle;\n",
       "    }\n",
       "\n",
       "    .dataframe tbody tr th {\n",
       "        vertical-align: top;\n",
       "    }\n",
       "\n",
       "    .dataframe thead th {\n",
       "        text-align: right;\n",
       "    }\n",
       "</style>\n",
       "<table border=\"1\" class=\"dataframe\">\n",
       "  <thead>\n",
       "    <tr style=\"text-align: right;\">\n",
       "      <th></th>\n",
       "      <th>Date</th>\n",
       "      <th>Volume</th>\n",
       "    </tr>\n",
       "  </thead>\n",
       "  <tbody>\n",
       "    <tr>\n",
       "      <th>0</th>\n",
       "      <td>2024-01-02</td>\n",
       "      <td>82488700</td>\n",
       "    </tr>\n",
       "    <tr>\n",
       "      <th>1</th>\n",
       "      <td>2024-01-03</td>\n",
       "      <td>58414500</td>\n",
       "    </tr>\n",
       "    <tr>\n",
       "      <th>2</th>\n",
       "      <td>2024-01-04</td>\n",
       "      <td>71983600</td>\n",
       "    </tr>\n",
       "    <tr>\n",
       "      <th>3</th>\n",
       "      <td>2024-01-05</td>\n",
       "      <td>62303300</td>\n",
       "    </tr>\n",
       "    <tr>\n",
       "      <th>4</th>\n",
       "      <td>2024-01-08</td>\n",
       "      <td>59144500</td>\n",
       "    </tr>\n",
       "    <tr>\n",
       "      <th>...</th>\n",
       "      <td>...</td>\n",
       "      <td>...</td>\n",
       "    </tr>\n",
       "    <tr>\n",
       "      <th>163</th>\n",
       "      <td>2024-08-26</td>\n",
       "      <td>30602200</td>\n",
       "    </tr>\n",
       "    <tr>\n",
       "      <th>164</th>\n",
       "      <td>2024-08-27</td>\n",
       "      <td>35934600</td>\n",
       "    </tr>\n",
       "    <tr>\n",
       "      <th>165</th>\n",
       "      <td>2024-08-28</td>\n",
       "      <td>38052200</td>\n",
       "    </tr>\n",
       "    <tr>\n",
       "      <th>166</th>\n",
       "      <td>2024-08-29</td>\n",
       "      <td>51906300</td>\n",
       "    </tr>\n",
       "    <tr>\n",
       "      <th>167</th>\n",
       "      <td>2024-08-30</td>\n",
       "      <td>52990800</td>\n",
       "    </tr>\n",
       "  </tbody>\n",
       "</table>\n",
       "<p>168 rows × 2 columns</p>\n",
       "</div>"
      ],
      "text/plain": [
       "          Date    Volume\n",
       "0   2024-01-02  82488700\n",
       "1   2024-01-03  58414500\n",
       "2   2024-01-04  71983600\n",
       "3   2024-01-05  62303300\n",
       "4   2024-01-08  59144500\n",
       "..         ...       ...\n",
       "163 2024-08-26  30602200\n",
       "164 2024-08-27  35934600\n",
       "165 2024-08-28  38052200\n",
       "166 2024-08-29  51906300\n",
       "167 2024-08-30  52990800\n",
       "\n",
       "[168 rows x 2 columns]"
      ]
     },
     "execution_count": 38,
     "metadata": {},
     "output_type": "execute_result"
    }
   ],
   "source": [
    "apple_volume: pd.DataFrame = (\n",
    "    apple\n",
    "    [['Volume']]\n",
    "    .reset_index()\n",
    ")\n",
    "\n",
    "apple_volume"
   ]
  },
  {
   "cell_type": "markdown",
   "metadata": {},
   "source": [
    ">### <font color = 'yellow'> POLARS </font>"
   ]
  },
  {
   "cell_type": "code",
   "execution_count": 39,
   "metadata": {},
   "outputs": [
    {
     "data": {
      "text/html": [
       "<div><style>\n",
       ".dataframe > thead > tr,\n",
       ".dataframe > tbody > tr {\n",
       "  text-align: right;\n",
       "  white-space: pre-wrap;\n",
       "}\n",
       "</style>\n",
       "<small>shape: (168, 2)</small><table border=\"1\" class=\"dataframe\"><thead><tr><th>Date</th><th>Volume</th></tr><tr><td>date</td><td>i64</td></tr></thead><tbody><tr><td>2024-01-02</td><td>82488700</td></tr><tr><td>2024-01-03</td><td>58414500</td></tr><tr><td>2024-01-04</td><td>71983600</td></tr><tr><td>2024-01-05</td><td>62303300</td></tr><tr><td>2024-01-08</td><td>59144500</td></tr><tr><td>&hellip;</td><td>&hellip;</td></tr><tr><td>2024-08-26</td><td>30602200</td></tr><tr><td>2024-08-27</td><td>35934600</td></tr><tr><td>2024-08-28</td><td>38052200</td></tr><tr><td>2024-08-29</td><td>51906300</td></tr><tr><td>2024-08-30</td><td>52990800</td></tr></tbody></table></div>"
      ],
      "text/plain": [
       "shape: (168, 2)\n",
       "┌────────────┬──────────┐\n",
       "│ Date       ┆ Volume   │\n",
       "│ ---        ┆ ---      │\n",
       "│ date       ┆ i64      │\n",
       "╞════════════╪══════════╡\n",
       "│ 2024-01-02 ┆ 82488700 │\n",
       "│ 2024-01-03 ┆ 58414500 │\n",
       "│ 2024-01-04 ┆ 71983600 │\n",
       "│ 2024-01-05 ┆ 62303300 │\n",
       "│ 2024-01-08 ┆ 59144500 │\n",
       "│ …          ┆ …        │\n",
       "│ 2024-08-26 ┆ 30602200 │\n",
       "│ 2024-08-27 ┆ 35934600 │\n",
       "│ 2024-08-28 ┆ 38052200 │\n",
       "│ 2024-08-29 ┆ 51906300 │\n",
       "│ 2024-08-30 ┆ 52990800 │\n",
       "└────────────┴──────────┘"
      ]
     },
     "execution_count": 39,
     "metadata": {},
     "output_type": "execute_result"
    }
   ],
   "source": [
    "apple_volume_pl: pl.DataFrame = (\n",
    "    pl.from_pandas(\n",
    "        apple\n",
    "        [['Volume']]\n",
    "        .reset_index()\n",
    "    )\n",
    "    .with_columns(\n",
    "        pl.col('Date')\n",
    "        .cast(pl.Date)\n",
    "    )\n",
    ")\n",
    "\n",
    "apple_volume_pl"
   ]
  },
  {
   "cell_type": "code",
   "execution_count": 40,
   "metadata": {},
   "outputs": [
    {
     "data": {
      "text/html": [
       "<div>\n",
       "<style scoped>\n",
       "    .dataframe tbody tr th:only-of-type {\n",
       "        vertical-align: middle;\n",
       "    }\n",
       "\n",
       "    .dataframe tbody tr th {\n",
       "        vertical-align: top;\n",
       "    }\n",
       "\n",
       "    .dataframe thead th {\n",
       "        text-align: right;\n",
       "    }\n",
       "</style>\n",
       "<table border=\"1\" class=\"dataframe\">\n",
       "  <thead>\n",
       "    <tr style=\"text-align: right;\">\n",
       "      <th></th>\n",
       "      <th>Date</th>\n",
       "      <th>Adj Close</th>\n",
       "      <th>Volume</th>\n",
       "    </tr>\n",
       "  </thead>\n",
       "  <tbody>\n",
       "    <tr>\n",
       "      <th>0</th>\n",
       "      <td>2024-01-02</td>\n",
       "      <td>184.938217</td>\n",
       "      <td>82488700</td>\n",
       "    </tr>\n",
       "    <tr>\n",
       "      <th>1</th>\n",
       "      <td>2024-01-03</td>\n",
       "      <td>183.553467</td>\n",
       "      <td>58414500</td>\n",
       "    </tr>\n",
       "    <tr>\n",
       "      <th>2</th>\n",
       "      <td>2024-01-04</td>\n",
       "      <td>181.222336</td>\n",
       "      <td>71983600</td>\n",
       "    </tr>\n",
       "    <tr>\n",
       "      <th>3</th>\n",
       "      <td>2024-01-05</td>\n",
       "      <td>180.495071</td>\n",
       "      <td>62303300</td>\n",
       "    </tr>\n",
       "    <tr>\n",
       "      <th>4</th>\n",
       "      <td>2024-01-08</td>\n",
       "      <td>184.858521</td>\n",
       "      <td>59144500</td>\n",
       "    </tr>\n",
       "  </tbody>\n",
       "</table>\n",
       "</div>"
      ],
      "text/plain": [
       "        Date   Adj Close    Volume\n",
       "0 2024-01-02  184.938217  82488700\n",
       "1 2024-01-03  183.553467  58414500\n",
       "2 2024-01-04  181.222336  71983600\n",
       "3 2024-01-05  180.495071  62303300\n",
       "4 2024-01-08  184.858521  59144500"
      ]
     },
     "execution_count": 40,
     "metadata": {},
     "output_type": "execute_result"
    }
   ],
   "source": [
    "(\n",
    "    apple_price\n",
    "    .merge(\n",
    "        apple_volume,\n",
    "        how = 'left',\n",
    "        left_on = 'Date',\n",
    "        right_on = 'Date'\n",
    "    )\n",
    "    .head()\n",
    ")"
   ]
  },
  {
   "cell_type": "markdown",
   "metadata": {},
   "source": [
    ">### <font color = 'yellow'> POLARS </font>"
   ]
  },
  {
   "cell_type": "code",
   "execution_count": 41,
   "metadata": {},
   "outputs": [
    {
     "data": {
      "text/html": [
       "<div><style>\n",
       ".dataframe > thead > tr,\n",
       ".dataframe > tbody > tr {\n",
       "  text-align: right;\n",
       "  white-space: pre-wrap;\n",
       "}\n",
       "</style>\n",
       "<small>shape: (5, 3)</small><table border=\"1\" class=\"dataframe\"><thead><tr><th>Date</th><th>Adj Close</th><th>Volume</th></tr><tr><td>date</td><td>f64</td><td>i64</td></tr></thead><tbody><tr><td>2024-01-02</td><td>184.938217</td><td>82488700</td></tr><tr><td>2024-01-03</td><td>183.553467</td><td>58414500</td></tr><tr><td>2024-01-04</td><td>181.222336</td><td>71983600</td></tr><tr><td>2024-01-05</td><td>180.495071</td><td>62303300</td></tr><tr><td>2024-01-08</td><td>184.858521</td><td>59144500</td></tr></tbody></table></div>"
      ],
      "text/plain": [
       "shape: (5, 3)\n",
       "┌────────────┬────────────┬──────────┐\n",
       "│ Date       ┆ Adj Close  ┆ Volume   │\n",
       "│ ---        ┆ ---        ┆ ---      │\n",
       "│ date       ┆ f64        ┆ i64      │\n",
       "╞════════════╪════════════╪══════════╡\n",
       "│ 2024-01-02 ┆ 184.938217 ┆ 82488700 │\n",
       "│ 2024-01-03 ┆ 183.553467 ┆ 58414500 │\n",
       "│ 2024-01-04 ┆ 181.222336 ┆ 71983600 │\n",
       "│ 2024-01-05 ┆ 180.495071 ┆ 62303300 │\n",
       "│ 2024-01-08 ┆ 184.858521 ┆ 59144500 │\n",
       "└────────────┴────────────┴──────────┘"
      ]
     },
     "execution_count": 41,
     "metadata": {},
     "output_type": "execute_result"
    }
   ],
   "source": [
    "(\n",
    "    apple_price_pl\n",
    "    .join(\n",
    "        apple_volume_pl,\n",
    "        how = 'left',\n",
    "        left_on = 'Date',\n",
    "        right_on = 'Date'\n",
    "    )\n",
    "    .head()\n",
    ")"
   ]
  },
  {
   "cell_type": "markdown",
   "metadata": {},
   "source": [
    "> <font color = 'orange'> Comparison of Compute Time </font> \\\n",
    "> <font color = 'yellow'> Polars </font> is `~22 times` faster than pandas when merging"
   ]
  },
  {
   "cell_type": "code",
   "execution_count": 98,
   "metadata": {},
   "outputs": [
    {
     "name": "stdout",
     "output_type": "stream",
     "text": [
      "4.96 ms ± 1.05 ms per loop (mean ± std. dev. of 5 runs, 1,000 loops each)\n"
     ]
    }
   ],
   "source": [
    "%%timeit -n 1000 -r 5\n",
    "(\n",
    "    apple_price\n",
    "    .merge(\n",
    "        apple_volume,\n",
    "        how = 'left',\n",
    "        left_on = 'Date',\n",
    "        right_on = 'Date'\n",
    "    )\n",
    "    .head()\n",
    ")"
   ]
  },
  {
   "cell_type": "code",
   "execution_count": 99,
   "metadata": {},
   "outputs": [
    {
     "name": "stdout",
     "output_type": "stream",
     "text": [
      "229 µs ± 52.6 µs per loop (mean ± std. dev. of 5 runs, 1,000 loops each)\n"
     ]
    }
   ],
   "source": [
    "%%timeit -n 1000 -r 5\n",
    "(\n",
    "    apple_price_pl\n",
    "    .join(\n",
    "        apple_volume_pl,\n",
    "        how = 'left',\n",
    "        left_on = 'Date',\n",
    "        right_on = 'Date'\n",
    "    )\n",
    "    .head()\n",
    ")"
   ]
  },
  {
   "cell_type": "markdown",
   "metadata": {},
   "source": [
    "#### Question 3-2. Please use the merge function to create the below."
   ]
  },
  {
   "cell_type": "code",
   "execution_count": 42,
   "metadata": {},
   "outputs": [
    {
     "data": {
      "text/html": [
       "<div>\n",
       "<style scoped>\n",
       "    .dataframe tbody tr th:only-of-type {\n",
       "        vertical-align: middle;\n",
       "    }\n",
       "\n",
       "    .dataframe tbody tr th {\n",
       "        vertical-align: top;\n",
       "    }\n",
       "\n",
       "    .dataframe thead th {\n",
       "        text-align: right;\n",
       "    }\n",
       "</style>\n",
       "<table border=\"1\" class=\"dataframe\">\n",
       "  <thead>\n",
       "    <tr style=\"text-align: right;\">\n",
       "      <th></th>\n",
       "      <th>Date</th>\n",
       "      <th>Adj Close</th>\n",
       "      <th>Volume</th>\n",
       "    </tr>\n",
       "  </thead>\n",
       "  <tbody>\n",
       "    <tr>\n",
       "      <th>0</th>\n",
       "      <td>2024-01-04</td>\n",
       "      <td>181.222336</td>\n",
       "      <td>71983600</td>\n",
       "    </tr>\n",
       "    <tr>\n",
       "      <th>1</th>\n",
       "      <td>2024-01-05</td>\n",
       "      <td>180.495071</td>\n",
       "      <td>62303300</td>\n",
       "    </tr>\n",
       "  </tbody>\n",
       "</table>\n",
       "</div>"
      ],
      "text/plain": [
       "        Date   Adj Close    Volume\n",
       "0 2024-01-04  181.222336  71983600\n",
       "1 2024-01-05  180.495071  62303300"
      ]
     },
     "execution_count": 42,
     "metadata": {},
     "output_type": "execute_result"
    }
   ],
   "source": [
    "(\n",
    "    apple_price\n",
    "    .merge(\n",
    "        apple_volume,\n",
    "        how = 'left',\n",
    "        left_on = 'Date',\n",
    "        right_on = 'Date'\n",
    "    )\n",
    "    .iloc[2 : 4, : ]\n",
    "    .reset_index(drop = True)\n",
    ")"
   ]
  },
  {
   "cell_type": "markdown",
   "metadata": {},
   "source": [
    ">### <font color = 'yellow'> POLARS </font>"
   ]
  },
  {
   "cell_type": "code",
   "execution_count": 43,
   "metadata": {},
   "outputs": [
    {
     "data": {
      "text/html": [
       "<div><style>\n",
       ".dataframe > thead > tr,\n",
       ".dataframe > tbody > tr {\n",
       "  text-align: right;\n",
       "  white-space: pre-wrap;\n",
       "}\n",
       "</style>\n",
       "<small>shape: (2, 3)</small><table border=\"1\" class=\"dataframe\"><thead><tr><th>Date</th><th>Adj Close</th><th>Volume</th></tr><tr><td>date</td><td>f64</td><td>i64</td></tr></thead><tbody><tr><td>2024-01-04</td><td>181.222336</td><td>71983600</td></tr><tr><td>2024-01-05</td><td>180.495071</td><td>62303300</td></tr></tbody></table></div>"
      ],
      "text/plain": [
       "shape: (2, 3)\n",
       "┌────────────┬────────────┬──────────┐\n",
       "│ Date       ┆ Adj Close  ┆ Volume   │\n",
       "│ ---        ┆ ---        ┆ ---      │\n",
       "│ date       ┆ f64        ┆ i64      │\n",
       "╞════════════╪════════════╪══════════╡\n",
       "│ 2024-01-04 ┆ 181.222336 ┆ 71983600 │\n",
       "│ 2024-01-05 ┆ 180.495071 ┆ 62303300 │\n",
       "└────────────┴────────────┴──────────┘"
      ]
     },
     "execution_count": 43,
     "metadata": {},
     "output_type": "execute_result"
    }
   ],
   "source": [
    "(\n",
    "    apple_price_pl\n",
    "    .join(\n",
    "        apple_volume_pl,\n",
    "        how = 'left',\n",
    "        left_on = 'Date',\n",
    "        right_on = 'Date'\n",
    "    )\n",
    "    [2 : 4, : ]\n",
    ")"
   ]
  },
  {
   "cell_type": "markdown",
   "metadata": {},
   "source": [
    "#### Question 3-3. How would you create the below then?"
   ]
  },
  {
   "cell_type": "code",
   "execution_count": 44,
   "metadata": {},
   "outputs": [
    {
     "data": {
      "text/html": [
       "<div>\n",
       "<style scoped>\n",
       "    .dataframe tbody tr th:only-of-type {\n",
       "        vertical-align: middle;\n",
       "    }\n",
       "\n",
       "    .dataframe tbody tr th {\n",
       "        vertical-align: top;\n",
       "    }\n",
       "\n",
       "    .dataframe thead th {\n",
       "        text-align: right;\n",
       "    }\n",
       "</style>\n",
       "<table border=\"1\" class=\"dataframe\">\n",
       "  <thead>\n",
       "    <tr style=\"text-align: right;\">\n",
       "      <th></th>\n",
       "      <th>Date</th>\n",
       "      <th>Adj Close</th>\n",
       "      <th>Volume</th>\n",
       "    </tr>\n",
       "  </thead>\n",
       "  <tbody>\n",
       "    <tr>\n",
       "      <th>0</th>\n",
       "      <td>2024-01-02</td>\n",
       "      <td>184.938217</td>\n",
       "      <td>NaN</td>\n",
       "    </tr>\n",
       "    <tr>\n",
       "      <th>1</th>\n",
       "      <td>2024-01-03</td>\n",
       "      <td>183.553467</td>\n",
       "      <td>NaN</td>\n",
       "    </tr>\n",
       "    <tr>\n",
       "      <th>2</th>\n",
       "      <td>2024-01-04</td>\n",
       "      <td>181.222336</td>\n",
       "      <td>71983600.0</td>\n",
       "    </tr>\n",
       "    <tr>\n",
       "      <th>3</th>\n",
       "      <td>2024-01-05</td>\n",
       "      <td>180.495071</td>\n",
       "      <td>62303300.0</td>\n",
       "    </tr>\n",
       "    <tr>\n",
       "      <th>4</th>\n",
       "      <td>2024-01-08</td>\n",
       "      <td>184.858521</td>\n",
       "      <td>NaN</td>\n",
       "    </tr>\n",
       "  </tbody>\n",
       "</table>\n",
       "</div>"
      ],
      "text/plain": [
       "        Date   Adj Close      Volume\n",
       "0 2024-01-02  184.938217         NaN\n",
       "1 2024-01-03  183.553467         NaN\n",
       "2 2024-01-04  181.222336  71983600.0\n",
       "3 2024-01-05  180.495071  62303300.0\n",
       "4 2024-01-08  184.858521         NaN"
      ]
     },
     "execution_count": 44,
     "metadata": {},
     "output_type": "execute_result"
    }
   ],
   "source": [
    "(\n",
    "    apple_price\n",
    "    .head(5)\n",
    "    .merge(\n",
    "        apple_volume.iloc[2 : 4, : ],\n",
    "        how = 'left',\n",
    "        left_on = 'Date',\n",
    "        right_on = 'Date'\n",
    "    )\n",
    "    .reset_index(drop = True)\n",
    ")"
   ]
  },
  {
   "cell_type": "markdown",
   "metadata": {},
   "source": [
    ">### <font color = 'yellow'> POLARS </font>"
   ]
  },
  {
   "cell_type": "code",
   "execution_count": 45,
   "metadata": {},
   "outputs": [
    {
     "data": {
      "text/html": [
       "<div><style>\n",
       ".dataframe > thead > tr,\n",
       ".dataframe > tbody > tr {\n",
       "  text-align: right;\n",
       "  white-space: pre-wrap;\n",
       "}\n",
       "</style>\n",
       "<small>shape: (5, 3)</small><table border=\"1\" class=\"dataframe\"><thead><tr><th>Date</th><th>Adj Close</th><th>Volume</th></tr><tr><td>date</td><td>f64</td><td>i64</td></tr></thead><tbody><tr><td>2024-01-02</td><td>184.938217</td><td>null</td></tr><tr><td>2024-01-03</td><td>183.553467</td><td>null</td></tr><tr><td>2024-01-04</td><td>181.222336</td><td>71983600</td></tr><tr><td>2024-01-05</td><td>180.495071</td><td>62303300</td></tr><tr><td>2024-01-08</td><td>184.858521</td><td>null</td></tr></tbody></table></div>"
      ],
      "text/plain": [
       "shape: (5, 3)\n",
       "┌────────────┬────────────┬──────────┐\n",
       "│ Date       ┆ Adj Close  ┆ Volume   │\n",
       "│ ---        ┆ ---        ┆ ---      │\n",
       "│ date       ┆ f64        ┆ i64      │\n",
       "╞════════════╪════════════╪══════════╡\n",
       "│ 2024-01-02 ┆ 184.938217 ┆ null     │\n",
       "│ 2024-01-03 ┆ 183.553467 ┆ null     │\n",
       "│ 2024-01-04 ┆ 181.222336 ┆ 71983600 │\n",
       "│ 2024-01-05 ┆ 180.495071 ┆ 62303300 │\n",
       "│ 2024-01-08 ┆ 184.858521 ┆ null     │\n",
       "└────────────┴────────────┴──────────┘"
      ]
     },
     "execution_count": 45,
     "metadata": {},
     "output_type": "execute_result"
    }
   ],
   "source": [
    "(\n",
    "    apple_price_pl\n",
    "    .head(5)\n",
    "    .join(\n",
    "        apple_volume_pl[2 : 4, : ],\n",
    "        how = 'left',\n",
    "        left_on = 'Date',\n",
    "        right_on = 'Date'\n",
    "    )\n",
    ")"
   ]
  },
  {
   "cell_type": "markdown",
   "metadata": {},
   "source": [
    "### Let's do some `pivoting`"
   ]
  },
  {
   "cell_type": "markdown",
   "metadata": {},
   "source": [
    "### Question 4-1. Please insert `Symbol` column before combining"
   ]
  },
  {
   "cell_type": "code",
   "execution_count": 46,
   "metadata": {},
   "outputs": [
    {
     "name": "stdout",
     "output_type": "stream",
     "text": [
      "                  Open        High         Low       Close   Adj Close  \\\n",
      "Date                                                                     \n",
      "2024-01-02  187.149994  188.440002  183.889999  185.639999  184.938217   \n",
      "2024-01-03  184.220001  185.880005  183.429993  184.250000  183.553467   \n",
      "2024-01-04  182.149994  183.089996  180.880005  181.910004  181.222336   \n",
      "2024-01-05  181.990005  182.759995  180.169998  181.179993  180.495071   \n",
      "2024-01-08  182.089996  185.600006  181.500000  185.559998  184.858521   \n",
      "...                ...         ...         ...         ...         ...   \n",
      "2024-08-26  226.759995  227.279999  223.889999  227.179993  227.179993   \n",
      "2024-08-27  226.000000  228.850006  224.889999  228.029999  228.029999   \n",
      "2024-08-28  227.919998  229.860001  225.679993  226.490005  226.490005   \n",
      "2024-08-29  230.100006  232.919998  228.880005  229.789993  229.789993   \n",
      "2024-08-30  230.190002  230.399994  227.479996  229.000000  229.000000   \n",
      "\n",
      "              Volume Symbol  \n",
      "Date                         \n",
      "2024-01-02  82488700   AAPL  \n",
      "2024-01-03  58414500   AAPL  \n",
      "2024-01-04  71983600   AAPL  \n",
      "2024-01-05  62303300   AAPL  \n",
      "2024-01-08  59144500   AAPL  \n",
      "...              ...    ...  \n",
      "2024-08-26  30602200   AAPL  \n",
      "2024-08-27  35934600   AAPL  \n",
      "2024-08-28  38052200   AAPL  \n",
      "2024-08-29  51906300   AAPL  \n",
      "2024-08-30  52990800   AAPL  \n",
      "\n",
      "[168 rows x 7 columns]                   Open        High         Low       Close   Adj Close  \\\n",
      "Date                                                                     \n",
      "2024-01-02  138.550003  139.449997  136.479996  138.169998  137.828705   \n",
      "2024-01-03  137.250000  139.630005  137.080002  138.919998  138.576859   \n",
      "2024-01-04  138.419998  139.160004  136.350006  136.389999  136.053101   \n",
      "2024-01-05  136.750000  137.160004  135.149994  135.729996  135.394745   \n",
      "2024-01-08  136.289993  139.009995  136.259995  138.839996  138.497055   \n",
      "...                ...         ...         ...         ...         ...   \n",
      "2024-08-26  166.380005  167.550003  164.460007  166.160004  165.939804   \n",
      "2024-08-27  165.839996  166.440002  164.460007  164.679993  164.461761   \n",
      "2024-08-28  165.039993  165.600006  161.529999  162.850006  162.634201   \n",
      "2024-08-29  164.309998  165.970001  160.250000  161.779999  161.565613   \n",
      "2024-08-30  162.619995  163.660004  161.690002  163.380005  163.163498   \n",
      "\n",
      "              Volume Symbol  \n",
      "Date                         \n",
      "2024-01-02  23711200  GOOGL  \n",
      "2024-01-03  24212100  GOOGL  \n",
      "2024-01-04  27137700  GOOGL  \n",
      "2024-01-05  22506000  GOOGL  \n",
      "2024-01-08  21404000  GOOGL  \n",
      "...              ...    ...  \n",
      "2024-08-26  14190400  GOOGL  \n",
      "2024-08-27  11821900  GOOGL  \n",
      "2024-08-28  16407400  GOOGL  \n",
      "2024-08-29  19699800  GOOGL  \n",
      "2024-08-30  22123800  GOOGL  \n",
      "\n",
      "[168 rows x 7 columns]\n"
     ]
    }
   ],
   "source": [
    "pivot_apple: pd.DataFrame = apple.copy()\n",
    "pivot_apple['Symbol'] = 'AAPL'\n",
    "\n",
    "pivot_google: pd.DataFrame = google.copy()\n",
    "pivot_google['Symbol'] = 'GOOGL'\n",
    "\n",
    "print(pivot_apple, pivot_google)"
   ]
  },
  {
   "cell_type": "markdown",
   "metadata": {},
   "source": [
    "### ***<font color = 'red'> BUT Symbol is at the end </font>***"
   ]
  },
  {
   "cell_type": "code",
   "execution_count": 47,
   "metadata": {},
   "outputs": [
    {
     "name": "stdout",
     "output_type": "stream",
     "text": [
      "           Symbol        Open        High         Low       Close   Adj Close  \\\n",
      "Date                                                                            \n",
      "2024-01-02   AAPL  187.149994  188.440002  183.889999  185.639999  184.938217   \n",
      "2024-01-03   AAPL  184.220001  185.880005  183.429993  184.250000  183.553467   \n",
      "2024-01-04   AAPL  182.149994  183.089996  180.880005  181.910004  181.222336   \n",
      "2024-01-05   AAPL  181.990005  182.759995  180.169998  181.179993  180.495071   \n",
      "2024-01-08   AAPL  182.089996  185.600006  181.500000  185.559998  184.858521   \n",
      "...           ...         ...         ...         ...         ...         ...   \n",
      "2024-08-26   AAPL  226.759995  227.279999  223.889999  227.179993  227.179993   \n",
      "2024-08-27   AAPL  226.000000  228.850006  224.889999  228.029999  228.029999   \n",
      "2024-08-28   AAPL  227.919998  229.860001  225.679993  226.490005  226.490005   \n",
      "2024-08-29   AAPL  230.100006  232.919998  228.880005  229.789993  229.789993   \n",
      "2024-08-30   AAPL  230.190002  230.399994  227.479996  229.000000  229.000000   \n",
      "\n",
      "              Volume  \n",
      "Date                  \n",
      "2024-01-02  82488700  \n",
      "2024-01-03  58414500  \n",
      "2024-01-04  71983600  \n",
      "2024-01-05  62303300  \n",
      "2024-01-08  59144500  \n",
      "...              ...  \n",
      "2024-08-26  30602200  \n",
      "2024-08-27  35934600  \n",
      "2024-08-28  38052200  \n",
      "2024-08-29  51906300  \n",
      "2024-08-30  52990800  \n",
      "\n",
      "[168 rows x 7 columns]            Symbol        Open        High         Low       Close   Adj Close  \\\n",
      "Date                                                                            \n",
      "2024-01-02  GOOGL  138.550003  139.449997  136.479996  138.169998  137.828705   \n",
      "2024-01-03  GOOGL  137.250000  139.630005  137.080002  138.919998  138.576859   \n",
      "2024-01-04  GOOGL  138.419998  139.160004  136.350006  136.389999  136.053101   \n",
      "2024-01-05  GOOGL  136.750000  137.160004  135.149994  135.729996  135.394745   \n",
      "2024-01-08  GOOGL  136.289993  139.009995  136.259995  138.839996  138.497055   \n",
      "...           ...         ...         ...         ...         ...         ...   \n",
      "2024-08-26  GOOGL  166.380005  167.550003  164.460007  166.160004  165.939804   \n",
      "2024-08-27  GOOGL  165.839996  166.440002  164.460007  164.679993  164.461761   \n",
      "2024-08-28  GOOGL  165.039993  165.600006  161.529999  162.850006  162.634201   \n",
      "2024-08-29  GOOGL  164.309998  165.970001  160.250000  161.779999  161.565613   \n",
      "2024-08-30  GOOGL  162.619995  163.660004  161.690002  163.380005  163.163498   \n",
      "\n",
      "              Volume  \n",
      "Date                  \n",
      "2024-01-02  23711200  \n",
      "2024-01-03  24212100  \n",
      "2024-01-04  27137700  \n",
      "2024-01-05  22506000  \n",
      "2024-01-08  21404000  \n",
      "...              ...  \n",
      "2024-08-26  14190400  \n",
      "2024-08-27  11821900  \n",
      "2024-08-28  16407400  \n",
      "2024-08-29  19699800  \n",
      "2024-08-30  22123800  \n",
      "\n",
      "[168 rows x 7 columns]\n"
     ]
    }
   ],
   "source": [
    "pivot_apple: pd.DataFrame = apple.copy()\n",
    "pivot_apple.insert(loc = 0, column = 'Symbol', value = 'AAPL')\n",
    "\n",
    "pivot_google: pd.DataFrame = google.copy()\n",
    "pivot_google.insert(loc = 0, column = 'Symbol', value = 'GOOGL')\n",
    "\n",
    "print(pivot_apple, pivot_google)"
   ]
  },
  {
   "cell_type": "markdown",
   "metadata": {},
   "source": [
    ">### <font color = 'yellow'> POLARS </font>"
   ]
  },
  {
   "cell_type": "code",
   "execution_count": 48,
   "metadata": {},
   "outputs": [
    {
     "name": "stdout",
     "output_type": "stream",
     "text": [
      "shape: (168, 8)\n",
      "┌────────────┬────────┬────────────┬────────────┬────────────┬────────────┬────────────┬──────────┐\n",
      "│ Date       ┆ Symbol ┆ Open       ┆ High       ┆ Low        ┆ Close      ┆ Adj Close  ┆ Volume   │\n",
      "│ ---        ┆ ---    ┆ ---        ┆ ---        ┆ ---        ┆ ---        ┆ ---        ┆ ---      │\n",
      "│ date       ┆ str    ┆ f64        ┆ f64        ┆ f64        ┆ f64        ┆ f64        ┆ i64      │\n",
      "╞════════════╪════════╪════════════╪════════════╪════════════╪════════════╪════════════╪══════════╡\n",
      "│ 2024-01-02 ┆ AAPL   ┆ 187.149994 ┆ 188.440002 ┆ 183.889999 ┆ 185.639999 ┆ 184.938217 ┆ 82488700 │\n",
      "│ 2024-01-03 ┆ AAPL   ┆ 184.220001 ┆ 185.880005 ┆ 183.429993 ┆ 184.25     ┆ 183.553467 ┆ 58414500 │\n",
      "│ 2024-01-04 ┆ AAPL   ┆ 182.149994 ┆ 183.089996 ┆ 180.880005 ┆ 181.910004 ┆ 181.222336 ┆ 71983600 │\n",
      "│ 2024-01-05 ┆ AAPL   ┆ 181.990005 ┆ 182.759995 ┆ 180.169998 ┆ 181.179993 ┆ 180.495071 ┆ 62303300 │\n",
      "│ 2024-01-08 ┆ AAPL   ┆ 182.089996 ┆ 185.600006 ┆ 181.5      ┆ 185.559998 ┆ 184.858521 ┆ 59144500 │\n",
      "│ …          ┆ …      ┆ …          ┆ …          ┆ …          ┆ …          ┆ …          ┆ …        │\n",
      "│ 2024-08-26 ┆ AAPL   ┆ 226.759995 ┆ 227.279999 ┆ 223.889999 ┆ 227.179993 ┆ 227.179993 ┆ 30602200 │\n",
      "│ 2024-08-27 ┆ AAPL   ┆ 226.0      ┆ 228.850006 ┆ 224.889999 ┆ 228.029999 ┆ 228.029999 ┆ 35934600 │\n",
      "│ 2024-08-28 ┆ AAPL   ┆ 227.919998 ┆ 229.860001 ┆ 225.679993 ┆ 226.490005 ┆ 226.490005 ┆ 38052200 │\n",
      "│ 2024-08-29 ┆ AAPL   ┆ 230.100006 ┆ 232.919998 ┆ 228.880005 ┆ 229.789993 ┆ 229.789993 ┆ 51906300 │\n",
      "│ 2024-08-30 ┆ AAPL   ┆ 230.190002 ┆ 230.399994 ┆ 227.479996 ┆ 229.0      ┆ 229.0      ┆ 52990800 │\n",
      "└────────────┴────────┴────────────┴────────────┴────────────┴────────────┴────────────┴──────────┘ shape: (168, 8)\n",
      "┌────────────┬────────┬────────────┬────────────┬────────────┬────────────┬────────────┬──────────┐\n",
      "│ Date       ┆ Symbol ┆ Open       ┆ High       ┆ Low        ┆ Close      ┆ Adj Close  ┆ Volume   │\n",
      "│ ---        ┆ ---    ┆ ---        ┆ ---        ┆ ---        ┆ ---        ┆ ---        ┆ ---      │\n",
      "│ date       ┆ str    ┆ f64        ┆ f64        ┆ f64        ┆ f64        ┆ f64        ┆ i64      │\n",
      "╞════════════╪════════╪════════════╪════════════╪════════════╪════════════╪════════════╪══════════╡\n",
      "│ 2024-01-02 ┆ GOOGL  ┆ 138.550003 ┆ 139.449997 ┆ 136.479996 ┆ 138.169998 ┆ 137.828705 ┆ 23711200 │\n",
      "│ 2024-01-03 ┆ GOOGL  ┆ 137.25     ┆ 139.630005 ┆ 137.080002 ┆ 138.919998 ┆ 138.576859 ┆ 24212100 │\n",
      "│ 2024-01-04 ┆ GOOGL  ┆ 138.419998 ┆ 139.160004 ┆ 136.350006 ┆ 136.389999 ┆ 136.053101 ┆ 27137700 │\n",
      "│ 2024-01-05 ┆ GOOGL  ┆ 136.75     ┆ 137.160004 ┆ 135.149994 ┆ 135.729996 ┆ 135.394745 ┆ 22506000 │\n",
      "│ 2024-01-08 ┆ GOOGL  ┆ 136.289993 ┆ 139.009995 ┆ 136.259995 ┆ 138.839996 ┆ 138.497055 ┆ 21404000 │\n",
      "│ …          ┆ …      ┆ …          ┆ …          ┆ …          ┆ …          ┆ …          ┆ …        │\n",
      "│ 2024-08-26 ┆ GOOGL  ┆ 166.380005 ┆ 167.550003 ┆ 164.460007 ┆ 166.160004 ┆ 165.939804 ┆ 14190400 │\n",
      "│ 2024-08-27 ┆ GOOGL  ┆ 165.839996 ┆ 166.440002 ┆ 164.460007 ┆ 164.679993 ┆ 164.461761 ┆ 11821900 │\n",
      "│ 2024-08-28 ┆ GOOGL  ┆ 165.039993 ┆ 165.600006 ┆ 161.529999 ┆ 162.850006 ┆ 162.634201 ┆ 16407400 │\n",
      "│ 2024-08-29 ┆ GOOGL  ┆ 164.309998 ┆ 165.970001 ┆ 160.25     ┆ 161.779999 ┆ 161.565613 ┆ 19699800 │\n",
      "│ 2024-08-30 ┆ GOOGL  ┆ 162.619995 ┆ 163.660004 ┆ 161.690002 ┆ 163.380005 ┆ 163.163498 ┆ 22123800 │\n",
      "└────────────┴────────┴────────────┴────────────┴────────────┴────────────┴────────────┴──────────┘\n"
     ]
    }
   ],
   "source": [
    "pivot_apple_pl: pl.DataFrame = apple_pl.clone()\n",
    "(\n",
    "    pivot_apple_pl\n",
    "    .insert_column(\n",
    "        index = 1,\n",
    "        column = pl.Series(\n",
    "            name = 'Symbol', \n",
    "            values = ['AAPL'] * len(apple_pl)\n",
    "        )\n",
    "    )\n",
    ")\n",
    "\n",
    "pivot_google_pl: pl.DataFrame = google_pl.clone()\n",
    "(\n",
    "    pivot_google_pl\n",
    "    .insert_column(\n",
    "        index = 1,\n",
    "        column = pl.Series(\n",
    "            name = 'Symbol', \n",
    "            values = ['GOOGL'] * len(google_pl)\n",
    "        )\n",
    "    )\n",
    ")\n",
    "\n",
    "print(pivot_apple_pl, pivot_google_pl)"
   ]
  },
  {
   "cell_type": "markdown",
   "metadata": {},
   "source": [
    "#### Question 4-2. Please concatenate the `Apple` and `Google` data index will consist of the Date column, which we will sort."
   ]
  },
  {
   "cell_type": "code",
   "execution_count": 49,
   "metadata": {},
   "outputs": [
    {
     "data": {
      "text/html": [
       "<div>\n",
       "<style scoped>\n",
       "    .dataframe tbody tr th:only-of-type {\n",
       "        vertical-align: middle;\n",
       "    }\n",
       "\n",
       "    .dataframe tbody tr th {\n",
       "        vertical-align: top;\n",
       "    }\n",
       "\n",
       "    .dataframe thead th {\n",
       "        text-align: right;\n",
       "    }\n",
       "</style>\n",
       "<table border=\"1\" class=\"dataframe\">\n",
       "  <thead>\n",
       "    <tr style=\"text-align: right;\">\n",
       "      <th></th>\n",
       "      <th>Symbol</th>\n",
       "      <th>Open</th>\n",
       "      <th>High</th>\n",
       "      <th>Low</th>\n",
       "      <th>Close</th>\n",
       "      <th>Adj Close</th>\n",
       "      <th>Volume</th>\n",
       "    </tr>\n",
       "    <tr>\n",
       "      <th>Date</th>\n",
       "      <th></th>\n",
       "      <th></th>\n",
       "      <th></th>\n",
       "      <th></th>\n",
       "      <th></th>\n",
       "      <th></th>\n",
       "      <th></th>\n",
       "    </tr>\n",
       "  </thead>\n",
       "  <tbody>\n",
       "    <tr>\n",
       "      <th>2024-01-02</th>\n",
       "      <td>AAPL</td>\n",
       "      <td>187.149994</td>\n",
       "      <td>188.440002</td>\n",
       "      <td>183.889999</td>\n",
       "      <td>185.639999</td>\n",
       "      <td>184.938217</td>\n",
       "      <td>82488700</td>\n",
       "    </tr>\n",
       "    <tr>\n",
       "      <th>2024-01-02</th>\n",
       "      <td>GOOGL</td>\n",
       "      <td>138.550003</td>\n",
       "      <td>139.449997</td>\n",
       "      <td>136.479996</td>\n",
       "      <td>138.169998</td>\n",
       "      <td>137.828705</td>\n",
       "      <td>23711200</td>\n",
       "    </tr>\n",
       "    <tr>\n",
       "      <th>2024-01-03</th>\n",
       "      <td>GOOGL</td>\n",
       "      <td>137.250000</td>\n",
       "      <td>139.630005</td>\n",
       "      <td>137.080002</td>\n",
       "      <td>138.919998</td>\n",
       "      <td>138.576859</td>\n",
       "      <td>24212100</td>\n",
       "    </tr>\n",
       "    <tr>\n",
       "      <th>2024-01-03</th>\n",
       "      <td>AAPL</td>\n",
       "      <td>184.220001</td>\n",
       "      <td>185.880005</td>\n",
       "      <td>183.429993</td>\n",
       "      <td>184.250000</td>\n",
       "      <td>183.553467</td>\n",
       "      <td>58414500</td>\n",
       "    </tr>\n",
       "    <tr>\n",
       "      <th>2024-01-04</th>\n",
       "      <td>AAPL</td>\n",
       "      <td>182.149994</td>\n",
       "      <td>183.089996</td>\n",
       "      <td>180.880005</td>\n",
       "      <td>181.910004</td>\n",
       "      <td>181.222336</td>\n",
       "      <td>71983600</td>\n",
       "    </tr>\n",
       "    <tr>\n",
       "      <th>...</th>\n",
       "      <td>...</td>\n",
       "      <td>...</td>\n",
       "      <td>...</td>\n",
       "      <td>...</td>\n",
       "      <td>...</td>\n",
       "      <td>...</td>\n",
       "      <td>...</td>\n",
       "    </tr>\n",
       "    <tr>\n",
       "      <th>2024-08-28</th>\n",
       "      <td>AAPL</td>\n",
       "      <td>227.919998</td>\n",
       "      <td>229.860001</td>\n",
       "      <td>225.679993</td>\n",
       "      <td>226.490005</td>\n",
       "      <td>226.490005</td>\n",
       "      <td>38052200</td>\n",
       "    </tr>\n",
       "    <tr>\n",
       "      <th>2024-08-29</th>\n",
       "      <td>GOOGL</td>\n",
       "      <td>164.309998</td>\n",
       "      <td>165.970001</td>\n",
       "      <td>160.250000</td>\n",
       "      <td>161.779999</td>\n",
       "      <td>161.565613</td>\n",
       "      <td>19699800</td>\n",
       "    </tr>\n",
       "    <tr>\n",
       "      <th>2024-08-29</th>\n",
       "      <td>AAPL</td>\n",
       "      <td>230.100006</td>\n",
       "      <td>232.919998</td>\n",
       "      <td>228.880005</td>\n",
       "      <td>229.789993</td>\n",
       "      <td>229.789993</td>\n",
       "      <td>51906300</td>\n",
       "    </tr>\n",
       "    <tr>\n",
       "      <th>2024-08-30</th>\n",
       "      <td>AAPL</td>\n",
       "      <td>230.190002</td>\n",
       "      <td>230.399994</td>\n",
       "      <td>227.479996</td>\n",
       "      <td>229.000000</td>\n",
       "      <td>229.000000</td>\n",
       "      <td>52990800</td>\n",
       "    </tr>\n",
       "    <tr>\n",
       "      <th>2024-08-30</th>\n",
       "      <td>GOOGL</td>\n",
       "      <td>162.619995</td>\n",
       "      <td>163.660004</td>\n",
       "      <td>161.690002</td>\n",
       "      <td>163.380005</td>\n",
       "      <td>163.163498</td>\n",
       "      <td>22123800</td>\n",
       "    </tr>\n",
       "  </tbody>\n",
       "</table>\n",
       "<p>336 rows × 7 columns</p>\n",
       "</div>"
      ],
      "text/plain": [
       "           Symbol        Open        High         Low       Close   Adj Close  \\\n",
       "Date                                                                            \n",
       "2024-01-02   AAPL  187.149994  188.440002  183.889999  185.639999  184.938217   \n",
       "2024-01-02  GOOGL  138.550003  139.449997  136.479996  138.169998  137.828705   \n",
       "2024-01-03  GOOGL  137.250000  139.630005  137.080002  138.919998  138.576859   \n",
       "2024-01-03   AAPL  184.220001  185.880005  183.429993  184.250000  183.553467   \n",
       "2024-01-04   AAPL  182.149994  183.089996  180.880005  181.910004  181.222336   \n",
       "...           ...         ...         ...         ...         ...         ...   \n",
       "2024-08-28   AAPL  227.919998  229.860001  225.679993  226.490005  226.490005   \n",
       "2024-08-29  GOOGL  164.309998  165.970001  160.250000  161.779999  161.565613   \n",
       "2024-08-29   AAPL  230.100006  232.919998  228.880005  229.789993  229.789993   \n",
       "2024-08-30   AAPL  230.190002  230.399994  227.479996  229.000000  229.000000   \n",
       "2024-08-30  GOOGL  162.619995  163.660004  161.690002  163.380005  163.163498   \n",
       "\n",
       "              Volume  \n",
       "Date                  \n",
       "2024-01-02  82488700  \n",
       "2024-01-02  23711200  \n",
       "2024-01-03  24212100  \n",
       "2024-01-03  58414500  \n",
       "2024-01-04  71983600  \n",
       "...              ...  \n",
       "2024-08-28  38052200  \n",
       "2024-08-29  19699800  \n",
       "2024-08-29  51906300  \n",
       "2024-08-30  52990800  \n",
       "2024-08-30  22123800  \n",
       "\n",
       "[336 rows x 7 columns]"
      ]
     },
     "execution_count": 49,
     "metadata": {},
     "output_type": "execute_result"
    }
   ],
   "source": [
    "apple_google_CONCAT: pd.DataFrame = (\n",
    "    pd.concat(\n",
    "        [\n",
    "            pivot_apple,\n",
    "            pivot_google\n",
    "        ],\n",
    "        axis = 0\n",
    "    )\n",
    "    .sort_index()\n",
    ")\n",
    "\n",
    "apple_google_CONCAT"
   ]
  },
  {
   "cell_type": "markdown",
   "metadata": {},
   "source": [
    ">### <font color = 'yellow'> POLARS </font>"
   ]
  },
  {
   "cell_type": "code",
   "execution_count": 50,
   "metadata": {},
   "outputs": [
    {
     "data": {
      "text/html": [
       "<div><style>\n",
       ".dataframe > thead > tr,\n",
       ".dataframe > tbody > tr {\n",
       "  text-align: right;\n",
       "  white-space: pre-wrap;\n",
       "}\n",
       "</style>\n",
       "<small>shape: (336, 8)</small><table border=\"1\" class=\"dataframe\"><thead><tr><th>Date</th><th>Symbol</th><th>Open</th><th>High</th><th>Low</th><th>Close</th><th>Adj Close</th><th>Volume</th></tr><tr><td>date</td><td>str</td><td>f64</td><td>f64</td><td>f64</td><td>f64</td><td>f64</td><td>i64</td></tr></thead><tbody><tr><td>2024-01-02</td><td>&quot;AAPL&quot;</td><td>187.149994</td><td>188.440002</td><td>183.889999</td><td>185.639999</td><td>184.938217</td><td>82488700</td></tr><tr><td>2024-01-02</td><td>&quot;GOOGL&quot;</td><td>138.550003</td><td>139.449997</td><td>136.479996</td><td>138.169998</td><td>137.828705</td><td>23711200</td></tr><tr><td>2024-01-03</td><td>&quot;AAPL&quot;</td><td>184.220001</td><td>185.880005</td><td>183.429993</td><td>184.25</td><td>183.553467</td><td>58414500</td></tr><tr><td>2024-01-03</td><td>&quot;GOOGL&quot;</td><td>137.25</td><td>139.630005</td><td>137.080002</td><td>138.919998</td><td>138.576859</td><td>24212100</td></tr><tr><td>2024-01-04</td><td>&quot;AAPL&quot;</td><td>182.149994</td><td>183.089996</td><td>180.880005</td><td>181.910004</td><td>181.222336</td><td>71983600</td></tr><tr><td>&hellip;</td><td>&hellip;</td><td>&hellip;</td><td>&hellip;</td><td>&hellip;</td><td>&hellip;</td><td>&hellip;</td><td>&hellip;</td></tr><tr><td>2024-08-28</td><td>&quot;GOOGL&quot;</td><td>165.039993</td><td>165.600006</td><td>161.529999</td><td>162.850006</td><td>162.634201</td><td>16407400</td></tr><tr><td>2024-08-29</td><td>&quot;AAPL&quot;</td><td>230.100006</td><td>232.919998</td><td>228.880005</td><td>229.789993</td><td>229.789993</td><td>51906300</td></tr><tr><td>2024-08-29</td><td>&quot;GOOGL&quot;</td><td>164.309998</td><td>165.970001</td><td>160.25</td><td>161.779999</td><td>161.565613</td><td>19699800</td></tr><tr><td>2024-08-30</td><td>&quot;AAPL&quot;</td><td>230.190002</td><td>230.399994</td><td>227.479996</td><td>229.0</td><td>229.0</td><td>52990800</td></tr><tr><td>2024-08-30</td><td>&quot;GOOGL&quot;</td><td>162.619995</td><td>163.660004</td><td>161.690002</td><td>163.380005</td><td>163.163498</td><td>22123800</td></tr></tbody></table></div>"
      ],
      "text/plain": [
       "shape: (336, 8)\n",
       "┌────────────┬────────┬────────────┬────────────┬────────────┬────────────┬────────────┬──────────┐\n",
       "│ Date       ┆ Symbol ┆ Open       ┆ High       ┆ Low        ┆ Close      ┆ Adj Close  ┆ Volume   │\n",
       "│ ---        ┆ ---    ┆ ---        ┆ ---        ┆ ---        ┆ ---        ┆ ---        ┆ ---      │\n",
       "│ date       ┆ str    ┆ f64        ┆ f64        ┆ f64        ┆ f64        ┆ f64        ┆ i64      │\n",
       "╞════════════╪════════╪════════════╪════════════╪════════════╪════════════╪════════════╪══════════╡\n",
       "│ 2024-01-02 ┆ AAPL   ┆ 187.149994 ┆ 188.440002 ┆ 183.889999 ┆ 185.639999 ┆ 184.938217 ┆ 82488700 │\n",
       "│ 2024-01-02 ┆ GOOGL  ┆ 138.550003 ┆ 139.449997 ┆ 136.479996 ┆ 138.169998 ┆ 137.828705 ┆ 23711200 │\n",
       "│ 2024-01-03 ┆ AAPL   ┆ 184.220001 ┆ 185.880005 ┆ 183.429993 ┆ 184.25     ┆ 183.553467 ┆ 58414500 │\n",
       "│ 2024-01-03 ┆ GOOGL  ┆ 137.25     ┆ 139.630005 ┆ 137.080002 ┆ 138.919998 ┆ 138.576859 ┆ 24212100 │\n",
       "│ 2024-01-04 ┆ AAPL   ┆ 182.149994 ┆ 183.089996 ┆ 180.880005 ┆ 181.910004 ┆ 181.222336 ┆ 71983600 │\n",
       "│ …          ┆ …      ┆ …          ┆ …          ┆ …          ┆ …          ┆ …          ┆ …        │\n",
       "│ 2024-08-28 ┆ GOOGL  ┆ 165.039993 ┆ 165.600006 ┆ 161.529999 ┆ 162.850006 ┆ 162.634201 ┆ 16407400 │\n",
       "│ 2024-08-29 ┆ AAPL   ┆ 230.100006 ┆ 232.919998 ┆ 228.880005 ┆ 229.789993 ┆ 229.789993 ┆ 51906300 │\n",
       "│ 2024-08-29 ┆ GOOGL  ┆ 164.309998 ┆ 165.970001 ┆ 160.25     ┆ 161.779999 ┆ 161.565613 ┆ 19699800 │\n",
       "│ 2024-08-30 ┆ AAPL   ┆ 230.190002 ┆ 230.399994 ┆ 227.479996 ┆ 229.0      ┆ 229.0      ┆ 52990800 │\n",
       "│ 2024-08-30 ┆ GOOGL  ┆ 162.619995 ┆ 163.660004 ┆ 161.690002 ┆ 163.380005 ┆ 163.163498 ┆ 22123800 │\n",
       "└────────────┴────────┴────────────┴────────────┴────────────┴────────────┴────────────┴──────────┘"
      ]
     },
     "execution_count": 50,
     "metadata": {},
     "output_type": "execute_result"
    }
   ],
   "source": [
    "apple_google_CONCAT_pl: pl.DataFrame = (\n",
    "    pl.concat(\n",
    "        [\n",
    "            pivot_apple_pl,\n",
    "            pivot_google_pl\n",
    "        ],\n",
    "        how = 'vertical'\n",
    "    )\n",
    "    .sort(by = 'Date')\n",
    ")\n",
    "\n",
    "apple_google_CONCAT_pl"
   ]
  },
  {
   "cell_type": "markdown",
   "metadata": {},
   "source": [
    "#### Question 4-3. Please pushes the index into a column and resets to a default integer index."
   ]
  },
  {
   "cell_type": "code",
   "execution_count": 51,
   "metadata": {},
   "outputs": [
    {
     "data": {
      "text/html": [
       "<div>\n",
       "<style scoped>\n",
       "    .dataframe tbody tr th:only-of-type {\n",
       "        vertical-align: middle;\n",
       "    }\n",
       "\n",
       "    .dataframe tbody tr th {\n",
       "        vertical-align: top;\n",
       "    }\n",
       "\n",
       "    .dataframe thead th {\n",
       "        text-align: right;\n",
       "    }\n",
       "</style>\n",
       "<table border=\"1\" class=\"dataframe\">\n",
       "  <thead>\n",
       "    <tr style=\"text-align: right;\">\n",
       "      <th></th>\n",
       "      <th>Date</th>\n",
       "      <th>Symbol</th>\n",
       "      <th>Open</th>\n",
       "      <th>High</th>\n",
       "      <th>Low</th>\n",
       "      <th>Close</th>\n",
       "      <th>Adj Close</th>\n",
       "      <th>Volume</th>\n",
       "    </tr>\n",
       "  </thead>\n",
       "  <tbody>\n",
       "    <tr>\n",
       "      <th>0</th>\n",
       "      <td>2024-01-02</td>\n",
       "      <td>AAPL</td>\n",
       "      <td>187.149994</td>\n",
       "      <td>188.440002</td>\n",
       "      <td>183.889999</td>\n",
       "      <td>185.639999</td>\n",
       "      <td>184.938217</td>\n",
       "      <td>82488700</td>\n",
       "    </tr>\n",
       "    <tr>\n",
       "      <th>1</th>\n",
       "      <td>2024-01-02</td>\n",
       "      <td>GOOGL</td>\n",
       "      <td>138.550003</td>\n",
       "      <td>139.449997</td>\n",
       "      <td>136.479996</td>\n",
       "      <td>138.169998</td>\n",
       "      <td>137.828705</td>\n",
       "      <td>23711200</td>\n",
       "    </tr>\n",
       "    <tr>\n",
       "      <th>2</th>\n",
       "      <td>2024-01-03</td>\n",
       "      <td>GOOGL</td>\n",
       "      <td>137.250000</td>\n",
       "      <td>139.630005</td>\n",
       "      <td>137.080002</td>\n",
       "      <td>138.919998</td>\n",
       "      <td>138.576859</td>\n",
       "      <td>24212100</td>\n",
       "    </tr>\n",
       "    <tr>\n",
       "      <th>3</th>\n",
       "      <td>2024-01-03</td>\n",
       "      <td>AAPL</td>\n",
       "      <td>184.220001</td>\n",
       "      <td>185.880005</td>\n",
       "      <td>183.429993</td>\n",
       "      <td>184.250000</td>\n",
       "      <td>183.553467</td>\n",
       "      <td>58414500</td>\n",
       "    </tr>\n",
       "    <tr>\n",
       "      <th>4</th>\n",
       "      <td>2024-01-04</td>\n",
       "      <td>AAPL</td>\n",
       "      <td>182.149994</td>\n",
       "      <td>183.089996</td>\n",
       "      <td>180.880005</td>\n",
       "      <td>181.910004</td>\n",
       "      <td>181.222336</td>\n",
       "      <td>71983600</td>\n",
       "    </tr>\n",
       "  </tbody>\n",
       "</table>\n",
       "</div>"
      ],
      "text/plain": [
       "        Date Symbol        Open        High         Low       Close  \\\n",
       "0 2024-01-02   AAPL  187.149994  188.440002  183.889999  185.639999   \n",
       "1 2024-01-02  GOOGL  138.550003  139.449997  136.479996  138.169998   \n",
       "2 2024-01-03  GOOGL  137.250000  139.630005  137.080002  138.919998   \n",
       "3 2024-01-03   AAPL  184.220001  185.880005  183.429993  184.250000   \n",
       "4 2024-01-04   AAPL  182.149994  183.089996  180.880005  181.910004   \n",
       "\n",
       "    Adj Close    Volume  \n",
       "0  184.938217  82488700  \n",
       "1  137.828705  23711200  \n",
       "2  138.576859  24212100  \n",
       "3  183.553467  58414500  \n",
       "4  181.222336  71983600  "
      ]
     },
     "execution_count": 51,
     "metadata": {},
     "output_type": "execute_result"
    }
   ],
   "source": [
    "apple_google_CONCAT: pd.DataFrame = apple_google_CONCAT.reset_index()\n",
    "\n",
    "apple_google_CONCAT.head()"
   ]
  },
  {
   "cell_type": "markdown",
   "metadata": {},
   "source": [
    "#### Question 4-4. Please pivot Date into the Index, make the columns match the unique values in the Symbol column, and the values will be the AdjClose values"
   ]
  },
  {
   "cell_type": "code",
   "execution_count": 52,
   "metadata": {},
   "outputs": [
    {
     "data": {
      "text/html": [
       "<div>\n",
       "<style scoped>\n",
       "    .dataframe tbody tr th:only-of-type {\n",
       "        vertical-align: middle;\n",
       "    }\n",
       "\n",
       "    .dataframe tbody tr th {\n",
       "        vertical-align: top;\n",
       "    }\n",
       "\n",
       "    .dataframe thead th {\n",
       "        text-align: right;\n",
       "    }\n",
       "</style>\n",
       "<table border=\"1\" class=\"dataframe\">\n",
       "  <thead>\n",
       "    <tr style=\"text-align: right;\">\n",
       "      <th>Symbol</th>\n",
       "      <th>AAPL</th>\n",
       "      <th>GOOGL</th>\n",
       "    </tr>\n",
       "    <tr>\n",
       "      <th>Date</th>\n",
       "      <th></th>\n",
       "      <th></th>\n",
       "    </tr>\n",
       "  </thead>\n",
       "  <tbody>\n",
       "    <tr>\n",
       "      <th>2024-01-02</th>\n",
       "      <td>184.938217</td>\n",
       "      <td>137.828705</td>\n",
       "    </tr>\n",
       "    <tr>\n",
       "      <th>2024-01-03</th>\n",
       "      <td>183.553467</td>\n",
       "      <td>138.576859</td>\n",
       "    </tr>\n",
       "    <tr>\n",
       "      <th>2024-01-04</th>\n",
       "      <td>181.222336</td>\n",
       "      <td>136.053101</td>\n",
       "    </tr>\n",
       "    <tr>\n",
       "      <th>2024-01-05</th>\n",
       "      <td>180.495071</td>\n",
       "      <td>135.394745</td>\n",
       "    </tr>\n",
       "    <tr>\n",
       "      <th>2024-01-08</th>\n",
       "      <td>184.858521</td>\n",
       "      <td>138.497055</td>\n",
       "    </tr>\n",
       "    <tr>\n",
       "      <th>...</th>\n",
       "      <td>...</td>\n",
       "      <td>...</td>\n",
       "    </tr>\n",
       "    <tr>\n",
       "      <th>2024-08-26</th>\n",
       "      <td>227.179993</td>\n",
       "      <td>165.939804</td>\n",
       "    </tr>\n",
       "    <tr>\n",
       "      <th>2024-08-27</th>\n",
       "      <td>228.029999</td>\n",
       "      <td>164.461761</td>\n",
       "    </tr>\n",
       "    <tr>\n",
       "      <th>2024-08-28</th>\n",
       "      <td>226.490005</td>\n",
       "      <td>162.634201</td>\n",
       "    </tr>\n",
       "    <tr>\n",
       "      <th>2024-08-29</th>\n",
       "      <td>229.789993</td>\n",
       "      <td>161.565613</td>\n",
       "    </tr>\n",
       "    <tr>\n",
       "      <th>2024-08-30</th>\n",
       "      <td>229.000000</td>\n",
       "      <td>163.163498</td>\n",
       "    </tr>\n",
       "  </tbody>\n",
       "</table>\n",
       "<p>168 rows × 2 columns</p>\n",
       "</div>"
      ],
      "text/plain": [
       "Symbol            AAPL       GOOGL\n",
       "Date                              \n",
       "2024-01-02  184.938217  137.828705\n",
       "2024-01-03  183.553467  138.576859\n",
       "2024-01-04  181.222336  136.053101\n",
       "2024-01-05  180.495071  135.394745\n",
       "2024-01-08  184.858521  138.497055\n",
       "...                ...         ...\n",
       "2024-08-26  227.179993  165.939804\n",
       "2024-08-27  228.029999  164.461761\n",
       "2024-08-28  226.490005  162.634201\n",
       "2024-08-29  229.789993  161.565613\n",
       "2024-08-30  229.000000  163.163498\n",
       "\n",
       "[168 rows x 2 columns]"
      ]
     },
     "execution_count": 52,
     "metadata": {},
     "output_type": "execute_result"
    }
   ],
   "source": [
    "(\n",
    "    apple_google_CONCAT\n",
    "    .pivot(\n",
    "        index = 'Date',\n",
    "        columns = 'Symbol',\n",
    "        values = 'Adj Close'\n",
    "    )\n",
    ")"
   ]
  },
  {
   "cell_type": "markdown",
   "metadata": {},
   "source": [
    "### Let's execute `stacking` and `unstacking`"
   ]
  },
  {
   "cell_type": "markdown",
   "metadata": {},
   "source": [
    "### Question 5-1. Please stack the first level of columns into the index.\n",
    "\n",
    "### Let's move AAPL and GOOGL into the index leaving a single colum which is the AdjClose values"
   ]
  },
  {
   "cell_type": "code",
   "execution_count": 53,
   "metadata": {},
   "outputs": [
    {
     "name": "stdout",
     "output_type": "stream",
     "text": [
      "Date        Symbol\n",
      "2024-01-02  AAPL      184.938217\n",
      "            GOOGL     137.828705\n",
      "2024-01-03  GOOGL     138.576859\n",
      "            AAPL      183.553467\n",
      "2024-01-04  AAPL      181.222336\n",
      "                         ...    \n",
      "2024-08-28  AAPL      226.490005\n",
      "2024-08-29  GOOGL     161.565613\n",
      "            AAPL      229.789993\n",
      "2024-08-30  AAPL      229.000000\n",
      "            GOOGL     163.163498\n",
      "Name: Adj Close, Length: 336, dtype: float64\n"
     ]
    }
   ],
   "source": [
    "apple_google_INDEX: pd.Series = (\n",
    "    apple_google_CONCAT\n",
    "    .set_index(\n",
    "        ['Date', 'Symbol']\n",
    "    )\n",
    "    ['Adj Close']\n",
    ")\n",
    "\n",
    "print(apple_google_INDEX)"
   ]
  },
  {
   "cell_type": "markdown",
   "metadata": {},
   "source": [
    "> Using `.loc` we can retrieve close values by specifying both the date and ticker"
   ]
  },
  {
   "cell_type": "code",
   "execution_count": 54,
   "metadata": {},
   "outputs": [
    {
     "data": {
      "text/plain": [
       "181.2223358154297"
      ]
     },
     "execution_count": 54,
     "metadata": {},
     "output_type": "execute_result"
    }
   ],
   "source": [
    "(\n",
    "    apple_google_INDEX\n",
    "    .loc\n",
    "    [\n",
    "        ('2024-01-04', 'AAPL')\n",
    "    ]\n",
    ")"
   ]
  },
  {
   "cell_type": "markdown",
   "metadata": {},
   "source": [
    "#### Question 5-2. Please lookup on just the date, which will give us two values one each for AAPL and GOOGL.  "
   ]
  },
  {
   "cell_type": "code",
   "execution_count": 55,
   "metadata": {},
   "outputs": [
    {
     "data": {
      "text/plain": [
       "Symbol\n",
       "AAPL     181.222336\n",
       "GOOGL    136.053101\n",
       "Name: Adj Close, dtype: float64"
      ]
     },
     "execution_count": 55,
     "metadata": {},
     "output_type": "execute_result"
    }
   ],
   "source": [
    "(\n",
    "    apple_google_INDEX\n",
    "    .loc\n",
    "    [\n",
    "        ('2024-01-04')\n",
    "    ]\n",
    ")"
   ]
  },
  {
   "cell_type": "markdown",
   "metadata": {},
   "source": [
    "> Let's have a look at all values for the GOOGL symbol"
   ]
  },
  {
   "cell_type": "code",
   "execution_count": 56,
   "metadata": {},
   "outputs": [
    {
     "data": {
      "text/plain": [
       "Date        Symbol\n",
       "2024-01-02  GOOGL     137.828705\n",
       "2024-01-03  GOOGL     138.576859\n",
       "2024-01-04  GOOGL     136.053101\n",
       "2024-01-05  GOOGL     135.394745\n",
       "2024-01-08  GOOGL     138.497055\n",
       "                         ...    \n",
       "2024-08-26  GOOGL     165.939804\n",
       "2024-08-27  GOOGL     164.461761\n",
       "2024-08-28  GOOGL     162.634201\n",
       "2024-08-29  GOOGL     161.565613\n",
       "2024-08-30  GOOGL     163.163498\n",
       "Name: Adj Close, Length: 168, dtype: float64"
      ]
     },
     "execution_count": 56,
     "metadata": {},
     "output_type": "execute_result"
    }
   ],
   "source": [
    "(\n",
    "    apple_google_INDEX\n",
    "    .loc\n",
    "    [\n",
    "        apple_google_INDEX\n",
    "        .index\n",
    "        .get_level_values('Symbol') == 'GOOGL'\n",
    "    ]\n",
    ")"
   ]
  },
  {
   "cell_type": "markdown",
   "metadata": {},
   "source": [
    "#### Question 5-3. Please pivot the last level of the index back into a column"
   ]
  },
  {
   "cell_type": "code",
   "execution_count": 57,
   "metadata": {},
   "outputs": [
    {
     "data": {
      "text/html": [
       "<div>\n",
       "<style scoped>\n",
       "    .dataframe tbody tr th:only-of-type {\n",
       "        vertical-align: middle;\n",
       "    }\n",
       "\n",
       "    .dataframe tbody tr th {\n",
       "        vertical-align: top;\n",
       "    }\n",
       "\n",
       "    .dataframe thead th {\n",
       "        text-align: right;\n",
       "    }\n",
       "</style>\n",
       "<table border=\"1\" class=\"dataframe\">\n",
       "  <thead>\n",
       "    <tr style=\"text-align: right;\">\n",
       "      <th>Symbol</th>\n",
       "      <th>AAPL</th>\n",
       "      <th>GOOGL</th>\n",
       "    </tr>\n",
       "    <tr>\n",
       "      <th>Date</th>\n",
       "      <th></th>\n",
       "      <th></th>\n",
       "    </tr>\n",
       "  </thead>\n",
       "  <tbody>\n",
       "    <tr>\n",
       "      <th>2024-01-02</th>\n",
       "      <td>184.938217</td>\n",
       "      <td>137.828705</td>\n",
       "    </tr>\n",
       "    <tr>\n",
       "      <th>2024-01-03</th>\n",
       "      <td>183.553467</td>\n",
       "      <td>138.576859</td>\n",
       "    </tr>\n",
       "    <tr>\n",
       "      <th>2024-01-04</th>\n",
       "      <td>181.222336</td>\n",
       "      <td>136.053101</td>\n",
       "    </tr>\n",
       "  </tbody>\n",
       "</table>\n",
       "</div>"
      ],
      "text/plain": [
       "Symbol            AAPL       GOOGL\n",
       "Date                              \n",
       "2024-01-02  184.938217  137.828705\n",
       "2024-01-03  183.553467  138.576859\n",
       "2024-01-04  181.222336  136.053101"
      ]
     },
     "execution_count": 57,
     "metadata": {},
     "output_type": "execute_result"
    }
   ],
   "source": [
    "(\n",
    "    apple_google_INDEX\n",
    "    .reset_index(\n",
    "        level = [1]\n",
    "    )\n",
    "    .pivot(\n",
    "        # index is not needed because Date is already the index\n",
    "        columns = 'Symbol', \n",
    "        values = 'Adj Close'\n",
    "    )\n",
    "    .head(3)\n",
    ")"
   ]
  },
  {
   "cell_type": "markdown",
   "metadata": {},
   "source": [
    "### Now, let's do some `melting`"
   ]
  },
  {
   "cell_type": "markdown",
   "metadata": {},
   "source": [
    "### Question 6-1. Please use `melt` to make id_vars of Date and Symbol, making the column names the variable and the for each the value"
   ]
  },
  {
   "cell_type": "code",
   "execution_count": 58,
   "metadata": {},
   "outputs": [
    {
     "data": {
      "text/html": [
       "<div>\n",
       "<style scoped>\n",
       "    .dataframe tbody tr th:only-of-type {\n",
       "        vertical-align: middle;\n",
       "    }\n",
       "\n",
       "    .dataframe tbody tr th {\n",
       "        vertical-align: top;\n",
       "    }\n",
       "\n",
       "    .dataframe thead th {\n",
       "        text-align: right;\n",
       "    }\n",
       "</style>\n",
       "<table border=\"1\" class=\"dataframe\">\n",
       "  <thead>\n",
       "    <tr style=\"text-align: right;\">\n",
       "      <th></th>\n",
       "      <th>Date</th>\n",
       "      <th>Symbol</th>\n",
       "      <th>variable</th>\n",
       "      <th>value</th>\n",
       "    </tr>\n",
       "  </thead>\n",
       "  <tbody>\n",
       "    <tr>\n",
       "      <th>0</th>\n",
       "      <td>2024-01-02</td>\n",
       "      <td>AAPL</td>\n",
       "      <td>Open</td>\n",
       "      <td>187.149994</td>\n",
       "    </tr>\n",
       "    <tr>\n",
       "      <th>1</th>\n",
       "      <td>2024-01-02</td>\n",
       "      <td>GOOGL</td>\n",
       "      <td>Open</td>\n",
       "      <td>138.550003</td>\n",
       "    </tr>\n",
       "    <tr>\n",
       "      <th>2</th>\n",
       "      <td>2024-01-03</td>\n",
       "      <td>GOOGL</td>\n",
       "      <td>Open</td>\n",
       "      <td>137.250000</td>\n",
       "    </tr>\n",
       "    <tr>\n",
       "      <th>3</th>\n",
       "      <td>2024-01-03</td>\n",
       "      <td>AAPL</td>\n",
       "      <td>Open</td>\n",
       "      <td>184.220001</td>\n",
       "    </tr>\n",
       "    <tr>\n",
       "      <th>4</th>\n",
       "      <td>2024-01-04</td>\n",
       "      <td>AAPL</td>\n",
       "      <td>Open</td>\n",
       "      <td>182.149994</td>\n",
       "    </tr>\n",
       "  </tbody>\n",
       "</table>\n",
       "</div>"
      ],
      "text/plain": [
       "        Date Symbol variable       value\n",
       "0 2024-01-02   AAPL     Open  187.149994\n",
       "1 2024-01-02  GOOGL     Open  138.550003\n",
       "2 2024-01-03  GOOGL     Open  137.250000\n",
       "3 2024-01-03   AAPL     Open  184.220001\n",
       "4 2024-01-04   AAPL     Open  182.149994"
      ]
     },
     "execution_count": 58,
     "metadata": {},
     "output_type": "execute_result"
    }
   ],
   "source": [
    "apple_google_MELT: pd.DataFrame = (\n",
    "    apple_google_CONCAT.melt(\n",
    "        id_vars = ['Date', 'Symbol'],\n",
    "        value_vars = apple_google_CONCAT.columns\n",
    "    )\n",
    ")\n",
    "\n",
    "apple_google_MELT.head()"
   ]
  },
  {
   "cell_type": "markdown",
   "metadata": {},
   "source": [
    "#### Question 6-2. Please extract the values for the data for Google on 2024-08-23"
   ]
  },
  {
   "cell_type": "code",
   "execution_count": 59,
   "metadata": {},
   "outputs": [
    {
     "data": {
      "text/html": [
       "<div>\n",
       "<style scoped>\n",
       "    .dataframe tbody tr th:only-of-type {\n",
       "        vertical-align: middle;\n",
       "    }\n",
       "\n",
       "    .dataframe tbody tr th {\n",
       "        vertical-align: top;\n",
       "    }\n",
       "\n",
       "    .dataframe thead th {\n",
       "        text-align: right;\n",
       "    }\n",
       "</style>\n",
       "<table border=\"1\" class=\"dataframe\">\n",
       "  <thead>\n",
       "    <tr style=\"text-align: right;\">\n",
       "      <th></th>\n",
       "      <th>Date</th>\n",
       "      <th>Symbol</th>\n",
       "      <th>variable</th>\n",
       "      <th>value</th>\n",
       "    </tr>\n",
       "  </thead>\n",
       "  <tbody>\n",
       "    <tr>\n",
       "      <th>325</th>\n",
       "      <td>2024-08-23</td>\n",
       "      <td>GOOGL</td>\n",
       "      <td>Open</td>\n",
       "      <td>1.647200e+02</td>\n",
       "    </tr>\n",
       "    <tr>\n",
       "      <th>661</th>\n",
       "      <td>2024-08-23</td>\n",
       "      <td>GOOGL</td>\n",
       "      <td>High</td>\n",
       "      <td>1.661800e+02</td>\n",
       "    </tr>\n",
       "    <tr>\n",
       "      <th>997</th>\n",
       "      <td>2024-08-23</td>\n",
       "      <td>GOOGL</td>\n",
       "      <td>Low</td>\n",
       "      <td>1.638300e+02</td>\n",
       "    </tr>\n",
       "    <tr>\n",
       "      <th>1333</th>\n",
       "      <td>2024-08-23</td>\n",
       "      <td>GOOGL</td>\n",
       "      <td>Close</td>\n",
       "      <td>1.656200e+02</td>\n",
       "    </tr>\n",
       "    <tr>\n",
       "      <th>1669</th>\n",
       "      <td>2024-08-23</td>\n",
       "      <td>GOOGL</td>\n",
       "      <td>Adj Close</td>\n",
       "      <td>1.654005e+02</td>\n",
       "    </tr>\n",
       "    <tr>\n",
       "      <th>2005</th>\n",
       "      <td>2024-08-23</td>\n",
       "      <td>GOOGL</td>\n",
       "      <td>Volume</td>\n",
       "      <td>1.395570e+07</td>\n",
       "    </tr>\n",
       "  </tbody>\n",
       "</table>\n",
       "</div>"
      ],
      "text/plain": [
       "           Date Symbol   variable         value\n",
       "325  2024-08-23  GOOGL       Open  1.647200e+02\n",
       "661  2024-08-23  GOOGL       High  1.661800e+02\n",
       "997  2024-08-23  GOOGL        Low  1.638300e+02\n",
       "1333 2024-08-23  GOOGL      Close  1.656200e+02\n",
       "1669 2024-08-23  GOOGL  Adj Close  1.654005e+02\n",
       "2005 2024-08-23  GOOGL     Volume  1.395570e+07"
      ]
     },
     "execution_count": 59,
     "metadata": {},
     "output_type": "execute_result"
    }
   ],
   "source": [
    "(\n",
    "    apple_google_MELT\n",
    "    [\n",
    "        (apple_google_MELT['Date'] == '2024-08-23')\n",
    "        &\n",
    "        (apple_google_MELT['Symbol'] == 'GOOGL')        \n",
    "    ]\n",
    ")"
   ]
  },
  {
   "cell_type": "markdown",
   "metadata": {},
   "source": [
    "### Let's do some grouping and aggregation"
   ]
  },
  {
   "cell_type": "markdown",
   "metadata": {},
   "source": [
    "##### To do so, we will do some splitting first."
   ]
  },
  {
   "cell_type": "markdown",
   "metadata": {},
   "source": [
    "> Let's construct a DataFrame to demonstrate splitting\n",
    "\n",
    "### Question 7-1. Please extract from combined the Symbol and AdjClose, and reset the index"
   ]
  },
  {
   "cell_type": "code",
   "execution_count": 60,
   "metadata": {},
   "outputs": [
    {
     "data": {
      "text/plain": [
       "pandas.core.series.Series"
      ]
     },
     "execution_count": 60,
     "metadata": {},
     "output_type": "execute_result"
    }
   ],
   "source": [
    "type(apple_google_INDEX)"
   ]
  },
  {
   "cell_type": "code",
   "execution_count": 61,
   "metadata": {},
   "outputs": [
    {
     "data": {
      "text/html": [
       "<div>\n",
       "<style scoped>\n",
       "    .dataframe tbody tr th:only-of-type {\n",
       "        vertical-align: middle;\n",
       "    }\n",
       "\n",
       "    .dataframe tbody tr th {\n",
       "        vertical-align: top;\n",
       "    }\n",
       "\n",
       "    .dataframe thead th {\n",
       "        text-align: right;\n",
       "    }\n",
       "</style>\n",
       "<table border=\"1\" class=\"dataframe\">\n",
       "  <thead>\n",
       "    <tr style=\"text-align: right;\">\n",
       "      <th></th>\n",
       "      <th>Date</th>\n",
       "      <th>Symbol</th>\n",
       "      <th>Adj Close</th>\n",
       "    </tr>\n",
       "  </thead>\n",
       "  <tbody>\n",
       "    <tr>\n",
       "      <th>0</th>\n",
       "      <td>2024-01-02</td>\n",
       "      <td>AAPL</td>\n",
       "      <td>184.938217</td>\n",
       "    </tr>\n",
       "    <tr>\n",
       "      <th>1</th>\n",
       "      <td>2024-01-02</td>\n",
       "      <td>GOOGL</td>\n",
       "      <td>137.828705</td>\n",
       "    </tr>\n",
       "    <tr>\n",
       "      <th>2</th>\n",
       "      <td>2024-01-03</td>\n",
       "      <td>GOOGL</td>\n",
       "      <td>138.576859</td>\n",
       "    </tr>\n",
       "    <tr>\n",
       "      <th>3</th>\n",
       "      <td>2024-01-03</td>\n",
       "      <td>AAPL</td>\n",
       "      <td>183.553467</td>\n",
       "    </tr>\n",
       "    <tr>\n",
       "      <th>4</th>\n",
       "      <td>2024-01-04</td>\n",
       "      <td>AAPL</td>\n",
       "      <td>181.222336</td>\n",
       "    </tr>\n",
       "    <tr>\n",
       "      <th>...</th>\n",
       "      <td>...</td>\n",
       "      <td>...</td>\n",
       "      <td>...</td>\n",
       "    </tr>\n",
       "    <tr>\n",
       "      <th>331</th>\n",
       "      <td>2024-08-28</td>\n",
       "      <td>AAPL</td>\n",
       "      <td>226.490005</td>\n",
       "    </tr>\n",
       "    <tr>\n",
       "      <th>332</th>\n",
       "      <td>2024-08-29</td>\n",
       "      <td>GOOGL</td>\n",
       "      <td>161.565613</td>\n",
       "    </tr>\n",
       "    <tr>\n",
       "      <th>333</th>\n",
       "      <td>2024-08-29</td>\n",
       "      <td>AAPL</td>\n",
       "      <td>229.789993</td>\n",
       "    </tr>\n",
       "    <tr>\n",
       "      <th>334</th>\n",
       "      <td>2024-08-30</td>\n",
       "      <td>AAPL</td>\n",
       "      <td>229.000000</td>\n",
       "    </tr>\n",
       "    <tr>\n",
       "      <th>335</th>\n",
       "      <td>2024-08-30</td>\n",
       "      <td>GOOGL</td>\n",
       "      <td>163.163498</td>\n",
       "    </tr>\n",
       "  </tbody>\n",
       "</table>\n",
       "<p>336 rows × 3 columns</p>\n",
       "</div>"
      ],
      "text/plain": [
       "          Date Symbol   Adj Close\n",
       "0   2024-01-02   AAPL  184.938217\n",
       "1   2024-01-02  GOOGL  137.828705\n",
       "2   2024-01-03  GOOGL  138.576859\n",
       "3   2024-01-03   AAPL  183.553467\n",
       "4   2024-01-04   AAPL  181.222336\n",
       "..         ...    ...         ...\n",
       "331 2024-08-28   AAPL  226.490005\n",
       "332 2024-08-29  GOOGL  161.565613\n",
       "333 2024-08-29   AAPL  229.789993\n",
       "334 2024-08-30   AAPL  229.000000\n",
       "335 2024-08-30  GOOGL  163.163498\n",
       "\n",
       "[336 rows x 3 columns]"
      ]
     },
     "execution_count": 61,
     "metadata": {},
     "output_type": "execute_result"
    }
   ],
   "source": [
    "apple_google_GROUPING: pd.DataFrame = (\n",
    "    apple_google_INDEX\n",
    "    .to_frame()\n",
    "    .reset_index()\n",
    ")\n",
    "\n",
    "apple_google_GROUPING"
   ]
  },
  {
   "cell_type": "markdown",
   "metadata": {},
   "source": [
    ">### <font color = 'yellow'> POLARS </font>"
   ]
  },
  {
   "cell_type": "code",
   "execution_count": 62,
   "metadata": {},
   "outputs": [
    {
     "data": {
      "text/html": [
       "<div><style>\n",
       ".dataframe > thead > tr,\n",
       ".dataframe > tbody > tr {\n",
       "  text-align: right;\n",
       "  white-space: pre-wrap;\n",
       "}\n",
       "</style>\n",
       "<small>shape: (336, 3)</small><table border=\"1\" class=\"dataframe\"><thead><tr><th>Date</th><th>Symbol</th><th>Adj Close</th></tr><tr><td>date</td><td>str</td><td>f64</td></tr></thead><tbody><tr><td>2024-01-02</td><td>&quot;AAPL&quot;</td><td>184.938217</td></tr><tr><td>2024-01-02</td><td>&quot;GOOGL&quot;</td><td>137.828705</td></tr><tr><td>2024-01-03</td><td>&quot;GOOGL&quot;</td><td>138.576859</td></tr><tr><td>2024-01-03</td><td>&quot;AAPL&quot;</td><td>183.553467</td></tr><tr><td>2024-01-04</td><td>&quot;AAPL&quot;</td><td>181.222336</td></tr><tr><td>&hellip;</td><td>&hellip;</td><td>&hellip;</td></tr><tr><td>2024-08-28</td><td>&quot;AAPL&quot;</td><td>226.490005</td></tr><tr><td>2024-08-29</td><td>&quot;GOOGL&quot;</td><td>161.565613</td></tr><tr><td>2024-08-29</td><td>&quot;AAPL&quot;</td><td>229.789993</td></tr><tr><td>2024-08-30</td><td>&quot;AAPL&quot;</td><td>229.0</td></tr><tr><td>2024-08-30</td><td>&quot;GOOGL&quot;</td><td>163.163498</td></tr></tbody></table></div>"
      ],
      "text/plain": [
       "shape: (336, 3)\n",
       "┌────────────┬────────┬────────────┐\n",
       "│ Date       ┆ Symbol ┆ Adj Close  │\n",
       "│ ---        ┆ ---    ┆ ---        │\n",
       "│ date       ┆ str    ┆ f64        │\n",
       "╞════════════╪════════╪════════════╡\n",
       "│ 2024-01-02 ┆ AAPL   ┆ 184.938217 │\n",
       "│ 2024-01-02 ┆ GOOGL  ┆ 137.828705 │\n",
       "│ 2024-01-03 ┆ GOOGL  ┆ 138.576859 │\n",
       "│ 2024-01-03 ┆ AAPL   ┆ 183.553467 │\n",
       "│ 2024-01-04 ┆ AAPL   ┆ 181.222336 │\n",
       "│ …          ┆ …      ┆ …          │\n",
       "│ 2024-08-28 ┆ AAPL   ┆ 226.490005 │\n",
       "│ 2024-08-29 ┆ GOOGL  ┆ 161.565613 │\n",
       "│ 2024-08-29 ┆ AAPL   ┆ 229.789993 │\n",
       "│ 2024-08-30 ┆ AAPL   ┆ 229.0      │\n",
       "│ 2024-08-30 ┆ GOOGL  ┆ 163.163498 │\n",
       "└────────────┴────────┴────────────┘"
      ]
     },
     "execution_count": 62,
     "metadata": {},
     "output_type": "execute_result"
    }
   ],
   "source": [
    "apple_google_GROUPING_pl: pl.DataFrame = (\n",
    "    pl.from_pandas(\n",
    "        apple_google_GROUPING\n",
    "    )\n",
    "    .with_columns(\n",
    "        pl.col('Date')\n",
    "        .cast(pl.Date)\n",
    "    )\n",
    ")\n",
    "\n",
    "apple_google_GROUPING_pl"
   ]
  },
  {
   "cell_type": "markdown",
   "metadata": {},
   "source": [
    "#### Question 7-2. Please add two columns, year and month, using the year and month portions of the data as integers"
   ]
  },
  {
   "cell_type": "code",
   "execution_count": 63,
   "metadata": {},
   "outputs": [
    {
     "name": "stdout",
     "output_type": "stream",
     "text": [
      "<class 'pandas.core.frame.DataFrame'>\n",
      "RangeIndex: 336 entries, 0 to 335\n",
      "Data columns (total 3 columns):\n",
      " #   Column     Non-Null Count  Dtype         \n",
      "---  ------     --------------  -----         \n",
      " 0   Date       336 non-null    datetime64[ns]\n",
      " 1   Symbol     336 non-null    object        \n",
      " 2   Adj Close  336 non-null    float64       \n",
      "dtypes: datetime64[ns](1), float64(1), object(1)\n",
      "memory usage: 8.0+ KB\n"
     ]
    }
   ],
   "source": [
    "apple_google_GROUPING.info()"
   ]
  },
  {
   "cell_type": "code",
   "execution_count": 64,
   "metadata": {},
   "outputs": [
    {
     "data": {
      "text/html": [
       "<div>\n",
       "<style scoped>\n",
       "    .dataframe tbody tr th:only-of-type {\n",
       "        vertical-align: middle;\n",
       "    }\n",
       "\n",
       "    .dataframe tbody tr th {\n",
       "        vertical-align: top;\n",
       "    }\n",
       "\n",
       "    .dataframe thead th {\n",
       "        text-align: right;\n",
       "    }\n",
       "</style>\n",
       "<table border=\"1\" class=\"dataframe\">\n",
       "  <thead>\n",
       "    <tr style=\"text-align: right;\">\n",
       "      <th></th>\n",
       "      <th>Date</th>\n",
       "      <th>Year</th>\n",
       "      <th>Symbol</th>\n",
       "      <th>Adj Close</th>\n",
       "    </tr>\n",
       "  </thead>\n",
       "  <tbody>\n",
       "    <tr>\n",
       "      <th>0</th>\n",
       "      <td>2024-01-02</td>\n",
       "      <td>2024</td>\n",
       "      <td>AAPL</td>\n",
       "      <td>184.938217</td>\n",
       "    </tr>\n",
       "    <tr>\n",
       "      <th>1</th>\n",
       "      <td>2024-01-02</td>\n",
       "      <td>2024</td>\n",
       "      <td>GOOGL</td>\n",
       "      <td>137.828705</td>\n",
       "    </tr>\n",
       "    <tr>\n",
       "      <th>2</th>\n",
       "      <td>2024-01-03</td>\n",
       "      <td>2024</td>\n",
       "      <td>GOOGL</td>\n",
       "      <td>138.576859</td>\n",
       "    </tr>\n",
       "    <tr>\n",
       "      <th>3</th>\n",
       "      <td>2024-01-03</td>\n",
       "      <td>2024</td>\n",
       "      <td>AAPL</td>\n",
       "      <td>183.553467</td>\n",
       "    </tr>\n",
       "    <tr>\n",
       "      <th>4</th>\n",
       "      <td>2024-01-04</td>\n",
       "      <td>2024</td>\n",
       "      <td>AAPL</td>\n",
       "      <td>181.222336</td>\n",
       "    </tr>\n",
       "    <tr>\n",
       "      <th>...</th>\n",
       "      <td>...</td>\n",
       "      <td>...</td>\n",
       "      <td>...</td>\n",
       "      <td>...</td>\n",
       "    </tr>\n",
       "    <tr>\n",
       "      <th>331</th>\n",
       "      <td>2024-08-28</td>\n",
       "      <td>2024</td>\n",
       "      <td>AAPL</td>\n",
       "      <td>226.490005</td>\n",
       "    </tr>\n",
       "    <tr>\n",
       "      <th>332</th>\n",
       "      <td>2024-08-29</td>\n",
       "      <td>2024</td>\n",
       "      <td>GOOGL</td>\n",
       "      <td>161.565613</td>\n",
       "    </tr>\n",
       "    <tr>\n",
       "      <th>333</th>\n",
       "      <td>2024-08-29</td>\n",
       "      <td>2024</td>\n",
       "      <td>AAPL</td>\n",
       "      <td>229.789993</td>\n",
       "    </tr>\n",
       "    <tr>\n",
       "      <th>334</th>\n",
       "      <td>2024-08-30</td>\n",
       "      <td>2024</td>\n",
       "      <td>AAPL</td>\n",
       "      <td>229.000000</td>\n",
       "    </tr>\n",
       "    <tr>\n",
       "      <th>335</th>\n",
       "      <td>2024-08-30</td>\n",
       "      <td>2024</td>\n",
       "      <td>GOOGL</td>\n",
       "      <td>163.163498</td>\n",
       "    </tr>\n",
       "  </tbody>\n",
       "</table>\n",
       "<p>336 rows × 4 columns</p>\n",
       "</div>"
      ],
      "text/plain": [
       "          Date  Year Symbol   Adj Close\n",
       "0   2024-01-02  2024   AAPL  184.938217\n",
       "1   2024-01-02  2024  GOOGL  137.828705\n",
       "2   2024-01-03  2024  GOOGL  138.576859\n",
       "3   2024-01-03  2024   AAPL  183.553467\n",
       "4   2024-01-04  2024   AAPL  181.222336\n",
       "..         ...   ...    ...         ...\n",
       "331 2024-08-28  2024   AAPL  226.490005\n",
       "332 2024-08-29  2024  GOOGL  161.565613\n",
       "333 2024-08-29  2024   AAPL  229.789993\n",
       "334 2024-08-30  2024   AAPL  229.000000\n",
       "335 2024-08-30  2024  GOOGL  163.163498\n",
       "\n",
       "[336 rows x 4 columns]"
      ]
     },
     "execution_count": 64,
     "metadata": {},
     "output_type": "execute_result"
    }
   ],
   "source": [
    "(\n",
    "    apple_google_GROUPING\n",
    "    .insert(\n",
    "        loc = 1,\n",
    "        column = 'Year',\n",
    "        value = apple_google_GROUPING['Date'].dt.year\n",
    "    )\n",
    ")\n",
    "\n",
    "apple_google_GROUPING"
   ]
  },
  {
   "cell_type": "code",
   "execution_count": 65,
   "metadata": {},
   "outputs": [
    {
     "data": {
      "text/html": [
       "<div>\n",
       "<style scoped>\n",
       "    .dataframe tbody tr th:only-of-type {\n",
       "        vertical-align: middle;\n",
       "    }\n",
       "\n",
       "    .dataframe tbody tr th {\n",
       "        vertical-align: top;\n",
       "    }\n",
       "\n",
       "    .dataframe thead th {\n",
       "        text-align: right;\n",
       "    }\n",
       "</style>\n",
       "<table border=\"1\" class=\"dataframe\">\n",
       "  <thead>\n",
       "    <tr style=\"text-align: right;\">\n",
       "      <th></th>\n",
       "      <th>Date</th>\n",
       "      <th>Year</th>\n",
       "      <th>Month</th>\n",
       "      <th>Symbol</th>\n",
       "      <th>Adj Close</th>\n",
       "    </tr>\n",
       "  </thead>\n",
       "  <tbody>\n",
       "    <tr>\n",
       "      <th>0</th>\n",
       "      <td>2024-01-02</td>\n",
       "      <td>2024</td>\n",
       "      <td>1</td>\n",
       "      <td>AAPL</td>\n",
       "      <td>184.938217</td>\n",
       "    </tr>\n",
       "    <tr>\n",
       "      <th>1</th>\n",
       "      <td>2024-01-02</td>\n",
       "      <td>2024</td>\n",
       "      <td>1</td>\n",
       "      <td>GOOGL</td>\n",
       "      <td>137.828705</td>\n",
       "    </tr>\n",
       "    <tr>\n",
       "      <th>2</th>\n",
       "      <td>2024-01-03</td>\n",
       "      <td>2024</td>\n",
       "      <td>1</td>\n",
       "      <td>GOOGL</td>\n",
       "      <td>138.576859</td>\n",
       "    </tr>\n",
       "    <tr>\n",
       "      <th>3</th>\n",
       "      <td>2024-01-03</td>\n",
       "      <td>2024</td>\n",
       "      <td>1</td>\n",
       "      <td>AAPL</td>\n",
       "      <td>183.553467</td>\n",
       "    </tr>\n",
       "    <tr>\n",
       "      <th>4</th>\n",
       "      <td>2024-01-04</td>\n",
       "      <td>2024</td>\n",
       "      <td>1</td>\n",
       "      <td>AAPL</td>\n",
       "      <td>181.222336</td>\n",
       "    </tr>\n",
       "    <tr>\n",
       "      <th>...</th>\n",
       "      <td>...</td>\n",
       "      <td>...</td>\n",
       "      <td>...</td>\n",
       "      <td>...</td>\n",
       "      <td>...</td>\n",
       "    </tr>\n",
       "    <tr>\n",
       "      <th>331</th>\n",
       "      <td>2024-08-28</td>\n",
       "      <td>2024</td>\n",
       "      <td>8</td>\n",
       "      <td>AAPL</td>\n",
       "      <td>226.490005</td>\n",
       "    </tr>\n",
       "    <tr>\n",
       "      <th>332</th>\n",
       "      <td>2024-08-29</td>\n",
       "      <td>2024</td>\n",
       "      <td>8</td>\n",
       "      <td>GOOGL</td>\n",
       "      <td>161.565613</td>\n",
       "    </tr>\n",
       "    <tr>\n",
       "      <th>333</th>\n",
       "      <td>2024-08-29</td>\n",
       "      <td>2024</td>\n",
       "      <td>8</td>\n",
       "      <td>AAPL</td>\n",
       "      <td>229.789993</td>\n",
       "    </tr>\n",
       "    <tr>\n",
       "      <th>334</th>\n",
       "      <td>2024-08-30</td>\n",
       "      <td>2024</td>\n",
       "      <td>8</td>\n",
       "      <td>AAPL</td>\n",
       "      <td>229.000000</td>\n",
       "    </tr>\n",
       "    <tr>\n",
       "      <th>335</th>\n",
       "      <td>2024-08-30</td>\n",
       "      <td>2024</td>\n",
       "      <td>8</td>\n",
       "      <td>GOOGL</td>\n",
       "      <td>163.163498</td>\n",
       "    </tr>\n",
       "  </tbody>\n",
       "</table>\n",
       "<p>336 rows × 5 columns</p>\n",
       "</div>"
      ],
      "text/plain": [
       "          Date  Year  Month Symbol   Adj Close\n",
       "0   2024-01-02  2024      1   AAPL  184.938217\n",
       "1   2024-01-02  2024      1  GOOGL  137.828705\n",
       "2   2024-01-03  2024      1  GOOGL  138.576859\n",
       "3   2024-01-03  2024      1   AAPL  183.553467\n",
       "4   2024-01-04  2024      1   AAPL  181.222336\n",
       "..         ...   ...    ...    ...         ...\n",
       "331 2024-08-28  2024      8   AAPL  226.490005\n",
       "332 2024-08-29  2024      8  GOOGL  161.565613\n",
       "333 2024-08-29  2024      8   AAPL  229.789993\n",
       "334 2024-08-30  2024      8   AAPL  229.000000\n",
       "335 2024-08-30  2024      8  GOOGL  163.163498\n",
       "\n",
       "[336 rows x 5 columns]"
      ]
     },
     "execution_count": 65,
     "metadata": {},
     "output_type": "execute_result"
    }
   ],
   "source": [
    "(\n",
    "    apple_google_GROUPING\n",
    "    .insert(\n",
    "        loc = 2,\n",
    "        column = 'Month',\n",
    "        value = apple_google_GROUPING['Date'].dt.month\n",
    "    )\n",
    ")\n",
    "\n",
    "apple_google_GROUPING"
   ]
  },
  {
   "cell_type": "markdown",
   "metadata": {},
   "source": [
    ">### <font color = 'yellow'> POLARS </font>"
   ]
  },
  {
   "cell_type": "code",
   "execution_count": 66,
   "metadata": {},
   "outputs": [
    {
     "data": {
      "text/html": [
       "<div><style>\n",
       ".dataframe > thead > tr,\n",
       ".dataframe > tbody > tr {\n",
       "  text-align: right;\n",
       "  white-space: pre-wrap;\n",
       "}\n",
       "</style>\n",
       "<small>shape: (336, 5)</small><table border=\"1\" class=\"dataframe\"><thead><tr><th>Date</th><th>Year</th><th>Month</th><th>Symbol</th><th>Adj Close</th></tr><tr><td>date</td><td>i32</td><td>i8</td><td>str</td><td>f64</td></tr></thead><tbody><tr><td>2024-01-02</td><td>2024</td><td>1</td><td>&quot;AAPL&quot;</td><td>184.938217</td></tr><tr><td>2024-01-02</td><td>2024</td><td>1</td><td>&quot;GOOGL&quot;</td><td>137.828705</td></tr><tr><td>2024-01-03</td><td>2024</td><td>1</td><td>&quot;GOOGL&quot;</td><td>138.576859</td></tr><tr><td>2024-01-03</td><td>2024</td><td>1</td><td>&quot;AAPL&quot;</td><td>183.553467</td></tr><tr><td>2024-01-04</td><td>2024</td><td>1</td><td>&quot;AAPL&quot;</td><td>181.222336</td></tr><tr><td>&hellip;</td><td>&hellip;</td><td>&hellip;</td><td>&hellip;</td><td>&hellip;</td></tr><tr><td>2024-08-28</td><td>2024</td><td>8</td><td>&quot;AAPL&quot;</td><td>226.490005</td></tr><tr><td>2024-08-29</td><td>2024</td><td>8</td><td>&quot;GOOGL&quot;</td><td>161.565613</td></tr><tr><td>2024-08-29</td><td>2024</td><td>8</td><td>&quot;AAPL&quot;</td><td>229.789993</td></tr><tr><td>2024-08-30</td><td>2024</td><td>8</td><td>&quot;AAPL&quot;</td><td>229.0</td></tr><tr><td>2024-08-30</td><td>2024</td><td>8</td><td>&quot;GOOGL&quot;</td><td>163.163498</td></tr></tbody></table></div>"
      ],
      "text/plain": [
       "shape: (336, 5)\n",
       "┌────────────┬──────┬───────┬────────┬────────────┐\n",
       "│ Date       ┆ Year ┆ Month ┆ Symbol ┆ Adj Close  │\n",
       "│ ---        ┆ ---  ┆ ---   ┆ ---    ┆ ---        │\n",
       "│ date       ┆ i32  ┆ i8    ┆ str    ┆ f64        │\n",
       "╞════════════╪══════╪═══════╪════════╪════════════╡\n",
       "│ 2024-01-02 ┆ 2024 ┆ 1     ┆ AAPL   ┆ 184.938217 │\n",
       "│ 2024-01-02 ┆ 2024 ┆ 1     ┆ GOOGL  ┆ 137.828705 │\n",
       "│ 2024-01-03 ┆ 2024 ┆ 1     ┆ GOOGL  ┆ 138.576859 │\n",
       "│ 2024-01-03 ┆ 2024 ┆ 1     ┆ AAPL   ┆ 183.553467 │\n",
       "│ 2024-01-04 ┆ 2024 ┆ 1     ┆ AAPL   ┆ 181.222336 │\n",
       "│ …          ┆ …    ┆ …     ┆ …      ┆ …          │\n",
       "│ 2024-08-28 ┆ 2024 ┆ 8     ┆ AAPL   ┆ 226.490005 │\n",
       "│ 2024-08-29 ┆ 2024 ┆ 8     ┆ GOOGL  ┆ 161.565613 │\n",
       "│ 2024-08-29 ┆ 2024 ┆ 8     ┆ AAPL   ┆ 229.789993 │\n",
       "│ 2024-08-30 ┆ 2024 ┆ 8     ┆ AAPL   ┆ 229.0      │\n",
       "│ 2024-08-30 ┆ 2024 ┆ 8     ┆ GOOGL  ┆ 163.163498 │\n",
       "└────────────┴──────┴───────┴────────┴────────────┘"
      ]
     },
     "execution_count": 66,
     "metadata": {},
     "output_type": "execute_result"
    }
   ],
   "source": [
    "apple_google_GROUPING_pl: pl.DataFrame = (\n",
    "    apple_google_GROUPING_pl\n",
    "    .with_columns(\n",
    "        pl.col('Date').dt.year().alias('Year'),\n",
    "        pl.col('Date').dt.month().alias('Month'),   \n",
    "    )\n",
    ")\n",
    "\n",
    "apple_google_GROUPING_pl\n",
    "\n",
    "apple_google_GROUPING_pl.select(['Date', 'Year', 'Month', 'Symbol', 'Adj Close'])"
   ]
  },
  {
   "cell_type": "markdown",
   "metadata": {},
   "source": [
    "> Let's group by the Symbol column"
   ]
  },
  {
   "cell_type": "code",
   "execution_count": 67,
   "metadata": {},
   "outputs": [
    {
     "data": {
      "text/plain": [
       "<pandas.core.groupby.generic.DataFrameGroupBy object at 0x000002C4C050A760>"
      ]
     },
     "execution_count": 67,
     "metadata": {},
     "output_type": "execute_result"
    }
   ],
   "source": [
    "(\n",
    "    apple_google_GROUPING\n",
    "    .groupby('Symbol')\n",
    ")"
   ]
  },
  {
   "cell_type": "markdown",
   "metadata": {},
   "source": [
    ">### <font color = 'yellow'> POLARS </font>"
   ]
  },
  {
   "cell_type": "code",
   "execution_count": 68,
   "metadata": {},
   "outputs": [
    {
     "data": {
      "text/plain": [
       "<polars.dataframe.group_by.GroupBy at 0x2c4c050ac70>"
      ]
     },
     "execution_count": 68,
     "metadata": {},
     "output_type": "execute_result"
    }
   ],
   "source": [
    "(\n",
    "    apple_google_GROUPING_pl\n",
    "    .group_by('Symbol')\n",
    ")"
   ]
  },
  {
   "cell_type": "markdown",
   "metadata": {},
   "source": [
    "> Here, please save the result!"
   ]
  },
  {
   "cell_type": "code",
   "execution_count": 69,
   "metadata": {},
   "outputs": [],
   "source": [
    "apple_google_symbol_GROUP = (\n",
    "    apple_google_GROUPING\n",
    "    .groupby('Symbol')\n",
    ")"
   ]
  },
  {
   "cell_type": "markdown",
   "metadata": {},
   "source": [
    ">### <font color = 'yellow'> POLARS </font>"
   ]
  },
  {
   "cell_type": "code",
   "execution_count": 70,
   "metadata": {},
   "outputs": [],
   "source": [
    "apple_google_symbol_GROUP_pl = (\n",
    "    apple_google_GROUPING_pl\n",
    "    .groupby('Symbol')\n",
    ")"
   ]
  },
  {
   "cell_type": "markdown",
   "metadata": {},
   "source": [
    "> The groupby object has a property groups, which shows how all rows will in mapped into the groups.\n",
    "\n",
    "> The type of this object is a python dict"
   ]
  },
  {
   "cell_type": "code",
   "execution_count": 71,
   "metadata": {},
   "outputs": [
    {
     "data": {
      "text/plain": [
       "pandas.io.formats.printing.PrettyDict"
      ]
     },
     "execution_count": 71,
     "metadata": {},
     "output_type": "execute_result"
    }
   ],
   "source": [
    "type(apple_google_symbol_GROUP.groups)"
   ]
  },
  {
   "cell_type": "markdown",
   "metadata": {},
   "source": [
    "> Let's show the mappings of rows to groups"
   ]
  },
  {
   "cell_type": "code",
   "execution_count": 72,
   "metadata": {},
   "outputs": [
    {
     "data": {
      "text/plain": [
       "{'AAPL': [0, 3, 4, 6, 8, 11, 13, 15, 17, 19, 21, 23, 24, 26, 29, 31, 32, 34, 36, 38, 41, 43, 44, 47, 49, 50, 52, 55, 56, 59, 61, 63, 65, 66, 69, 70, 73, 75, 76, 79, 80, 83, 85, 86, 89, 90, 92, 95, 97, 98, 101, 102, 104, 106, 108, 111, 113, 115, 117, 118, 120, 123, 125, 127, 129, 130, 133, 134, 136, 138, 140, 143, 145, 147, 149, 151, 152, 155, 156, 159, 161, 162, 165, 166, 169, 171, 172, 175, 177, 179, 180, 182, 184, 186, 188, 190, 192, 194, 196, 198, ...], 'GOOGL': [1, 2, 5, 7, 9, 10, 12, 14, 16, 18, 20, 22, 25, 27, 28, 30, 33, 35, 37, 39, 40, 42, 45, 46, 48, 51, 53, 54, 57, 58, 60, 62, 64, 67, 68, 71, 72, 74, 77, 78, 81, 82, 84, 87, 88, 91, 93, 94, 96, 99, 100, 103, 105, 107, 109, 110, 112, 114, 116, 119, 121, 122, 124, 126, 128, 131, 132, 135, 137, 139, 141, 142, 144, 146, 148, 150, 153, 154, 157, 158, 160, 163, 164, 167, 168, 170, 173, 174, 176, 178, 181, 183, 185, 187, 189, 191, 193, 195, 197, 199, ...]}"
      ]
     },
     "execution_count": 72,
     "metadata": {},
     "output_type": "execute_result"
    }
   ],
   "source": [
    "apple_google_symbol_GROUP.groups"
   ]
  },
  {
   "cell_type": "markdown",
   "metadata": {},
   "source": [
    "> Yes, this reports the number of groups that resulted from the grouping"
   ]
  },
  {
   "cell_type": "code",
   "execution_count": 73,
   "metadata": {},
   "outputs": [
    {
     "data": {
      "text/plain": [
       "(2, 2)"
      ]
     },
     "execution_count": 73,
     "metadata": {},
     "output_type": "execute_result"
    }
   ],
   "source": [
    "(\n",
    "    len(\n",
    "        apple_google_symbol_GROUP\n",
    "        .groups\n",
    "        .keys()\n",
    "    ), \n",
    "    len(\n",
    "        apple_google_symbol_GROUP\n",
    "        .groups\n",
    "        .values()\n",
    "    )\n",
    ")"
   ]
  },
  {
   "cell_type": "markdown",
   "metadata": {},
   "source": [
    "### Question 8-1. Please create a function that prints the contents of a group. You might want to look at the outputs below for hints."
   ]
  },
  {
   "cell_type": "markdown",
   "metadata": {},
   "source": [
    "###  When you execute your function you should see the following results."
   ]
  },
  {
   "cell_type": "code",
   "execution_count": 74,
   "metadata": {},
   "outputs": [],
   "source": [
    "def contents_of_group(\n",
    "    grouped_df: pd.DataFrame, \n",
    ") -> None:\n",
    "    for group, content in grouped_df:\n",
    "        print(group)\n",
    "        print(content.head())"
   ]
  },
  {
   "cell_type": "code",
   "execution_count": 75,
   "metadata": {},
   "outputs": [
    {
     "name": "stdout",
     "output_type": "stream",
     "text": [
      "AAPL\n",
      "        Date  Year  Month Symbol   Adj Close\n",
      "0 2024-01-02  2024      1   AAPL  184.938217\n",
      "3 2024-01-03  2024      1   AAPL  183.553467\n",
      "4 2024-01-04  2024      1   AAPL  181.222336\n",
      "6 2024-01-05  2024      1   AAPL  180.495071\n",
      "8 2024-01-08  2024      1   AAPL  184.858521\n",
      "GOOGL\n",
      "        Date  Year  Month Symbol   Adj Close\n",
      "1 2024-01-02  2024      1  GOOGL  137.828705\n",
      "2 2024-01-03  2024      1  GOOGL  138.576859\n",
      "5 2024-01-04  2024      1  GOOGL  136.053101\n",
      "7 2024-01-05  2024      1  GOOGL  135.394745\n",
      "9 2024-01-08  2024      1  GOOGL  138.497055\n"
     ]
    }
   ],
   "source": [
    "contents_of_group(apple_google_symbol_GROUP)"
   ]
  },
  {
   "cell_type": "markdown",
   "metadata": {},
   "source": [
    ">### <font color = 'yellow'> POLARS </font>"
   ]
  },
  {
   "cell_type": "code",
   "execution_count": 76,
   "metadata": {},
   "outputs": [
    {
     "name": "stdout",
     "output_type": "stream",
     "text": [
      "AAPL\n",
      "shape: (5, 5)\n",
      "┌────────────┬────────┬────────────┬──────┬───────┐\n",
      "│ Date       ┆ Symbol ┆ Adj Close  ┆ Year ┆ Month │\n",
      "│ ---        ┆ ---    ┆ ---        ┆ ---  ┆ ---   │\n",
      "│ date       ┆ str    ┆ f64        ┆ i32  ┆ i8    │\n",
      "╞════════════╪════════╪════════════╪══════╪═══════╡\n",
      "│ 2024-01-02 ┆ AAPL   ┆ 184.938217 ┆ 2024 ┆ 1     │\n",
      "│ 2024-01-03 ┆ AAPL   ┆ 183.553467 ┆ 2024 ┆ 1     │\n",
      "│ 2024-01-04 ┆ AAPL   ┆ 181.222336 ┆ 2024 ┆ 1     │\n",
      "│ 2024-01-05 ┆ AAPL   ┆ 180.495071 ┆ 2024 ┆ 1     │\n",
      "│ 2024-01-08 ┆ AAPL   ┆ 184.858521 ┆ 2024 ┆ 1     │\n",
      "└────────────┴────────┴────────────┴──────┴───────┘\n",
      "GOOGL\n",
      "shape: (5, 5)\n",
      "┌────────────┬────────┬────────────┬──────┬───────┐\n",
      "│ Date       ┆ Symbol ┆ Adj Close  ┆ Year ┆ Month │\n",
      "│ ---        ┆ ---    ┆ ---        ┆ ---  ┆ ---   │\n",
      "│ date       ┆ str    ┆ f64        ┆ i32  ┆ i8    │\n",
      "╞════════════╪════════╪════════════╪══════╪═══════╡\n",
      "│ 2024-01-02 ┆ GOOGL  ┆ 137.828705 ┆ 2024 ┆ 1     │\n",
      "│ 2024-01-03 ┆ GOOGL  ┆ 138.576859 ┆ 2024 ┆ 1     │\n",
      "│ 2024-01-04 ┆ GOOGL  ┆ 136.053101 ┆ 2024 ┆ 1     │\n",
      "│ 2024-01-05 ┆ GOOGL  ┆ 135.394745 ┆ 2024 ┆ 1     │\n",
      "│ 2024-01-08 ┆ GOOGL  ┆ 138.497055 ┆ 2024 ┆ 1     │\n",
      "└────────────┴────────┴────────────┴──────┴───────┘\n"
     ]
    }
   ],
   "source": [
    "contents_of_group(apple_google_symbol_GROUP_pl)"
   ]
  },
  {
   "cell_type": "markdown",
   "metadata": {},
   "source": [
    "> .size will tell us the count of items in each group"
   ]
  },
  {
   "cell_type": "code",
   "execution_count": 77,
   "metadata": {},
   "outputs": [
    {
     "data": {
      "text/plain": [
       "Symbol\n",
       "AAPL     168\n",
       "GOOGL    168\n",
       "dtype: int64"
      ]
     },
     "execution_count": 77,
     "metadata": {},
     "output_type": "execute_result"
    }
   ],
   "source": [
    "apple_google_symbol_GROUP.size()"
   ]
  },
  {
   "cell_type": "markdown",
   "metadata": {},
   "source": [
    ">### <font color = 'yellow'> POLARS </font>"
   ]
  },
  {
   "cell_type": "code",
   "execution_count": 78,
   "metadata": {},
   "outputs": [
    {
     "data": {
      "text/html": [
       "<div><style>\n",
       ".dataframe > thead > tr,\n",
       ".dataframe > tbody > tr {\n",
       "  text-align: right;\n",
       "  white-space: pre-wrap;\n",
       "}\n",
       "</style>\n",
       "<small>shape: (2, 2)</small><table border=\"1\" class=\"dataframe\"><thead><tr><th>Symbol</th><th>count</th></tr><tr><td>str</td><td>u32</td></tr></thead><tbody><tr><td>&quot;AAPL&quot;</td><td>168</td></tr><tr><td>&quot;GOOGL&quot;</td><td>168</td></tr></tbody></table></div>"
      ],
      "text/plain": [
       "shape: (2, 2)\n",
       "┌────────┬───────┐\n",
       "│ Symbol ┆ count │\n",
       "│ ---    ┆ ---   │\n",
       "│ str    ┆ u32   │\n",
       "╞════════╪═══════╡\n",
       "│ AAPL   ┆ 168   │\n",
       "│ GOOGL  ┆ 168   │\n",
       "└────────┴───────┘"
      ]
     },
     "execution_count": 78,
     "metadata": {},
     "output_type": "execute_result"
    }
   ],
   "source": [
    "apple_google_symbol_GROUP_pl.count()"
   ]
  },
  {
   "cell_type": "markdown",
   "metadata": {},
   "source": [
    "#### Question 8-2. As you know, a specific group can be retrieved using .get_group() which returns a DataFrame representing the specified group. Please execute so that you can have the output below."
   ]
  },
  {
   "cell_type": "code",
   "execution_count": 79,
   "metadata": {},
   "outputs": [
    {
     "data": {
      "text/html": [
       "<div>\n",
       "<style scoped>\n",
       "    .dataframe tbody tr th:only-of-type {\n",
       "        vertical-align: middle;\n",
       "    }\n",
       "\n",
       "    .dataframe tbody tr th {\n",
       "        vertical-align: top;\n",
       "    }\n",
       "\n",
       "    .dataframe thead th {\n",
       "        text-align: right;\n",
       "    }\n",
       "</style>\n",
       "<table border=\"1\" class=\"dataframe\">\n",
       "  <thead>\n",
       "    <tr style=\"text-align: right;\">\n",
       "      <th></th>\n",
       "      <th>Date</th>\n",
       "      <th>Year</th>\n",
       "      <th>Month</th>\n",
       "      <th>Symbol</th>\n",
       "      <th>Adj Close</th>\n",
       "    </tr>\n",
       "  </thead>\n",
       "  <tbody>\n",
       "    <tr>\n",
       "      <th>0</th>\n",
       "      <td>2024-01-02</td>\n",
       "      <td>2024</td>\n",
       "      <td>1</td>\n",
       "      <td>AAPL</td>\n",
       "      <td>184.938217</td>\n",
       "    </tr>\n",
       "    <tr>\n",
       "      <th>3</th>\n",
       "      <td>2024-01-03</td>\n",
       "      <td>2024</td>\n",
       "      <td>1</td>\n",
       "      <td>AAPL</td>\n",
       "      <td>183.553467</td>\n",
       "    </tr>\n",
       "    <tr>\n",
       "      <th>4</th>\n",
       "      <td>2024-01-04</td>\n",
       "      <td>2024</td>\n",
       "      <td>1</td>\n",
       "      <td>AAPL</td>\n",
       "      <td>181.222336</td>\n",
       "    </tr>\n",
       "    <tr>\n",
       "      <th>6</th>\n",
       "      <td>2024-01-05</td>\n",
       "      <td>2024</td>\n",
       "      <td>1</td>\n",
       "      <td>AAPL</td>\n",
       "      <td>180.495071</td>\n",
       "    </tr>\n",
       "    <tr>\n",
       "      <th>8</th>\n",
       "      <td>2024-01-08</td>\n",
       "      <td>2024</td>\n",
       "      <td>1</td>\n",
       "      <td>AAPL</td>\n",
       "      <td>184.858521</td>\n",
       "    </tr>\n",
       "    <tr>\n",
       "      <th>...</th>\n",
       "      <td>...</td>\n",
       "      <td>...</td>\n",
       "      <td>...</td>\n",
       "      <td>...</td>\n",
       "      <td>...</td>\n",
       "    </tr>\n",
       "    <tr>\n",
       "      <th>327</th>\n",
       "      <td>2024-08-26</td>\n",
       "      <td>2024</td>\n",
       "      <td>8</td>\n",
       "      <td>AAPL</td>\n",
       "      <td>227.179993</td>\n",
       "    </tr>\n",
       "    <tr>\n",
       "      <th>329</th>\n",
       "      <td>2024-08-27</td>\n",
       "      <td>2024</td>\n",
       "      <td>8</td>\n",
       "      <td>AAPL</td>\n",
       "      <td>228.029999</td>\n",
       "    </tr>\n",
       "    <tr>\n",
       "      <th>331</th>\n",
       "      <td>2024-08-28</td>\n",
       "      <td>2024</td>\n",
       "      <td>8</td>\n",
       "      <td>AAPL</td>\n",
       "      <td>226.490005</td>\n",
       "    </tr>\n",
       "    <tr>\n",
       "      <th>333</th>\n",
       "      <td>2024-08-29</td>\n",
       "      <td>2024</td>\n",
       "      <td>8</td>\n",
       "      <td>AAPL</td>\n",
       "      <td>229.789993</td>\n",
       "    </tr>\n",
       "    <tr>\n",
       "      <th>334</th>\n",
       "      <td>2024-08-30</td>\n",
       "      <td>2024</td>\n",
       "      <td>8</td>\n",
       "      <td>AAPL</td>\n",
       "      <td>229.000000</td>\n",
       "    </tr>\n",
       "  </tbody>\n",
       "</table>\n",
       "<p>168 rows × 5 columns</p>\n",
       "</div>"
      ],
      "text/plain": [
       "          Date  Year  Month Symbol   Adj Close\n",
       "0   2024-01-02  2024      1   AAPL  184.938217\n",
       "3   2024-01-03  2024      1   AAPL  183.553467\n",
       "4   2024-01-04  2024      1   AAPL  181.222336\n",
       "6   2024-01-05  2024      1   AAPL  180.495071\n",
       "8   2024-01-08  2024      1   AAPL  184.858521\n",
       "..         ...   ...    ...    ...         ...\n",
       "327 2024-08-26  2024      8   AAPL  227.179993\n",
       "329 2024-08-27  2024      8   AAPL  228.029999\n",
       "331 2024-08-28  2024      8   AAPL  226.490005\n",
       "333 2024-08-29  2024      8   AAPL  229.789993\n",
       "334 2024-08-30  2024      8   AAPL  229.000000\n",
       "\n",
       "[168 rows x 5 columns]"
      ]
     },
     "execution_count": 79,
     "metadata": {},
     "output_type": "execute_result"
    }
   ],
   "source": [
    "apple_google_symbol_GROUP.get_group('AAPL')"
   ]
  },
  {
   "cell_type": "markdown",
   "metadata": {},
   "source": [
    "#### Question 8-3. Please group by three different fields (`Symbol`, `Year`, `Month`) and print the result"
   ]
  },
  {
   "cell_type": "code",
   "execution_count": 80,
   "metadata": {},
   "outputs": [
    {
     "name": "stdout",
     "output_type": "stream",
     "text": [
      "('AAPL', 2024, 1)\n",
      "        Date  Year  Month Symbol   Adj Close\n",
      "0 2024-01-02  2024      1   AAPL  184.938217\n",
      "3 2024-01-03  2024      1   AAPL  183.553467\n",
      "4 2024-01-04  2024      1   AAPL  181.222336\n",
      "6 2024-01-05  2024      1   AAPL  180.495071\n",
      "8 2024-01-08  2024      1   AAPL  184.858521\n",
      "('AAPL', 2024, 2)\n",
      "         Date  Year  Month Symbol   Adj Close\n",
      "43 2024-02-01  2024      2   AAPL  186.153625\n",
      "44 2024-02-02  2024      2   AAPL  185.147430\n",
      "47 2024-02-05  2024      2   AAPL  186.970505\n",
      "49 2024-02-06  2024      2   AAPL  188.584381\n",
      "50 2024-02-07  2024      2   AAPL  188.693970\n",
      "('AAPL', 2024, 3)\n",
      "         Date  Year  Month Symbol   Adj Close\n",
      "83 2024-03-01  2024      3   AAPL  179.209213\n",
      "85 2024-03-04  2024      3   AAPL  174.660660\n",
      "86 2024-03-05  2024      3   AAPL  169.693146\n",
      "89 2024-03-06  2024      3   AAPL  168.695663\n",
      "90 2024-03-07  2024      3   AAPL  168.575958\n",
      "('AAPL', 2024, 4)\n",
      "          Date  Year  Month Symbol   Adj Close\n",
      "123 2024-04-01  2024      4   AAPL  169.603378\n",
      "125 2024-04-02  2024      4   AAPL  168.416351\n",
      "127 2024-04-03  2024      4   AAPL  169.224335\n",
      "129 2024-04-04  2024      4   AAPL  168.396423\n",
      "130 2024-04-05  2024      4   AAPL  169.154510\n",
      "('AAPL', 2024, 5)\n",
      "          Date  Year  Month Symbol   Adj Close\n",
      "166 2024-05-01  2024      5   AAPL  168.875214\n",
      "169 2024-05-02  2024      5   AAPL  172.595856\n",
      "171 2024-05-03  2024      5   AAPL  182.919876\n",
      "172 2024-05-06  2024      5   AAPL  181.254074\n",
      "175 2024-05-07  2024      5   AAPL  181.942337\n",
      "('AAPL', 2024, 6)\n",
      "          Date  Year  Month Symbol   Adj Close\n",
      "211 2024-06-03  2024      6   AAPL  193.805664\n",
      "212 2024-06-04  2024      6   AAPL  194.125305\n",
      "214 2024-06-05  2024      6   AAPL  195.643539\n",
      "216 2024-06-06  2024      6   AAPL  194.255142\n",
      "219 2024-06-07  2024      6   AAPL  196.662369\n",
      "('AAPL', 2024, 7)\n",
      "          Date  Year  Month Symbol   Adj Close\n",
      "249 2024-07-01  2024      7   AAPL  216.499405\n",
      "251 2024-07-02  2024      7   AAPL  220.015335\n",
      "253 2024-07-03  2024      7   AAPL  221.293854\n",
      "254 2024-07-05  2024      7   AAPL  226.078308\n",
      "256 2024-07-08  2024      7   AAPL  227.556610\n",
      "('AAPL', 2024, 8)\n",
      "          Date  Year  Month Symbol   Adj Close\n",
      "292 2024-08-01  2024      8   AAPL  218.107544\n",
      "295 2024-08-02  2024      8   AAPL  219.605804\n",
      "297 2024-08-05  2024      8   AAPL  209.028061\n",
      "299 2024-08-06  2024      8   AAPL  206.990402\n",
      "300 2024-08-07  2024      8   AAPL  209.577423\n",
      "('GOOGL', 2024, 1)\n",
      "        Date  Year  Month Symbol   Adj Close\n",
      "1 2024-01-02  2024      1  GOOGL  137.828705\n",
      "2 2024-01-03  2024      1  GOOGL  138.576859\n",
      "5 2024-01-04  2024      1  GOOGL  136.053101\n",
      "7 2024-01-05  2024      1  GOOGL  135.394745\n",
      "9 2024-01-08  2024      1  GOOGL  138.497055\n",
      "('GOOGL', 2024, 2)\n",
      "         Date  Year  Month Symbol   Adj Close\n",
      "42 2024-02-01  2024      2  GOOGL  140.811340\n",
      "45 2024-02-02  2024      2  GOOGL  142.028320\n",
      "46 2024-02-05  2024      2  GOOGL  143.325089\n",
      "48 2024-02-06  2024      2  GOOGL  143.744080\n",
      "51 2024-02-07  2024      2  GOOGL  145.180511\n",
      "('GOOGL', 2024, 3)\n",
      "         Date  Year  Month Symbol   Adj Close\n",
      "82 2024-03-01  2024      3  GOOGL  136.801254\n",
      "84 2024-03-04  2024      3  GOOGL  133.020630\n",
      "87 2024-03-05  2024      3  GOOGL  132.342300\n",
      "88 2024-03-06  2024      3  GOOGL  131.075424\n",
      "91 2024-03-07  2024      3  GOOGL  134.048080\n",
      "('GOOGL', 2024, 4)\n",
      "          Date  Year  Month Symbol   Adj Close\n",
      "122 2024-04-01  2024      4  GOOGL  155.105942\n",
      "124 2024-04-02  2024      4  GOOGL  154.178223\n",
      "126 2024-04-03  2024      4  GOOGL  154.537338\n",
      "128 2024-04-04  2024      4  GOOGL  150.158188\n",
      "131 2024-04-05  2024      4  GOOGL  152.123322\n",
      "('GOOGL', 2024, 5)\n",
      "          Date  Year  Month Symbol   Adj Close\n",
      "167 2024-05-01  2024      5  GOOGL  163.455246\n",
      "168 2024-05-02  2024      5  GOOGL  166.208435\n",
      "170 2024-05-03  2024      5  GOOGL  166.826904\n",
      "173 2024-05-06  2024      5  GOOGL  167.684799\n",
      "174 2024-05-07  2024      5  GOOGL  170.826996\n",
      "('GOOGL', 2024, 6)\n",
      "          Date  Year  Month Symbol   Adj Close\n",
      "210 2024-06-03  2024      6  GOOGL  172.742264\n",
      "213 2024-06-04  2024      6  GOOGL  173.360718\n",
      "215 2024-06-05  2024      6  GOOGL  174.976746\n",
      "217 2024-06-06  2024      6  GOOGL  176.293457\n",
      "218 2024-06-07  2024      6  GOOGL  174.029083\n",
      "('GOOGL', 2024, 7)\n",
      "          Date  Year  Month Symbol   Adj Close\n",
      "248 2024-07-01  2024      7  GOOGL  182.747513\n",
      "250 2024-07-02  2024      7  GOOGL  184.994522\n",
      "252 2024-07-03  2024      7  GOOGL  185.573761\n",
      "255 2024-07-05  2024      7  GOOGL  190.347427\n",
      "257 2024-07-08  2024      7  GOOGL  188.779495\n",
      "('GOOGL', 2024, 8)\n",
      "          Date  Year  Month Symbol   Adj Close\n",
      "293 2024-08-01  2024      8  GOOGL  170.533707\n",
      "294 2024-08-02  2024      8  GOOGL  166.439148\n",
      "296 2024-08-05  2024      8  GOOGL  159.038971\n",
      "298 2024-08-06  2024      8  GOOGL  158.080231\n",
      "301 2024-08-07  2024      8  GOOGL  158.729370\n"
     ]
    }
   ],
   "source": [
    "apple_google_SYM_GROUP = (\n",
    "    apple_google_GROUPING\n",
    "    .groupby(\n",
    "        ['Symbol', 'Year', 'Month']\n",
    "    )\n",
    ")\n",
    "\n",
    "contents_of_group(apple_google_SYM_GROUP)"
   ]
  },
  {
   "cell_type": "markdown",
   "metadata": {},
   "source": [
    "### Question 9-1. Let's set the index of the data to be the following three fields we are creating a multiindex"
   ]
  },
  {
   "cell_type": "code",
   "execution_count": 81,
   "metadata": {},
   "outputs": [
    {
     "data": {
      "text/html": [
       "<div>\n",
       "<style scoped>\n",
       "    .dataframe tbody tr th:only-of-type {\n",
       "        vertical-align: middle;\n",
       "    }\n",
       "\n",
       "    .dataframe tbody tr th {\n",
       "        vertical-align: top;\n",
       "    }\n",
       "\n",
       "    .dataframe thead th {\n",
       "        text-align: right;\n",
       "    }\n",
       "</style>\n",
       "<table border=\"1\" class=\"dataframe\">\n",
       "  <thead>\n",
       "    <tr style=\"text-align: right;\">\n",
       "      <th></th>\n",
       "      <th>Date</th>\n",
       "      <th>Year</th>\n",
       "      <th>Month</th>\n",
       "      <th>Symbol</th>\n",
       "      <th>Adj Close</th>\n",
       "    </tr>\n",
       "  </thead>\n",
       "  <tbody>\n",
       "    <tr>\n",
       "      <th>0</th>\n",
       "      <td>2024-01-02</td>\n",
       "      <td>2024</td>\n",
       "      <td>1</td>\n",
       "      <td>AAPL</td>\n",
       "      <td>184.938217</td>\n",
       "    </tr>\n",
       "    <tr>\n",
       "      <th>1</th>\n",
       "      <td>2024-01-02</td>\n",
       "      <td>2024</td>\n",
       "      <td>1</td>\n",
       "      <td>GOOGL</td>\n",
       "      <td>137.828705</td>\n",
       "    </tr>\n",
       "    <tr>\n",
       "      <th>2</th>\n",
       "      <td>2024-01-03</td>\n",
       "      <td>2024</td>\n",
       "      <td>1</td>\n",
       "      <td>GOOGL</td>\n",
       "      <td>138.576859</td>\n",
       "    </tr>\n",
       "    <tr>\n",
       "      <th>3</th>\n",
       "      <td>2024-01-03</td>\n",
       "      <td>2024</td>\n",
       "      <td>1</td>\n",
       "      <td>AAPL</td>\n",
       "      <td>183.553467</td>\n",
       "    </tr>\n",
       "    <tr>\n",
       "      <th>4</th>\n",
       "      <td>2024-01-04</td>\n",
       "      <td>2024</td>\n",
       "      <td>1</td>\n",
       "      <td>AAPL</td>\n",
       "      <td>181.222336</td>\n",
       "    </tr>\n",
       "    <tr>\n",
       "      <th>...</th>\n",
       "      <td>...</td>\n",
       "      <td>...</td>\n",
       "      <td>...</td>\n",
       "      <td>...</td>\n",
       "      <td>...</td>\n",
       "    </tr>\n",
       "    <tr>\n",
       "      <th>331</th>\n",
       "      <td>2024-08-28</td>\n",
       "      <td>2024</td>\n",
       "      <td>8</td>\n",
       "      <td>AAPL</td>\n",
       "      <td>226.490005</td>\n",
       "    </tr>\n",
       "    <tr>\n",
       "      <th>332</th>\n",
       "      <td>2024-08-29</td>\n",
       "      <td>2024</td>\n",
       "      <td>8</td>\n",
       "      <td>GOOGL</td>\n",
       "      <td>161.565613</td>\n",
       "    </tr>\n",
       "    <tr>\n",
       "      <th>333</th>\n",
       "      <td>2024-08-29</td>\n",
       "      <td>2024</td>\n",
       "      <td>8</td>\n",
       "      <td>AAPL</td>\n",
       "      <td>229.789993</td>\n",
       "    </tr>\n",
       "    <tr>\n",
       "      <th>334</th>\n",
       "      <td>2024-08-30</td>\n",
       "      <td>2024</td>\n",
       "      <td>8</td>\n",
       "      <td>AAPL</td>\n",
       "      <td>229.000000</td>\n",
       "    </tr>\n",
       "    <tr>\n",
       "      <th>335</th>\n",
       "      <td>2024-08-30</td>\n",
       "      <td>2024</td>\n",
       "      <td>8</td>\n",
       "      <td>GOOGL</td>\n",
       "      <td>163.163498</td>\n",
       "    </tr>\n",
       "  </tbody>\n",
       "</table>\n",
       "<p>336 rows × 5 columns</p>\n",
       "</div>"
      ],
      "text/plain": [
       "          Date  Year  Month Symbol   Adj Close\n",
       "0   2024-01-02  2024      1   AAPL  184.938217\n",
       "1   2024-01-02  2024      1  GOOGL  137.828705\n",
       "2   2024-01-03  2024      1  GOOGL  138.576859\n",
       "3   2024-01-03  2024      1   AAPL  183.553467\n",
       "4   2024-01-04  2024      1   AAPL  181.222336\n",
       "..         ...   ...    ...    ...         ...\n",
       "331 2024-08-28  2024      8   AAPL  226.490005\n",
       "332 2024-08-29  2024      8  GOOGL  161.565613\n",
       "333 2024-08-29  2024      8   AAPL  229.789993\n",
       "334 2024-08-30  2024      8   AAPL  229.000000\n",
       "335 2024-08-30  2024      8  GOOGL  163.163498\n",
       "\n",
       "[336 rows x 5 columns]"
      ]
     },
     "execution_count": 81,
     "metadata": {},
     "output_type": "execute_result"
    }
   ],
   "source": [
    "apple_google_MULTIINDEX: pd.DataFrame = apple_google_GROUPING.copy()\n",
    "apple_google_MULTIINDEX"
   ]
  },
  {
   "cell_type": "code",
   "execution_count": 82,
   "metadata": {},
   "outputs": [
    {
     "data": {
      "text/html": [
       "<div>\n",
       "<style scoped>\n",
       "    .dataframe tbody tr th:only-of-type {\n",
       "        vertical-align: middle;\n",
       "    }\n",
       "\n",
       "    .dataframe tbody tr th {\n",
       "        vertical-align: top;\n",
       "    }\n",
       "\n",
       "    .dataframe thead th {\n",
       "        text-align: right;\n",
       "    }\n",
       "</style>\n",
       "<table border=\"1\" class=\"dataframe\">\n",
       "  <thead>\n",
       "    <tr style=\"text-align: right;\">\n",
       "      <th></th>\n",
       "      <th></th>\n",
       "      <th></th>\n",
       "      <th>Date</th>\n",
       "      <th>Adj Close</th>\n",
       "    </tr>\n",
       "    <tr>\n",
       "      <th>Symbol</th>\n",
       "      <th>Year</th>\n",
       "      <th>Month</th>\n",
       "      <th></th>\n",
       "      <th></th>\n",
       "    </tr>\n",
       "  </thead>\n",
       "  <tbody>\n",
       "    <tr>\n",
       "      <th>AAPL</th>\n",
       "      <th>2024</th>\n",
       "      <th>1</th>\n",
       "      <td>2024-01-02</td>\n",
       "      <td>184.938217</td>\n",
       "    </tr>\n",
       "    <tr>\n",
       "      <th rowspan=\"2\" valign=\"top\">GOOGL</th>\n",
       "      <th rowspan=\"2\" valign=\"top\">2024</th>\n",
       "      <th>1</th>\n",
       "      <td>2024-01-02</td>\n",
       "      <td>137.828705</td>\n",
       "    </tr>\n",
       "    <tr>\n",
       "      <th>1</th>\n",
       "      <td>2024-01-03</td>\n",
       "      <td>138.576859</td>\n",
       "    </tr>\n",
       "    <tr>\n",
       "      <th rowspan=\"4\" valign=\"top\">AAPL</th>\n",
       "      <th rowspan=\"4\" valign=\"top\">2024</th>\n",
       "      <th>1</th>\n",
       "      <td>2024-01-03</td>\n",
       "      <td>183.553467</td>\n",
       "    </tr>\n",
       "    <tr>\n",
       "      <th>1</th>\n",
       "      <td>2024-01-04</td>\n",
       "      <td>181.222336</td>\n",
       "    </tr>\n",
       "    <tr>\n",
       "      <th>...</th>\n",
       "      <td>...</td>\n",
       "      <td>...</td>\n",
       "    </tr>\n",
       "    <tr>\n",
       "      <th>8</th>\n",
       "      <td>2024-08-28</td>\n",
       "      <td>226.490005</td>\n",
       "    </tr>\n",
       "    <tr>\n",
       "      <th>GOOGL</th>\n",
       "      <th>2024</th>\n",
       "      <th>8</th>\n",
       "      <td>2024-08-29</td>\n",
       "      <td>161.565613</td>\n",
       "    </tr>\n",
       "    <tr>\n",
       "      <th rowspan=\"2\" valign=\"top\">AAPL</th>\n",
       "      <th rowspan=\"2\" valign=\"top\">2024</th>\n",
       "      <th>8</th>\n",
       "      <td>2024-08-29</td>\n",
       "      <td>229.789993</td>\n",
       "    </tr>\n",
       "    <tr>\n",
       "      <th>8</th>\n",
       "      <td>2024-08-30</td>\n",
       "      <td>229.000000</td>\n",
       "    </tr>\n",
       "    <tr>\n",
       "      <th>GOOGL</th>\n",
       "      <th>2024</th>\n",
       "      <th>8</th>\n",
       "      <td>2024-08-30</td>\n",
       "      <td>163.163498</td>\n",
       "    </tr>\n",
       "  </tbody>\n",
       "</table>\n",
       "<p>336 rows × 2 columns</p>\n",
       "</div>"
      ],
      "text/plain": [
       "                        Date   Adj Close\n",
       "Symbol Year Month                       \n",
       "AAPL   2024 1     2024-01-02  184.938217\n",
       "GOOGL  2024 1     2024-01-02  137.828705\n",
       "            1     2024-01-03  138.576859\n",
       "AAPL   2024 1     2024-01-03  183.553467\n",
       "            1     2024-01-04  181.222336\n",
       "...                      ...         ...\n",
       "            8     2024-08-28  226.490005\n",
       "GOOGL  2024 8     2024-08-29  161.565613\n",
       "AAPL   2024 8     2024-08-29  229.789993\n",
       "            8     2024-08-30  229.000000\n",
       "GOOGL  2024 8     2024-08-30  163.163498\n",
       "\n",
       "[336 rows x 2 columns]"
      ]
     },
     "execution_count": 82,
     "metadata": {},
     "output_type": "execute_result"
    }
   ],
   "source": [
    "apple_google_MULTIINDEX = (\n",
    "    apple_google_MULTIINDEX\n",
    "    .set_index(\n",
    "        ['Symbol', 'Year', 'Month']\n",
    "    )\n",
    ")\n",
    "apple_google_MULTIINDEX"
   ]
  },
  {
   "cell_type": "markdown",
   "metadata": {},
   "source": [
    "#### Question 9-2. Then, please group based upon values in the actual index the following groups by level 0 of the index (Month)"
   ]
  },
  {
   "cell_type": "code",
   "execution_count": 83,
   "metadata": {},
   "outputs": [
    {
     "name": "stdout",
     "output_type": "stream",
     "text": [
      "AAPL\n",
      "                        Date   Adj Close\n",
      "Symbol Year Month                       \n",
      "AAPL   2024 1     2024-01-02  184.938217\n",
      "            1     2024-01-03  183.553467\n",
      "            1     2024-01-04  181.222336\n",
      "            1     2024-01-05  180.495071\n",
      "            1     2024-01-08  184.858521\n",
      "GOOGL\n",
      "                        Date   Adj Close\n",
      "Symbol Year Month                       \n",
      "GOOGL  2024 1     2024-01-02  137.828705\n",
      "            1     2024-01-03  138.576859\n",
      "            1     2024-01-04  136.053101\n",
      "            1     2024-01-05  135.394745\n",
      "            1     2024-01-08  138.497055\n"
     ]
    }
   ],
   "source": [
    "contents_of_group(\n",
    "    apple_google_MULTIINDEX\n",
    "    .groupby(\n",
    "        apple_google_MULTIINDEX\n",
    "        .index\n",
    "        .get_level_values(level = 0) # for symbol\n",
    "    )\n",
    ")"
   ]
  },
  {
   "cell_type": "markdown",
   "metadata": {},
   "source": [
    "#### Question 9-3. Please group by three levels in the index using their names"
   ]
  },
  {
   "cell_type": "code",
   "execution_count": 84,
   "metadata": {},
   "outputs": [
    {
     "name": "stdout",
     "output_type": "stream",
     "text": [
      "('AAPL', 2024, 1)\n",
      "                        Date   Adj Close\n",
      "Symbol Year Month                       \n",
      "AAPL   2024 1     2024-01-02  184.938217\n",
      "            1     2024-01-03  183.553467\n",
      "            1     2024-01-04  181.222336\n",
      "            1     2024-01-05  180.495071\n",
      "            1     2024-01-08  184.858521\n",
      "('AAPL', 2024, 2)\n",
      "                        Date   Adj Close\n",
      "Symbol Year Month                       \n",
      "AAPL   2024 2     2024-02-01  186.153625\n",
      "            2     2024-02-02  185.147430\n",
      "            2     2024-02-05  186.970505\n",
      "            2     2024-02-06  188.584381\n",
      "            2     2024-02-07  188.693970\n",
      "('AAPL', 2024, 3)\n",
      "                        Date   Adj Close\n",
      "Symbol Year Month                       \n",
      "AAPL   2024 3     2024-03-01  179.209213\n",
      "            3     2024-03-04  174.660660\n",
      "            3     2024-03-05  169.693146\n",
      "            3     2024-03-06  168.695663\n",
      "            3     2024-03-07  168.575958\n",
      "('AAPL', 2024, 4)\n",
      "                        Date   Adj Close\n",
      "Symbol Year Month                       \n",
      "AAPL   2024 4     2024-04-01  169.603378\n",
      "            4     2024-04-02  168.416351\n",
      "            4     2024-04-03  169.224335\n",
      "            4     2024-04-04  168.396423\n",
      "            4     2024-04-05  169.154510\n",
      "('AAPL', 2024, 5)\n",
      "                        Date   Adj Close\n",
      "Symbol Year Month                       \n",
      "AAPL   2024 5     2024-05-01  168.875214\n",
      "            5     2024-05-02  172.595856\n",
      "            5     2024-05-03  182.919876\n",
      "            5     2024-05-06  181.254074\n",
      "            5     2024-05-07  181.942337\n",
      "('AAPL', 2024, 6)\n",
      "                        Date   Adj Close\n",
      "Symbol Year Month                       \n",
      "AAPL   2024 6     2024-06-03  193.805664\n",
      "            6     2024-06-04  194.125305\n",
      "            6     2024-06-05  195.643539\n",
      "            6     2024-06-06  194.255142\n",
      "            6     2024-06-07  196.662369\n",
      "('AAPL', 2024, 7)\n",
      "                        Date   Adj Close\n",
      "Symbol Year Month                       \n",
      "AAPL   2024 7     2024-07-01  216.499405\n",
      "            7     2024-07-02  220.015335\n",
      "            7     2024-07-03  221.293854\n",
      "            7     2024-07-05  226.078308\n",
      "            7     2024-07-08  227.556610\n",
      "('AAPL', 2024, 8)\n",
      "                        Date   Adj Close\n",
      "Symbol Year Month                       \n",
      "AAPL   2024 8     2024-08-01  218.107544\n",
      "            8     2024-08-02  219.605804\n",
      "            8     2024-08-05  209.028061\n",
      "            8     2024-08-06  206.990402\n",
      "            8     2024-08-07  209.577423\n",
      "('GOOGL', 2024, 1)\n",
      "                        Date   Adj Close\n",
      "Symbol Year Month                       \n",
      "GOOGL  2024 1     2024-01-02  137.828705\n",
      "            1     2024-01-03  138.576859\n",
      "            1     2024-01-04  136.053101\n",
      "            1     2024-01-05  135.394745\n",
      "            1     2024-01-08  138.497055\n",
      "('GOOGL', 2024, 2)\n",
      "                        Date   Adj Close\n",
      "Symbol Year Month                       \n",
      "GOOGL  2024 2     2024-02-01  140.811340\n",
      "            2     2024-02-02  142.028320\n",
      "            2     2024-02-05  143.325089\n",
      "            2     2024-02-06  143.744080\n",
      "            2     2024-02-07  145.180511\n",
      "('GOOGL', 2024, 3)\n",
      "                        Date   Adj Close\n",
      "Symbol Year Month                       \n",
      "GOOGL  2024 3     2024-03-01  136.801254\n",
      "            3     2024-03-04  133.020630\n",
      "            3     2024-03-05  132.342300\n",
      "            3     2024-03-06  131.075424\n",
      "            3     2024-03-07  134.048080\n",
      "('GOOGL', 2024, 4)\n",
      "                        Date   Adj Close\n",
      "Symbol Year Month                       \n",
      "GOOGL  2024 4     2024-04-01  155.105942\n",
      "            4     2024-04-02  154.178223\n",
      "            4     2024-04-03  154.537338\n",
      "            4     2024-04-04  150.158188\n",
      "            4     2024-04-05  152.123322\n",
      "('GOOGL', 2024, 5)\n",
      "                        Date   Adj Close\n",
      "Symbol Year Month                       \n",
      "GOOGL  2024 5     2024-05-01  163.455246\n",
      "            5     2024-05-02  166.208435\n",
      "            5     2024-05-03  166.826904\n",
      "            5     2024-05-06  167.684799\n",
      "            5     2024-05-07  170.826996\n",
      "('GOOGL', 2024, 6)\n",
      "                        Date   Adj Close\n",
      "Symbol Year Month                       \n",
      "GOOGL  2024 6     2024-06-03  172.742264\n",
      "            6     2024-06-04  173.360718\n",
      "            6     2024-06-05  174.976746\n",
      "            6     2024-06-06  176.293457\n",
      "            6     2024-06-07  174.029083\n",
      "('GOOGL', 2024, 7)\n",
      "                        Date   Adj Close\n",
      "Symbol Year Month                       \n",
      "GOOGL  2024 7     2024-07-01  182.747513\n",
      "            7     2024-07-02  184.994522\n",
      "            7     2024-07-03  185.573761\n",
      "            7     2024-07-05  190.347427\n",
      "            7     2024-07-08  188.779495\n",
      "('GOOGL', 2024, 8)\n",
      "                        Date   Adj Close\n",
      "Symbol Year Month                       \n",
      "GOOGL  2024 8     2024-08-01  170.533707\n",
      "            8     2024-08-02  166.439148\n",
      "            8     2024-08-05  159.038971\n",
      "            8     2024-08-06  158.080231\n",
      "            8     2024-08-07  158.729370\n"
     ]
    }
   ],
   "source": [
    "contents_of_group(\n",
    "    apple_google_MULTIINDEX\n",
    "    .groupby(\n",
    "        apple_google_MULTIINDEX\n",
    "        .index\n",
    "    )\n",
    ")"
   ]
  },
  {
   "cell_type": "markdown",
   "metadata": {},
   "source": [
    "### Now let's do something with a 2-D array of Dow Jones Industrial Average in 2008\n",
    "\n",
    "The array `data_problem_sets_3.csv` is a 2-D array with each row holding the\n",
    "daily performance of the Dow Jones Industrial Average from the\n",
    "beginning of 2008 (dates have been removed for exercise simplicity).\n",
    "The array has the following structure::\n",
    "\n",
    "       OPEN      HIGH      LOW       CLOSE     VOLUME      ADJ_CLOSE\n",
    "       13261.82  13338.23  12969.42  13043.96  3452650000  13043.96\n",
    "       13044.12  13197.43  12968.44  13056.72  3429500000  13056.72\n",
    "       13046.56  13049.65  12740.51  12800.18  4166000000  12800.18\n",
    "       12801.15  12984.95  12640.44  12827.49  4221260000  12827.49\n",
    "       12820.9   12998.11  12511.03  12589.07  4705390000  12589.07\n",
    "       12590.21  12814.97  12431.53  12735.31  5351030000  12735.31"
   ]
  },
  {
   "cell_type": "markdown",
   "metadata": {},
   "source": [
    "> Below you will find the necessary modules for the task."
   ]
  },
  {
   "cell_type": "code",
   "execution_count": 85,
   "metadata": {},
   "outputs": [],
   "source": [
    "from numpy import loadtxt, sum, where"
   ]
  },
  {
   "cell_type": "markdown",
   "metadata": {},
   "source": [
    "> Below are constants that indicate what data is held in each column of the `dow` array."
   ]
  },
  {
   "cell_type": "markdown",
   "metadata": {},
   "source": [
    "* OPEN = 0\n",
    "* HIGH = 1\n",
    "* LOW = 2\n",
    "* CLOSE = 3\n",
    "* VOLUME = 4\n",
    "* ADJ_CLOSE = 5"
   ]
  },
  {
   "cell_type": "markdown",
   "metadata": {},
   "source": [
    "> `data_problem_sets_3.csv` is our NumPy array that you will manipulate. Below you will find another way to load your csv file :)"
   ]
  },
  {
   "cell_type": "code",
   "execution_count": 86,
   "metadata": {},
   "outputs": [
    {
     "data": {
      "text/plain": [
       "array([[1.326182e+04, 1.333823e+04, 1.296942e+04, 1.304396e+04,\n",
       "        3.452650e+09, 1.304396e+04],\n",
       "       [1.304412e+04, 1.319743e+04, 1.296844e+04, 1.305672e+04,\n",
       "        3.429500e+09, 1.305672e+04],\n",
       "       [1.304656e+04, 1.304965e+04, 1.274051e+04, 1.280018e+04,\n",
       "        4.166000e+09, 1.280018e+04],\n",
       "       ...,\n",
       "       [1.141246e+04, 1.157514e+04, 1.134969e+04, 1.150251e+04,\n",
       "        3.499610e+09, 1.150251e+04],\n",
       "       [1.149987e+04, 1.175646e+04, 1.149372e+04, 1.171518e+04,\n",
       "        3.854280e+09, 1.171518e+04],\n",
       "       [1.171323e+04, 1.173049e+04, 1.150878e+04, 1.154355e+04,\n",
       "        3.288120e+09, 1.154355e+04]])"
      ]
     },
     "execution_count": 86,
     "metadata": {},
     "output_type": "execute_result"
    }
   ],
   "source": [
    "dow: np.array =\\\n",
    "    loadtxt(\"data/data_problem_sets_3.csv\", \n",
    "            delimiter= \",\")\n",
    "\n",
    "dow"
   ]
  },
  {
   "cell_type": "markdown",
   "metadata": {},
   "source": [
    "### Question 10-1. Please create a `mask` array that indicates which rows have a volume greater than 5.5 billion.\n",
    "\n",
    "> Hint: The mask refers to boolean masking. How would you go about doing boolean masking? How will you apply the `mask` to the dataframe?"
   ]
  },
  {
   "cell_type": "code",
   "execution_count": 87,
   "metadata": {},
   "outputs": [
    {
     "data": {
      "text/plain": [
       "array([6.0048400e+09, 6.5446900e+09, 5.7353000e+09, 5.6830100e+09,\n",
       "       6.1452200e+09, 6.2082600e+09, 5.8462900e+09, 6.0341100e+09,\n",
       "       5.8404300e+09, 6.7422000e+09, 7.3636400e+09, 6.7386304e+09,\n",
       "       7.3652096e+09, 5.6532800e+09, 6.1802300e+09, 6.7058300e+09,\n",
       "       6.1279800e+09, 5.6313300e+09])"
      ]
     },
     "execution_count": 87,
     "metadata": {},
     "output_type": "execute_result"
    }
   ],
   "source": [
    "volume_array: np.array = dow.T[4]\n",
    "mask_array: np.array = volume_array[volume_array > 5.5 * 1e9]\n",
    "\n",
    "mask_array"
   ]
  },
  {
   "cell_type": "markdown",
   "metadata": {},
   "source": [
    "#### Question 10-2. How many are there?  (Please use print function to give your answer).\n",
    "\n",
    "> Hint: Is there a way to incorporate variables within the print statement?"
   ]
  },
  {
   "cell_type": "code",
   "execution_count": 88,
   "metadata": {},
   "outputs": [
    {
     "name": "stdout",
     "output_type": "stream",
     "text": [
      "The dow volume has been above 5.5 billion on 18 days this year.\n"
     ]
    }
   ],
   "source": [
    "print(\n",
    "    f'The dow volume has been above 5.5 billion on {mask_array.size} days this year.'\n",
    ")"
   ]
  },
  {
   "cell_type": "markdown",
   "metadata": {},
   "source": [
    "#### Question 10-3. Please find the index of every row (or day) where the volume is greater than 5.5.\n",
    "\n",
    "> Hint: This is another case of boolean masking but in this case, applied to the index."
   ]
  },
  {
   "cell_type": "code",
   "execution_count": 89,
   "metadata": {},
   "outputs": [
    {
     "data": {
      "text/plain": [
       "array([ 12,  13,  15,  51,  54, 123, 125, 129, 131, 132, 134, 135, 136,\n",
       "       137, 139, 140, 141, 145], dtype=int64)"
      ]
     },
     "execution_count": 89,
     "metadata": {},
     "output_type": "execute_result"
    }
   ],
   "source": [
    "big_volume_index: np.array = where(volume_array > 5.5 * 1e9)[0]\n",
    "big_volume_index"
   ]
  },
  {
   "cell_type": "markdown",
   "metadata": {},
   "source": [
    "#### Question 10-4. Plot the adjusted close for EVERY day in 2008."
   ]
  },
  {
   "cell_type": "code",
   "execution_count": 90,
   "metadata": {},
   "outputs": [
    {
     "data": {
      "text/plain": [
       "[<matplotlib.lines.Line2D at 0x2c4c05bb2e0>]"
      ]
     },
     "execution_count": 90,
     "metadata": {},
     "output_type": "execute_result"
    },
    {
     "data": {
      "image/png": "[encoded data removed]",
      "text/plain": [
       "<Figure size 2000x1000 with 1 Axes>"
      ]
     },
     "metadata": {},
     "output_type": "display_data"
    }
   ],
   "source": [
    "dow_adj_close: np.array = dow.T[5]\n",
    "\n",
    "plt.figure(figsize = (20,10))\n",
    "plt.plot(dow_adj_close)"
   ]
  },
  {
   "cell_type": "code",
   "execution_count": 91,
   "metadata": {},
   "outputs": [
    {
     "data": {
      "text/html": [
       "\n",
       "            <div id=\"OWbhJq\"></div>\n",
       "            <script type=\"text/javascript\" data-lets-plot-script=\"library\">\n",
       "                if(!window.letsPlotCallQueue) {\n",
       "                    window.letsPlotCallQueue = [];\n",
       "                }; \n",
       "                window.letsPlotCall = function(f) {\n",
       "                    window.letsPlotCallQueue.push(f);\n",
       "                };\n",
       "                (function() {\n",
       "                    var script = document.createElement(\"script\");\n",
       "                    script.type = \"text/javascript\";\n",
       "                    script.src = \"https://cdn.jsdelivr.net/gh/JetBrains/lets-plot@v4.4.1/js-package/distr/lets-plot.min.js\";\n",
       "                    script.onload = function() {\n",
       "                        window.letsPlotCall = function(f) {f();};\n",
       "                        window.letsPlotCallQueue.forEach(function(f) {f();});\n",
       "                        window.letsPlotCallQueue = [];\n",
       "                        \n",
       "                    };\n",
       "                    script.onerror = function(event) {\n",
       "                        window.letsPlotCall = function(f) {};    // noop\n",
       "                        window.letsPlotCallQueue = [];\n",
       "                        var div = document.createElement(\"div\");\n",
       "                        div.style.color = 'darkred';\n",
       "                        div.textContent = 'Error loading Lets-Plot JS';\n",
       "                        document.getElementById(\"OWbhJq\").appendChild(div);\n",
       "                    };\n",
       "                    var e = document.getElementById(\"OWbhJq\");\n",
       "                    e.appendChild(script);\n",
       "                })()\n",
       "            </script>\n",
       "            "
      ]
     },
     "metadata": {},
     "output_type": "display_data"
    },
    {
     "data": {
      "text/html": [
       "   <div id=\"sYohkx\"></div>\n",
       "   <script type=\"text/javascript\" data-lets-plot-script=\"plot\">\n",
       "       (function() {\n",
       "           var plotSpec={\n",
       "\"data\":{\n",
       "\"x\":[0.0,1.0,2.0,3.0,4.0,5.0,6.0,7.0,8.0,9.0,10.0,11.0,12.0,13.0,14.0,15.0,16.0,17.0,18.0,19.0,20.0,21.0,22.0,23.0,24.0,25.0,26.0,27.0,28.0,29.0,30.0,31.0,32.0,33.0,34.0,35.0,36.0,37.0,38.0,39.0,40.0,41.0,42.0,43.0,44.0,45.0,46.0,47.0,48.0,49.0,50.0,51.0,52.0,53.0,54.0,55.0,56.0,57.0,58.0,59.0,60.0,61.0,62.0,63.0,64.0,65.0,66.0,67.0,68.0,69.0,70.0,71.0,72.0,73.0,74.0,75.0,76.0,77.0,78.0,79.0,80.0,81.0,82.0,83.0,84.0,85.0,86.0,87.0,88.0,89.0,90.0,91.0,92.0,93.0,94.0,95.0,96.0,97.0,98.0,99.0,100.0,101.0,102.0,103.0,104.0,105.0,106.0,107.0,108.0,109.0,110.0,111.0,112.0,113.0,114.0,115.0,116.0,117.0,118.0,119.0,120.0,121.0,122.0,123.0,124.0,125.0,126.0,127.0,128.0,129.0,130.0,131.0,132.0,133.0,134.0,135.0,136.0,137.0,138.0,139.0,140.0,141.0,142.0,143.0,144.0,145.0,146.0,147.0,148.0,149.0,150.0,151.0,152.0,153.0,154.0,155.0,156.0,157.0,158.0,159.0,160.0,161.0,162.0,163.0,164.0,165.0,166.0,167.0],\n",
       "\"y\":[13043.96,13056.72,12800.18,12827.49,12589.07,12735.31,12853.09,12606.3,12778.15,12501.11,12466.16,12159.21,12099.3,11971.19,12270.17,12378.61,12207.17,12383.89,12480.3,12442.83,12650.36,12743.19,12635.16,12265.13,12200.1,12247.0,12182.13,12240.01,12373.41,12552.24,12376.98,12348.21,12337.22,12427.26,12284.3,12381.02,12570.22,12684.92,12694.28,12582.18,12266.39,12258.9,12213.8,12254.99,12040.39,11893.69,11740.15,12156.81,12110.24,12145.74,11951.09,11972.25,12392.66,12099.66,12361.32,12548.64,12532.6,12422.86,12302.46,12216.4,12262.89,12654.36,12608.92,12626.03,12609.42,12612.43,12576.44,12527.26,12581.98,12325.42,12302.06,12362.47,12619.27,12620.49,12849.36,12825.02,12720.23,12763.22,12848.95,12891.86,12871.75,12831.94,12820.13,13010.0,13058.2,12969.54,13020.83,12814.35,12866.78,12745.88,12876.05,12832.18,12898.38,12992.66,12986.8,13028.16,12828.68,12601.19,12625.62,12479.63,12548.35,12594.03,12646.22,12638.32,12503.82,12402.85,12390.48,12604.45,12209.81,12280.32,12289.76,12083.77,12141.58,12307.35,12269.08,12160.3,12029.06,12063.09,11842.69,11842.36,11807.43,11811.83,11453.42,11346.51,11350.01,11382.26,11215.51,11288.53,11231.96,11384.21,11147.44,11229.02,11100.54,11055.19,10962.54,11239.28,11446.66,11496.57,11467.34,11602.5,11632.38,11349.28,11370.69,11131.08,11397.56,11583.69,11378.02,11326.32,11284.15,11615.77,11656.07,11431.43,11734.32,11782.35,11642.47,11532.96,11615.93,11659.9,11479.39,11348.55,11417.43,11430.21,11628.06,11386.25,11412.87,11502.51,11715.18,11543.55]\n",
       "},\n",
       "\"mapping\":{\n",
       "\"x\":\"x\",\n",
       "\"y\":\"y\"\n",
       "},\n",
       "\"data_meta\":{\n",
       "\"series_annotations\":[{\n",
       "\"type\":\"int\",\n",
       "\"column\":\"x\"\n",
       "},{\n",
       "\"type\":\"float\",\n",
       "\"column\":\"y\"\n",
       "}]\n",
       "},\n",
       "\"ggsize\":{\n",
       "\"width\":2000.0,\n",
       "\"height\":500.0\n",
       "},\n",
       "\"ggtitle\":{\n",
       "\"text\":\"DOW Adj Close\"\n",
       "},\n",
       "\"guides\":{\n",
       "\"x\":{\n",
       "\"title\":\"Day\"\n",
       "},\n",
       "\"y\":{\n",
       "\"title\":\"Adj Close\"\n",
       "}\n",
       "},\n",
       "\"theme\":{\n",
       "\"name\":\"classic\",\n",
       "\"flavor\":\"high_contrast_dark\"\n",
       "},\n",
       "\"kind\":\"plot\",\n",
       "\"scales\":[],\n",
       "\"layers\":[{\n",
       "\"geom\":\"line\",\n",
       "\"mapping\":{\n",
       "},\n",
       "\"data_meta\":{\n",
       "},\n",
       "\"data\":{\n",
       "}\n",
       "}],\n",
       "\"metainfo_list\":[]\n",
       "};\n",
       "           var plotContainer = document.getElementById(\"sYohkx\");\n",
       "           window.letsPlotCall(function() {{\n",
       "               LetsPlot.buildPlotFromProcessedSpecs(plotSpec, -1, -1, plotContainer);\n",
       "           }});\n",
       "       })();\n",
       "   </script>"
      ],
      "text/plain": [
       "<lets_plot.plot.core.PlotSpec at 0x2c4c38368e0>"
      ]
     },
     "execution_count": 91,
     "metadata": {},
     "output_type": "execute_result"
    }
   ],
   "source": [
    "LetsPlot.setup_html()\n",
    "\n",
    "x_axis: list[int] = list(i for i in range(0, dow_adj_close.size))\n",
    "y_axis: np.array = dow_adj_close\n",
    "\n",
    "plot_dict = {'x': x_axis, 'y': y_axis}\n",
    "(\n",
    "    ggplot(\n",
    "        plot_dict, \n",
    "        aes(x = 'x', y = 'y')\n",
    "    )\n",
    "    + geom_line()\n",
    "    + ggsize(2000,500)\n",
    "    + ggtitle('DOW Adj Close')\n",
    "    + xlab('Day')\n",
    "    + ylab('Adj Close')\n",
    "    + theme_classic()\n",
    "    + flavor_high_contrast_dark()\n",
    ")"
   ]
  },
  {
   "cell_type": "markdown",
   "metadata": {},
   "source": [
    "#### Question 10-5. Now over-plot this plot with a `red dot` marker for every day where the dow volume was greater than 5.5 billion."
   ]
  },
  {
   "cell_type": "code",
   "execution_count": 92,
   "metadata": {},
   "outputs": [
    {
     "data": {
      "text/plain": [
       "<matplotlib.collections.PathCollection at 0x2c4c0c11d60>"
      ]
     },
     "execution_count": 92,
     "metadata": {},
     "output_type": "execute_result"
    },
    {
     "data": {
      "image/png": "[encoded data removed]",
      "text/plain": [
       "<Figure size 2000x1000 with 1 Axes>"
      ]
     },
     "metadata": {},
     "output_type": "display_data"
    }
   ],
   "source": [
    "plt.figure(figsize = (20,10))\n",
    "plt.plot(dow_adj_close)\n",
    "plt.scatter(\n",
    "    x = big_volume_index, \n",
    "    y = dow_adj_close[big_volume_index],\n",
    "    color = 'red'\n",
    ")"
   ]
  },
  {
   "cell_type": "code",
   "execution_count": 93,
   "metadata": {},
   "outputs": [
    {
     "data": {
      "text/html": [
       "   <div id=\"8N3oW6\"></div>\n",
       "   <script type=\"text/javascript\" data-lets-plot-script=\"plot\">\n",
       "       (function() {\n",
       "           var plotSpec={\n",
       "\"mapping\":{\n",
       "},\n",
       "\"data_meta\":{\n",
       "},\n",
       "\"ggsize\":{\n",
       "\"width\":2000.0,\n",
       "\"height\":500.0\n",
       "},\n",
       "\"ggtitle\":{\n",
       "\"text\":\"DOW Adj Close\"\n",
       "},\n",
       "\"guides\":{\n",
       "\"x\":{\n",
       "\"title\":\"Day\"\n",
       "},\n",
       "\"y\":{\n",
       "\"title\":\"Adj Close\"\n",
       "}\n",
       "},\n",
       "\"theme\":{\n",
       "\"name\":\"classic\",\n",
       "\"flavor\":\"high_contrast_dark\"\n",
       "},\n",
       "\"kind\":\"plot\",\n",
       "\"scales\":[],\n",
       "\"layers\":[{\n",
       "\"geom\":\"line\",\n",
       "\"data\":{\n",
       "\"x\":[0.0,1.0,2.0,3.0,4.0,5.0,6.0,7.0,8.0,9.0,10.0,11.0,12.0,13.0,14.0,15.0,16.0,17.0,18.0,19.0,20.0,21.0,22.0,23.0,24.0,25.0,26.0,27.0,28.0,29.0,30.0,31.0,32.0,33.0,34.0,35.0,36.0,37.0,38.0,39.0,40.0,41.0,42.0,43.0,44.0,45.0,46.0,47.0,48.0,49.0,50.0,51.0,52.0,53.0,54.0,55.0,56.0,57.0,58.0,59.0,60.0,61.0,62.0,63.0,64.0,65.0,66.0,67.0,68.0,69.0,70.0,71.0,72.0,73.0,74.0,75.0,76.0,77.0,78.0,79.0,80.0,81.0,82.0,83.0,84.0,85.0,86.0,87.0,88.0,89.0,90.0,91.0,92.0,93.0,94.0,95.0,96.0,97.0,98.0,99.0,100.0,101.0,102.0,103.0,104.0,105.0,106.0,107.0,108.0,109.0,110.0,111.0,112.0,113.0,114.0,115.0,116.0,117.0,118.0,119.0,120.0,121.0,122.0,123.0,124.0,125.0,126.0,127.0,128.0,129.0,130.0,131.0,132.0,133.0,134.0,135.0,136.0,137.0,138.0,139.0,140.0,141.0,142.0,143.0,144.0,145.0,146.0,147.0,148.0,149.0,150.0,151.0,152.0,153.0,154.0,155.0,156.0,157.0,158.0,159.0,160.0,161.0,162.0,163.0,164.0,165.0,166.0,167.0],\n",
       "\"y\":[13043.96,13056.72,12800.18,12827.49,12589.07,12735.31,12853.09,12606.3,12778.15,12501.11,12466.16,12159.21,12099.3,11971.19,12270.17,12378.61,12207.17,12383.89,12480.3,12442.83,12650.36,12743.19,12635.16,12265.13,12200.1,12247.0,12182.13,12240.01,12373.41,12552.24,12376.98,12348.21,12337.22,12427.26,12284.3,12381.02,12570.22,12684.92,12694.28,12582.18,12266.39,12258.9,12213.8,12254.99,12040.39,11893.69,11740.15,12156.81,12110.24,12145.74,11951.09,11972.25,12392.66,12099.66,12361.32,12548.64,12532.6,12422.86,12302.46,12216.4,12262.89,12654.36,12608.92,12626.03,12609.42,12612.43,12576.44,12527.26,12581.98,12325.42,12302.06,12362.47,12619.27,12620.49,12849.36,12825.02,12720.23,12763.22,12848.95,12891.86,12871.75,12831.94,12820.13,13010.0,13058.2,12969.54,13020.83,12814.35,12866.78,12745.88,12876.05,12832.18,12898.38,12992.66,12986.8,13028.16,12828.68,12601.19,12625.62,12479.63,12548.35,12594.03,12646.22,12638.32,12503.82,12402.85,12390.48,12604.45,12209.81,12280.32,12289.76,12083.77,12141.58,12307.35,12269.08,12160.3,12029.06,12063.09,11842.69,11842.36,11807.43,11811.83,11453.42,11346.51,11350.01,11382.26,11215.51,11288.53,11231.96,11384.21,11147.44,11229.02,11100.54,11055.19,10962.54,11239.28,11446.66,11496.57,11467.34,11602.5,11632.38,11349.28,11370.69,11131.08,11397.56,11583.69,11378.02,11326.32,11284.15,11615.77,11656.07,11431.43,11734.32,11782.35,11642.47,11532.96,11615.93,11659.9,11479.39,11348.55,11417.43,11430.21,11628.06,11386.25,11412.87,11502.51,11715.18,11543.55]\n",
       "},\n",
       "\"mapping\":{\n",
       "\"x\":\"x\",\n",
       "\"y\":\"y\"\n",
       "},\n",
       "\"data_meta\":{\n",
       "\"series_annotations\":[{\n",
       "\"type\":\"int\",\n",
       "\"column\":\"x\"\n",
       "},{\n",
       "\"type\":\"float\",\n",
       "\"column\":\"y\"\n",
       "}]\n",
       "}\n",
       "},{\n",
       "\"geom\":\"point\",\n",
       "\"data\":{\n",
       "\"x\":[12.0,13.0,15.0,51.0,54.0,123.0,125.0,129.0,131.0,132.0,134.0,135.0,136.0,137.0,139.0,140.0,141.0,145.0],\n",
       "\"y\":[12099.3,11971.19,12378.61,11972.25,12361.32,11346.51,11382.26,11384.21,11229.02,11100.54,10962.54,11239.28,11446.66,11496.57,11602.5,11632.38,11349.28,11583.69]\n",
       "},\n",
       "\"mapping\":{\n",
       "\"x\":\"x\",\n",
       "\"y\":\"y\"\n",
       "},\n",
       "\"show_legend\":true,\n",
       "\"data_meta\":{\n",
       "\"series_annotations\":[{\n",
       "\"type\":\"int\",\n",
       "\"column\":\"x\"\n",
       "},{\n",
       "\"type\":\"float\",\n",
       "\"column\":\"y\"\n",
       "}]\n",
       "},\n",
       "\"color\":\"red\"\n",
       "}],\n",
       "\"metainfo_list\":[]\n",
       "};\n",
       "           var plotContainer = document.getElementById(\"8N3oW6\");\n",
       "           window.letsPlotCall(function() {{\n",
       "               LetsPlot.buildPlotFromProcessedSpecs(plotSpec, -1, -1, plotContainer);\n",
       "           }});\n",
       "       })();\n",
       "   </script>"
      ],
      "text/plain": [
       "<lets_plot.plot.core.PlotSpec at 0x2c4c0c5d340>"
      ]
     },
     "execution_count": 93,
     "metadata": {},
     "output_type": "execute_result"
    }
   ],
   "source": [
    "(\n",
    "    ggplot()\n",
    "    + geom_line(\n",
    "        aes(x = 'x', y = 'y'), \n",
    "        data = plot_dict, \n",
    "    )\n",
    "    + geom_point(\n",
    "        aes(x = 'x', y = 'y'),\n",
    "        data = {\n",
    "            'x': big_volume_index, \n",
    "            'y': dow_adj_close[big_volume_index]\n",
    "        }, \n",
    "        color = 'red',\n",
    "        show_legend=True\n",
    "    )\n",
    "    + ggsize(2000,500)\n",
    "    + ggtitle('DOW Adj Close')\n",
    "    + xlab('Day')\n",
    "    + ylab('Adj Close')\n",
    "    + theme_classic()\n",
    "    + flavor_high_contrast_dark()\n",
    ")"
   ]
  },
  {
   "cell_type": "markdown",
   "metadata": {},
   "source": [
    "### <font color=\"green\">\"Thank you for putting your efforts into the exercise problem sets 💯\"</font>"
   ]
  }
 ],
 "metadata": {
  "kernelspec": {
   "display_name": "Python 3 (ipykernel)",
   "language": "python",
   "name": "python3"
  },
  "language_info": {
   "codemirror_mode": {
    "name": "ipython",
    "version": 3
   },
   "file_extension": ".py",
   "mimetype": "text/x-python",
   "name": "python",
   "nbconvert_exporter": "python",
   "pygments_lexer": "ipython3",
   "version": "3.9.2"
  }
 },
 "nbformat": 4,
 "nbformat_minor": 4
}
