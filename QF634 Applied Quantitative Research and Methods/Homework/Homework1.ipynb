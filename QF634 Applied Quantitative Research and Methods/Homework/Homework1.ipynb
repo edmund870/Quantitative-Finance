{
 "cells": [
  {
   "cell_type": "code",
   "execution_count": 1,
   "metadata": {},
   "outputs": [],
   "source": [
    "import pandas as pd\n",
    "\n",
    "from sklearn.linear_model import LinearRegression, Ridge, Lasso\n",
    "from sklearn.model_selection import train_test_split, cross_val_score\n",
    "from sklearn.metrics import r2_score"
   ]
  },
  {
   "cell_type": "code",
   "execution_count": 2,
   "metadata": {},
   "outputs": [],
   "source": [
    "cruise = pd.read_csv(\"Data/cruise_ship_info.csv\")"
   ]
  },
  {
   "cell_type": "code",
   "execution_count": 3,
   "metadata": {},
   "outputs": [
    {
     "data": {
      "text/plain": [
       "Index(['Ship_name', 'Cruise_line', 'Age', 'TonnageGTx1000', 'passengersx100',\n",
       "       'lengthx100ft', 'cabinsx100', 'spaceratio', 'crewx100'],\n",
       "      dtype='object')"
      ]
     },
     "execution_count": 3,
     "metadata": {},
     "output_type": "execute_result"
    }
   ],
   "source": [
    "cruise.columns"
   ]
  },
  {
   "cell_type": "code",
   "execution_count": 4,
   "metadata": {},
   "outputs": [],
   "source": [
    "X = cruise[\n",
    "    [\n",
    "        \"Age\",\n",
    "        \"TonnageGTx1000\",\n",
    "        \"passengersx100\",\n",
    "        \"lengthx100ft\",\n",
    "        \"cabinsx100\",\n",
    "        \"spaceratio\",\n",
    "    ]\n",
    "]\n",
    "\n",
    "Y = cruise[[\"crewx100\"]]"
   ]
  },
  {
   "cell_type": "code",
   "execution_count": 5,
   "metadata": {},
   "outputs": [],
   "source": [
    "X_train, X_test, y_train, y_test = train_test_split(\n",
    "    X, Y, train_size=0.70, random_state=0\n",
    ")\n",
    "\n",
    "X_train_mean = X_train.mean()\n",
    "X_train_std = X_train.std()\n",
    "X_train = (X_train - X_train_mean) / X_train_std\n",
    "\n",
    "X_test = (X_test - X_train_mean) / X_train_std"
   ]
  },
  {
   "cell_type": "code",
   "execution_count": 6,
   "metadata": {},
   "outputs": [
    {
     "name": "stdout",
     "output_type": "stream",
     "text": [
      "Linreg_train_R2_score:  0.9118485946473178\n",
      "Linreg_test_R2_score:  0.957979988701403\n"
     ]
    }
   ],
   "source": [
    "Linreg = LinearRegression()\n",
    "Linreg.fit(X_train, y_train)\n",
    "y_pred_Linreg_train = Linreg.predict(X_train)\n",
    "\n",
    "r2_score_Linreg_train = r2_score(y_train, y_pred_Linreg_train)\n",
    "r2_score_Linreg_test = r2_score(y_test, Linreg.predict(X_test))\n",
    "\n",
    "print(\"Linreg_train_R2_score: \", r2_score_Linreg_train)\n",
    "print(\"Linreg_test_R2_score: \", r2_score_Linreg_test)"
   ]
  },
  {
   "cell_type": "code",
   "execution_count": 7,
   "metadata": {},
   "outputs": [
    {
     "name": "stdout",
     "output_type": "stream",
     "text": [
      "ridge_reg_train_R2_score:  0.911834722034894\n",
      "ridge_reg_test_R2_score:  0.9581695082579529\n"
     ]
    }
   ],
   "source": [
    "ridge_reg = Ridge(alpha=0.05)\n",
    "ridge_reg.fit(X_train, y_train)\n",
    "ridge_reg_train = ridge_reg.predict(X_train)\n",
    "\n",
    "ridge_reg_train = r2_score(y_train, ridge_reg_train)\n",
    "ridge_reg_test = r2_score(y_test, ridge_reg.predict(X_test))\n",
    "print(\"ridge_reg_train_R2_score: \", ridge_reg_train)\n",
    "print(\"ridge_reg_test_R2_score: \", ridge_reg_test)"
   ]
  },
  {
   "cell_type": "code",
   "execution_count": 8,
   "metadata": {},
   "outputs": [
    {
     "name": "stdout",
     "output_type": "stream",
     "text": [
      "Lasso_reg_train_R2_score:  0.9109007370544493\n",
      "Lasso_reg_test_R2_score:  0.9567206919364786\n"
     ]
    }
   ],
   "source": [
    "Lasso_reg = Lasso(alpha=0.01)\n",
    "Lasso_reg.fit(X_train, y_train)\n",
    "Lasso_reg_train = Lasso_reg.predict(X_train)\n",
    "\n",
    "Lasso_reg_train = r2_score(y_train, Lasso_reg_train)\n",
    "Lasso_reg_test = r2_score(y_test, Lasso_reg.predict(X_test))\n",
    "print(\"Lasso_reg_train_R2_score: \", Lasso_reg_train)\n",
    "print(\"Lasso_reg_test_R2_score: \", Lasso_reg_test)"
   ]
  },
  {
   "cell_type": "code",
   "execution_count": 9,
   "metadata": {},
   "outputs": [
    {
     "name": "stdout",
     "output_type": "stream",
     "text": [
      "0.90645508 mean R2 with a standard deviation of 0.05355125\n"
     ]
    }
   ],
   "source": [
    "scoresLinreg = cross_val_score(\n",
    "    estimator=Linreg,\n",
    "    X=X_train,\n",
    "    y=y_train,\n",
    "    cv=4,\n",
    ")\n",
    "print(\n",
    "    \"%0.8f mean R2 with a standard deviation of %0.8f\"\n",
    "    % (scoresLinreg.mean(), scoresLinreg.std())\n",
    ")"
   ]
  },
  {
   "cell_type": "code",
   "execution_count": 10,
   "metadata": {},
   "outputs": [
    {
     "name": "stdout",
     "output_type": "stream",
     "text": [
      "0.90668073 mean R2 with a standard deviation of 0.05380481\n"
     ]
    }
   ],
   "source": [
    "scoresLinreg = cross_val_score(\n",
    "    estimator=ridge_reg,\n",
    "    X=X_train,\n",
    "    y=y_train,\n",
    "    cv=4,\n",
    ")\n",
    "print(\n",
    "    \"%0.8f mean R2 with a standard deviation of %0.8f\"\n",
    "    % (scoresLinreg.mean(), scoresLinreg.std())\n",
    ")"
   ]
  }
 ],
 "metadata": {
  "kernelspec": {
   "display_name": "Python 3",
   "language": "python",
   "name": "python3"
  },
  "language_info": {
   "codemirror_mode": {
    "name": "ipython",
    "version": 3
   },
   "file_extension": ".py",
   "mimetype": "text/x-python",
   "name": "python",
   "nbconvert_exporter": "python",
   "pygments_lexer": "ipython3",
   "version": "3.9.2"
  }
 },
 "nbformat": 4,
 "nbformat_minor": 2
}
